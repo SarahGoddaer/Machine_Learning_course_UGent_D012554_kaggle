{
  "nbformat": 4,
  "nbformat_minor": 0,
  "metadata": {
    "colab": {
      "name": "Untitled0.ipynb",
      "provenance": [],
      "authorship_tag": "ABX9TyPO0WG4rTZzxC/5AV8QfXmQ",
      "include_colab_link": true
    },
    "kernelspec": {
      "name": "python3",
      "display_name": "Python 3"
    }
  },
  "cells": [
    {
      "cell_type": "markdown",
      "metadata": {
        "id": "view-in-github",
        "colab_type": "text"
      },
      "source": [
        "<a href=\"https://colab.research.google.com/github/SarahGoddaer/Machine_Learning_course_UGent_D012554_kaggle/blob/master/Work_in_progress_Kaggle_eye_blinking_prediciton.ipynb\" target=\"_parent\"><img src=\"https://colab.research.google.com/assets/colab-badge.svg\" alt=\"Open In Colab\"/></a>"
      ]
    },
    {
      "cell_type": "markdown",
      "metadata": {
        "id": "iKrpanO04Awy",
        "colab_type": "text"
      },
      "source": [
        ""
      ]
    },
    {
      "cell_type": "markdown",
      "metadata": {
        "id": "JV-YCRSx3jo2",
        "colab_type": "text"
      },
      "source": [
        "# **<font color='red'>WORK IN PROGRESS:</font> Final report: Kaggle eye blinking prediciton.**"
      ]
    },
    {
      "cell_type": "markdown",
      "metadata": {
        "id": "J-lPeiSy5fhI",
        "colab_type": "text"
      },
      "source": [
        "*For the EEG Eye blinking prediction project you forked the course GitHub repository that contains a starter notebook. At the end of this notebook a file is written with the predictions you made for the test set.\n",
        "Notice that this predictions file is saved on the cloud server machine. To download this file to your local machine you need to click the \"Files\" icon that you find in the sidebar on the left.\n",
        "Submit this file to the Kaggle competition website to get an evaluation of your predictions on the public leaderboard.\n",
        "For the final written report I want you to create a notebook with a scientific description of your analysis. You have to compare the prediction performance of your two best prediction models. This includes data pre-processing, hyperparameter tuning and model evaluation. I also want you to compare the actual predictions made by each model.\n",
        "To create a new notebook go the \"File\" in the menu bar and click \"New notebook\". Do not forget to save your notebook to your GitHub account. You can create as many notebooks as you want, but the final report should be in a notebook with the name \"Kaggle_eye_blinking_prediciton.ipynb\"\n",
        "You will be evaluated (equal points) on clarity of the report, scientific insight and complexity of the analysis (effort).\n",
        "For the oral presentation you have 15 minutes to present your report AND explain the learning algorithm that computed one of the two ML models in your report. For this you can make use of the slides in the course. There will be a final 5 minute question round as well.\n",
        "You will be evaluated (equal points) on clarity of the presentation, understanding of the learning algorithm and complexity of the analysis (effort).*"
      ]
    },
    {
      "cell_type": "code",
      "metadata": {
        "id": "GSLsI6E-5m6I",
        "colab_type": "code",
        "colab": {}
      },
      "source": [
        ""
      ],
      "execution_count": 0,
      "outputs": []
    }
  ]
}