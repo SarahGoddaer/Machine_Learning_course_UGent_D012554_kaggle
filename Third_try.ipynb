{
  "nbformat": 4,
  "nbformat_minor": 0,
  "metadata": {
    "colab": {
      "name": "Third try.ipynb",
      "provenance": [],
      "authorship_tag": "ABX9TyPq8aXuHM09C/WDr+8JwjMM",
      "include_colab_link": true
    },
    "kernelspec": {
      "name": "python3",
      "display_name": "Python 3"
    }
  },
  "cells": [
    {
      "cell_type": "markdown",
      "metadata": {
        "id": "view-in-github",
        "colab_type": "text"
      },
      "source": [
        "<a href=\"https://colab.research.google.com/github/SarahGoddaer/Machine_Learning_course_UGent_D012554_kaggle/blob/master/Third_try.ipynb\" target=\"_parent\"><img src=\"https://colab.research.google.com/assets/colab-badge.svg\" alt=\"Open In Colab\"/></a>"
      ]
    },
    {
      "cell_type": "markdown",
      "metadata": {
        "id": "VO42b698Li6l",
        "colab_type": "text"
      },
      "source": [
        "#Third try\n",
        "\n",
        "I'm going to try another more complex model, because from the CV results of the Logistic regression model, I see that the score, at least on the training set, could get much better."
      ]
    },
    {
      "cell_type": "code",
      "metadata": {
        "id": "1mubZ8cOMPmy",
        "colab_type": "code",
        "colab": {}
      },
      "source": [
        "%matplotlib inline\n",
        "import pandas as pd\n",
        "import matplotlib.pyplot as plt\n",
        "import seaborn as sns\n",
        "from sklearn.model_selection import cross_val_score\n",
        "import numpy as np\n",
        "from sklearn import metrics"
      ],
      "execution_count": 0,
      "outputs": []
    },
    {
      "cell_type": "markdown",
      "metadata": {
        "id": "YRNem3gWMR9Q",
        "colab_type": "text"
      },
      "source": [
        "**Loading data**"
      ]
    },
    {
      "cell_type": "code",
      "metadata": {
        "id": "NUTdOXDgL98R",
        "colab_type": "code",
        "colab": {}
      },
      "source": [
        "trainset = pd.read_csv(\"https://raw.githubusercontent.com/sdgroeve/Machine_Learning_course_UGent_D012554_kaggle/master/eeg_train.csv\")\n",
        "testset = pd.read_csv(\"https://raw.githubusercontent.com/sdgroeve/Machine_Learning_course_UGent_D012554_kaggle/master/eeg_test.csv\")\n",
        "\n",
        "features = trainset.copy()\n",
        "features.pop('label')\n",
        "feature_names = list(features.columns)\n",
        "\n",
        "test_features = testset.copy()\n",
        "test_features.pop('index')\n",
        "test_feature_names = list(test_features.columns)"
      ],
      "execution_count": 0,
      "outputs": []
    },
    {
      "cell_type": "markdown",
      "metadata": {
        "id": "mA8S-BxXNUzI",
        "colab_type": "text"
      },
      "source": [
        "**Pre-processing: StandardScaler**"
      ]
    },
    {
      "cell_type": "code",
      "metadata": {
        "id": "l02JYG30MEqn",
        "colab_type": "code",
        "colab": {
          "base_uri": "https://localhost:8080/",
          "height": 286
        },
        "outputId": "41996ead-be31-4708-e907-5cc1a7058d9f"
      },
      "source": [
        "from sklearn import preprocessing\n",
        "from sklearn.preprocessing import StandardScaler\n",
        "\n",
        "scaler = preprocessing.StandardScaler()\n",
        "features = scaler.fit_transform(features)\n",
        "test_features = scaler.transform(test_features)\n",
        "\n",
        "features = pd.DataFrame(features, columns=feature_names)\n",
        "test_features = pd.DataFrame(test_features, columns=test_feature_names)\n",
        "features.boxplot()"
      ],
      "execution_count": 4,
      "outputs": [
        {
          "output_type": "execute_result",
          "data": {
            "text/plain": [
              "<matplotlib.axes._subplots.AxesSubplot at 0x7f3d1c7c4f60>"
            ]
          },
          "metadata": {
            "tags": []
          },
          "execution_count": 4
        },
        {
          "output_type": "display_data",
          "data": {
            "image/png": "[encoded data removed]",
            "text/plain": [
              "<Figure size 432x288 with 1 Axes>"
            ]
          },
          "metadata": {
            "tags": [],
            "needs_background": "light"
          }
        }
      ]
    },
    {
      "cell_type": "markdown",
      "metadata": {
        "id": "ddRhbbS3NcKP",
        "colab_type": "text"
      },
      "source": [
        "**Choosing a model**: This time I'll try with the more complicated **Support vector machines** algorithm. This also distinguishes two classes."
      ]
    },
    {
      "cell_type": "code",
      "metadata": {
        "id": "BcLjbpzYNPlA",
        "colab_type": "code",
        "colab": {}
      },
      "source": [
        "from sklearn.svm import SVC\n",
        "\n",
        "model = SVC()"
      ],
      "execution_count": 0,
      "outputs": []
    },
    {
      "cell_type": "code",
      "metadata": {
        "id": "fmoS0L8PRc3C",
        "colab_type": "code",
        "colab": {
          "base_uri": "https://localhost:8080/",
          "height": 35
        },
        "outputId": "b0358c89-3f06-4418-d004-bc412fb2fced"
      },
      "source": [
        "score_train = cross_val_score(model, features, trainset.label,scoring='roc_auc', cv= 10).mean()\n",
        "print('AUC score for trainset: '+ str(score_train))"
      ],
      "execution_count": 6,
      "outputs": [
        {
          "output_type": "stream",
          "text": [
            "AUC score for trainset: 0.8942757252940738\n"
          ],
          "name": "stdout"
        }
      ]
    },
    {
      "cell_type": "markdown",
      "metadata": {
        "id": "6aIu_4VuRrL_",
        "colab_type": "text"
      },
      "source": [
        "Waaw you can already see that this score is much better then the score obtained with Logistic regression, which was around 66%.\n",
        "\n",
        "Maybe we could optimize this model a bit more, so I'm now going to search better hyperparameters inherent to this model: **Parameter tuning** Because I think this is the next logical step, right?"
      ]
    },
    {
      "cell_type": "code",
      "metadata": {
        "id": "huo8_81PR7CX",
        "colab_type": "code",
        "colab": {
          "base_uri": "https://localhost:8080/",
          "height": 90
        },
        "outputId": "5591deef-5911-4c18-ca3c-338ef676a42c"
      },
      "source": [
        "#How do the parameters look like in this model?\n",
        "model.get_params"
      ],
      "execution_count": 7,
      "outputs": [
        {
          "output_type": "execute_result",
          "data": {
            "text/plain": [
              "<bound method BaseEstimator.get_params of SVC(C=1.0, break_ties=False, cache_size=200, class_weight=None, coef0=0.0,\n",
              "    decision_function_shape='ovr', degree=3, gamma='scale', kernel='rbf',\n",
              "    max_iter=-1, probability=False, random_state=None, shrinking=True,\n",
              "    tol=0.001, verbose=False)>"
            ]
          },
          "metadata": {
            "tags": []
          },
          "execution_count": 7
        }
      ]
    },
    {
      "cell_type": "code",
      "metadata": {
        "id": "Z64O4W8xShSu",
        "colab_type": "code",
        "colab": {
          "base_uri": "https://localhost:8080/",
          "height": 109
        },
        "outputId": "0413d0b3-eb25-45b6-e455-9096968bf558"
      },
      "source": [
        "from sklearn.model_selection import GridSearchCV\n",
        "\n",
        "Cs = [0.1,1,10,100,1000]\n",
        "gammas = ['scale', 'auto']\n",
        "\n",
        "model = SVC()\n",
        "params = dict(C=Cs, gamma=gammas)\n",
        "grid_search = GridSearchCV(model, param_grid=params)\n",
        "grid_search.fit(features, trainset.label)\n",
        "\n",
        "print(grid_search.best_estimator_)\n",
        "print(grid_search.best_params_)"
      ],
      "execution_count": 10,
      "outputs": [
        {
          "output_type": "stream",
          "text": [
            "SVC(C=100, break_ties=False, cache_size=200, class_weight=None, coef0=0.0,\n",
            "    decision_function_shape='ovr', degree=3, gamma='scale', kernel='rbf',\n",
            "    max_iter=-1, probability=False, random_state=None, shrinking=True,\n",
            "    tol=0.001, verbose=False)\n",
            "{'C': 100, 'gamma': 'scale'}\n"
          ],
          "name": "stdout"
        }
      ]
    },
    {
      "cell_type": "markdown",
      "metadata": {
        "id": "XnPfuf4YW7BZ",
        "colab_type": "text"
      },
      "source": [
        "Well ok, these results suggest to use C=100 as hyperparameter. I can see why GridsearchCV chooses such a high value, but I have to be carefull that this won't give too much overfitting on the trainset..."
      ]
    },
    {
      "cell_type": "code",
      "metadata": {
        "id": "h2graZK6YmNe",
        "colab_type": "code",
        "colab": {
          "base_uri": "https://localhost:8080/",
          "height": 35
        },
        "outputId": "d330d2c0-2660-45d3-a449-aebfaf19d2b6"
      },
      "source": [
        "model= SVC(C=100)\n",
        "score_train = cross_val_score(model, features, trainset.label,scoring='roc_auc', cv= 10).mean()\n",
        "print('AUC score for trainset: '+ str(score_train))"
      ],
      "execution_count": 14,
      "outputs": [
        {
          "output_type": "stream",
          "text": [
            "AUC score for trainset: 0.9605496725496728\n"
          ],
          "name": "stdout"
        }
      ]
    },
    {
      "cell_type": "markdown",
      "metadata": {
        "id": "JidUiZZaadrF",
        "colab_type": "text"
      },
      "source": [
        "Ok, this very high score is indeed what I expected, but probably this will not give even high results on the test set later on. Looking at the other possibitlities I selected will give us:"
      ]
    },
    {
      "cell_type": "code",
      "metadata": {
        "id": "quoaJhVOauW3",
        "colab_type": "code",
        "colab": {
          "base_uri": "https://localhost:8080/",
          "height": 201
        },
        "outputId": "b6fe44da-5f2e-4c27-e1c9-50acd9fae2ef"
      },
      "source": [
        "means = grid_search.cv_results_['mean_test_score']\n",
        "stds = grid_search.cv_results_['std_test_score']\n",
        "\n",
        "for mean_score, std, params in zip(means, stds, grid_search.cv_results_['params']):\n",
        "    print(\"{:.3f} (+/-{:.3f}) for {}\".format(mean_score, std * 2, params))"
      ],
      "execution_count": 15,
      "outputs": [
        {
          "output_type": "stream",
          "text": [
            "0.706 (+/-0.044) for {'C': 0.1, 'gamma': 'scale'}\n",
            "0.705 (+/-0.045) for {'C': 0.1, 'gamma': 'auto'}\n",
            "0.812 (+/-0.035) for {'C': 1, 'gamma': 'scale'}\n",
            "0.811 (+/-0.038) for {'C': 1, 'gamma': 'auto'}\n",
            "0.870 (+/-0.042) for {'C': 10, 'gamma': 'scale'}\n",
            "0.870 (+/-0.045) for {'C': 10, 'gamma': 'auto'}\n",
            "0.890 (+/-0.031) for {'C': 100, 'gamma': 'scale'}\n",
            "0.889 (+/-0.035) for {'C': 100, 'gamma': 'auto'}\n",
            "0.875 (+/-0.046) for {'C': 1000, 'gamma': 'scale'}\n",
            "0.873 (+/-0.047) for {'C': 1000, 'gamma': 'auto'}\n"
          ],
          "name": "stdout"
        }
      ]
    },
    {
      "cell_type": "markdown",
      "metadata": {
        "id": "HMu6-slEbLA2",
        "colab_type": "text"
      },
      "source": [
        "There you can see that **C = 10** can also give good performance in this model. I am more willing to use this value instead of the C = 100, preventing overfitting. This will then result in a CV AUC score mentioned below:"
      ]
    },
    {
      "cell_type": "code",
      "metadata": {
        "id": "OVhfoPp9bsZI",
        "colab_type": "code",
        "colab": {
          "base_uri": "https://localhost:8080/",
          "height": 35
        },
        "outputId": "942668a6-39b0-44e4-f177-1f7575f00d7e"
      },
      "source": [
        "model= SVC(C=10)\n",
        "score_train = cross_val_score(model, features, trainset.label,scoring='roc_auc', cv= 10).mean()\n",
        "print('AUC score for trainset: '+ str(score_train))"
      ],
      "execution_count": 18,
      "outputs": [
        {
          "output_type": "stream",
          "text": [
            "AUC score for trainset: 0.9496525014231436\n"
          ],
          "name": "stdout"
        }
      ]
    },
    {
      "cell_type": "code",
      "metadata": {
        "id": "Ya9vDYVgcWW7",
        "colab_type": "code",
        "colab": {}
      },
      "source": [
        ""
      ],
      "execution_count": 0,
      "outputs": []
    }
  ]
}