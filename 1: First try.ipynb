{
  "nbformat": 4,
  "nbformat_minor": 0,
  "metadata": {
    "colab": {
      "name": "Untitled1.ipynb",
      "provenance": [],
      "authorship_tag": "ABX9TyNzNH8LnojPzHKAVwZwN9rx",
      "include_colab_link": true
    },
    "kernelspec": {
      "name": "python3",
      "display_name": "Python 3"
    }
  },
  "cells": [
    {
      "cell_type": "markdown",
      "metadata": {
        "id": "view-in-github",
        "colab_type": "text"
      },
      "source": [
        "<a href=\"https://colab.research.google.com/github/SarahGoddaer/Machine_Learning_course_UGent_D012554_kaggle/blob/master/First%20try.ipynb\" target=\"_parent\"><img src=\"https://colab.research.google.com/assets/colab-badge.svg\" alt=\"Open In Colab\"/></a>"
      ]
    },
    {
      "cell_type": "markdown",
      "metadata": {
        "id": "N5uSPDmd-_hZ",
        "colab_type": "text"
      },
      "source": [
        "### First try"
      ]
    },
    {
      "cell_type": "markdown",
      "metadata": {
        "id": "eeAgVKH0_Dkj",
        "colab_type": "text"
      },
      "source": [
        "Loading train and testset."
      ]
    },
    {
      "cell_type": "code",
      "metadata": {
        "id": "CJaejk3J_HcZ",
        "colab_type": "code",
        "outputId": "23bccdfa-a901-49ed-f44b-cf36ef1e0ca5",
        "colab": {
          "base_uri": "https://localhost:8080/",
          "height": 459
        }
      },
      "source": [
        "%matplotlib inline\n",
        "import pandas as pd\n",
        "import matplotlib.pyplot as plt\n",
        "import seaborn as sns\n",
        "\n",
        "trainset = pd.read_csv(\"https://raw.githubusercontent.com/sdgroeve/Machine_Learning_course_UGent_D012554_kaggle/master/eeg_train.csv\")\n",
        "testset = pd.read_csv(\"https://raw.githubusercontent.com/sdgroeve/Machine_Learning_course_UGent_D012554_kaggle/master/eeg_test.csv\")\n",
        "\n",
        "print(trainset.head())\n",
        "print(trainset.shape)\n",
        "print(testset.head())\n",
        "print(testset.shape)\n",
        "print(trainset.label.value_counts())"
      ],
      "execution_count": 1,
      "outputs": [
        {
          "output_type": "stream",
          "text": [
            "/usr/local/lib/python3.6/dist-packages/statsmodels/tools/_testing.py:19: FutureWarning: pandas.util.testing is deprecated. Use the functions in the public API at pandas.testing instead.\n",
            "  import pandas.util.testing as tm\n"
          ],
          "name": "stderr"
        },
        {
          "output_type": "stream",
          "text": [
            "       AF3       F7       F3      FC5  ...       F4       F8      AF4  label\n",
            "0  4299.49  3997.44  4277.95  4116.92  ...  4278.97  4600.00  4369.23      1\n",
            "1  4302.05  3985.64  4261.03  4129.74  ...  4283.08  4607.18  4358.46      0\n",
            "2  4321.03  4015.90  4265.13  4122.56  ...  4286.15  4608.21  4371.79      0\n",
            "3  4408.21  4104.10  4380.00  4232.31  ...  4388.21  4715.90  4464.10      0\n",
            "4  4347.18  3975.38  4266.67  4102.56  ...  4313.33  4664.10  4411.79      1\n",
            "\n",
            "[5 rows x 15 columns]\n",
            "(2000, 15)\n",
            "       AF3       F7       F3      FC5  ...       F4       F8      AF4  index\n",
            "0  4296.41  4040.51  4253.33  4124.10  ...  4268.72  4598.46  4342.56      0\n",
            "1  4291.28  3994.36  4247.18  4102.56  ...  4260.51  4593.33  4337.95      1\n",
            "2  4299.49  4019.49  4269.74  4116.41  ...  4280.51  4596.92  4350.26      2\n",
            "3  4280.00  4004.62  4263.59  4120.51  ...  4271.79  4608.72  4344.10      3\n",
            "4  4317.44  3968.72  4260.51  4101.54  ...  4282.05  4592.31  4372.82      4\n",
            "\n",
            "[5 rows x 15 columns]\n",
            "(12892, 15)\n",
            "0    1099\n",
            "1     901\n",
            "Name: label, dtype: int64\n"
          ],
          "name": "stdout"
        }
      ]
    },
    {
      "cell_type": "markdown",
      "metadata": {
        "id": "vLMm15AbAi4H",
        "colab_type": "text"
      },
      "source": [
        "You see that the testset has six times more rows than the trainset and that the two classes are approximately in balance: 1099 (Class 0) and 901 (Class 1)\n",
        "\n",
        "**Pre-processing: scaling data** Because you need your features all to have the same range of values."
      ]
    },
    {
      "cell_type": "code",
      "metadata": {
        "id": "y82a2sxL_Sua",
        "colab_type": "code",
        "outputId": "96978f16-640b-4d64-e481-4f623241dcd1",
        "colab": {
          "base_uri": "https://localhost:8080/",
          "height": 302
        }
      },
      "source": [
        "#defining features and labels\n",
        "features = trainset.copy()\n",
        "features.pop('label')\n",
        "feature_names = list(trainset.columns)\n",
        "print(feature_names)\n",
        "\n",
        "#visualizing features' ranges\n",
        "features.boxplot()"
      ],
      "execution_count": 2,
      "outputs": [
        {
          "output_type": "stream",
          "text": [
            "['AF3', 'F7', 'F3', 'FC5', 'T7', 'P7', 'O1', '02', 'P8', 'T8', 'FC6', 'F4', 'F8', 'AF4', 'label']\n"
          ],
          "name": "stdout"
        },
        {
          "output_type": "execute_result",
          "data": {
            "text/plain": [
              "<matplotlib.axes._subplots.AxesSubplot at 0x7f1401f5a940>"
            ]
          },
          "metadata": {
            "tags": []
          },
          "execution_count": 2
        },
        {
          "output_type": "display_data",
          "data": {
            "image/png": "[encoded data removed]",
            "text/plain": [
              "<Figure size 432x288 with 1 Axes>"
            ]
          },
          "metadata": {
            "tags": [],
            "needs_background": "light"
          }
        }
      ]
    },
    {
      "cell_type": "markdown",
      "metadata": {
        "id": "oqTJxdpQB5Up",
        "colab_type": "text"
      },
      "source": [
        "You can see above that the features are not scaled yet. Now I will try to scale all features (with MinMaxScaler)."
      ]
    },
    {
      "cell_type": "code",
      "metadata": {
        "id": "btGiv7aEBZfm",
        "colab_type": "code",
        "outputId": "70514a51-99ee-422c-adf8-888ba99d3240",
        "colab": {
          "base_uri": "https://localhost:8080/",
          "height": 283
        }
      },
      "source": [
        "from sklearn.preprocessing import MinMaxScaler\n",
        "feature_scaler = MinMaxScaler()\n",
        "\n",
        "features['AF3'] = feature_scaler.fit_transform(features[['AF3']])\n",
        "features['F7'] = feature_scaler.fit_transform(features[['F7']])\n",
        "features['F3'] = feature_scaler.fit_transform(features[['F3']])\n",
        "features['FC5'] = feature_scaler.fit_transform(features[['FC5']])\n",
        "features['T7'] = feature_scaler.fit_transform(features[['T7']])\n",
        "features['P7'] = feature_scaler.fit_transform(features[['P7']])\n",
        "features['O1'] = feature_scaler.fit_transform(features[['O1']])\n",
        "features['02'] = feature_scaler.fit_transform(features[['02']])\n",
        "features['P8'] = feature_scaler.fit_transform(features[['P8']])\n",
        "features['T8'] = feature_scaler.fit_transform(features[['T8']])\n",
        "features['FC6'] = feature_scaler.fit_transform(features[['FC6']])\n",
        "features['F4'] = feature_scaler.fit_transform(features[['F4']])\n",
        "features['F8'] = feature_scaler.fit_transform(features[['F8']])\n",
        "features['AF4'] = feature_scaler.fit_transform(features[['AF4']])\n",
        "\n",
        "#visualizing scaled features\n",
        "features.boxplot()"
      ],
      "execution_count": 3,
      "outputs": [
        {
          "output_type": "execute_result",
          "data": {
            "text/plain": [
              "<matplotlib.axes._subplots.AxesSubplot at 0x7f14008f2128>"
            ]
          },
          "metadata": {
            "tags": []
          },
          "execution_count": 3
        },
        {
          "output_type": "display_data",
          "data": {
            "image/png": "[encoded data removed]",
            "text/plain": [
              "<Figure size 432x288 with 1 Axes>"
            ]
          },
          "metadata": {
            "tags": [],
            "needs_background": "light"
          }
        }
      ]
    },
    {
      "cell_type": "markdown",
      "metadata": {
        "id": "cg-ukcGPMzvl",
        "colab_type": "text"
      },
      "source": [
        "Now I will look at features that could already give a good separation via distplots."
      ]
    },
    {
      "cell_type": "code",
      "metadata": {
        "id": "PUiK-9v6C8iM",
        "colab_type": "code",
        "outputId": "6ae3dd73-f2f0-4f71-c46a-84ed33a74490",
        "colab": {
          "base_uri": "https://localhost:8080/",
          "height": 1000
        }
      },
      "source": [
        "plt.figure(figsize=(7,7))\n",
        "\n",
        "sns.distplot(trainset[trainset.label==1]['P7'], color=\"#FF8C00\")\n",
        "sns.distplot(trainset[trainset.label==0]['P7'], color=\"#0000FF\")\n",
        "\n",
        "plt.show()\n",
        "\n",
        "plt.figure(figsize=(7,7))\n",
        "\n",
        "sns.distplot(trainset[trainset.label==1]['O1'], color=\"#FF8C00\")\n",
        "sns.distplot(trainset[trainset.label==0]['O1'], color=\"#0000FF\")\n",
        "\n",
        "plt.show()\n",
        "\n",
        "plt.figure(figsize=(7,7))\n",
        "\n",
        "sns.distplot(trainset[trainset.label==1]['AF4'], color=\"#FF8C00\")\n",
        "sns.distplot(trainset[trainset.label==0]['AF4'], color=\"#0000FF\")\n",
        "\n",
        "plt.show()"
      ],
      "execution_count": 4,
      "outputs": [
        {
          "output_type": "display_data",
          "data": {
            "image/png": "[encoded data removed]",
            "text/plain": [
              "<Figure size 504x504 with 1 Axes>"
            ]
          },
          "metadata": {
            "tags": [],
            "needs_background": "light"
          }
        },
        {
          "output_type": "display_data",
          "data": {
            "image/png": "[encoded data removed]",
            "text/plain": [
              "<Figure size 504x504 with 1 Axes>"
            ]
          },
          "metadata": {
            "tags": [],
            "needs_background": "light"
          }
        },
        {
          "output_type": "display_data",
          "data": {
            "image/png": "[encoded data removed]",
            "text/plain": [
              "<Figure size 504x504 with 1 Axes>"
            ]
          },
          "metadata": {
            "tags": [],
            "needs_background": "light"
          }
        }
      ]
    },
    {
      "cell_type": "markdown",
      "metadata": {
        "id": "5CoTA1azPnsu",
        "colab_type": "text"
      },
      "source": [
        "The features 'P7', 'O1' and 'AF4' are looking to have the least overlap in the distplots, but we can't see that the two classes can be distinguished. On the contrary, this will not be easy I think..."
      ]
    },
    {
      "cell_type": "markdown",
      "metadata": {
        "id": "8KZg_UAYU2Cp",
        "colab_type": "text"
      },
      "source": [
        "**Model selection:** I need to choose a good (or even the best) model for this dataset. This is a two class problem, so I assume (non)linear regression is not suited for this. \n",
        "\n",
        "So I will start with the **logistic regression model**."
      ]
    },
    {
      "cell_type": "code",
      "metadata": {
        "id": "DMjh51eGOIZ9",
        "colab_type": "code",
        "colab": {
          "base_uri": "https://localhost:8080/",
          "height": 35
        },
        "outputId": "43ead1d7-a1e3-4157-d1f9-5973f0e28a92"
      },
      "source": [
        "from sklearn.linear_model import LogisticRegression\n",
        "from sklearn.model_selection import cross_val_score\n",
        "from sklearn.model_selection import cross_val_predict\n",
        "import numpy as np\n",
        "\n",
        "model = LogisticRegression(C=1)\n",
        "\n",
        "score = cross_val_score(model, features, trainset.label,cv=15).mean()\n",
        "print('Cross_val_score: '+ str(score))"
      ],
      "execution_count": 5,
      "outputs": [
        {
          "output_type": "stream",
          "text": [
            "Cross_val_score: 0.6070212845546703\n"
          ],
          "name": "stdout"
        }
      ]
    },
    {
      "cell_type": "markdown",
      "metadata": {
        "id": "AAEgvDVW9Loy",
        "colab_type": "text"
      },
      "source": [
        "Okay this doesn't say that this is most optimal...But I can now search for better parameters.\n",
        "\n",
        "**Model regularization**"
      ]
    },
    {
      "cell_type": "code",
      "metadata": {
        "id": "j0ibe7kq4S1E",
        "colab_type": "code",
        "colab": {
          "base_uri": "https://localhost:8080/",
          "height": 109
        },
        "outputId": "8aa7eefe-4b46-4130-aac0-7aa81f1722ae"
      },
      "source": [
        "from sklearn.model_selection import GridSearchCV\n",
        "\n",
        "search_space = [0.001,0.01,0.1,1,10,100,1000]\n",
        "\n",
        "model = LogisticRegression(max_iter= 9000)\n",
        "params = dict(C=search_space)\n",
        "grid_search = GridSearchCV(model, param_grid=params)\n",
        "grid_search.fit(features, trainset.label)\n",
        "\n",
        "print(grid_search.best_estimator_)"
      ],
      "execution_count": 6,
      "outputs": [
        {
          "output_type": "stream",
          "text": [
            "LogisticRegression(C=100, class_weight=None, dual=False, fit_intercept=True,\n",
            "                   intercept_scaling=1, l1_ratio=None, max_iter=9000,\n",
            "                   multi_class='auto', n_jobs=None, penalty='l2',\n",
            "                   random_state=None, solver='lbfgs', tol=0.0001, verbose=0,\n",
            "                   warm_start=False)\n"
          ],
          "name": "stdout"
        }
      ]
    },
    {
      "cell_type": "code",
      "metadata": {
        "id": "y2226wTkGEK2",
        "colab_type": "code",
        "colab": {
          "base_uri": "https://localhost:8080/",
          "height": 146
        },
        "outputId": "3a8516e0-afb0-4a2b-9633-a0992e8a7faf"
      },
      "source": [
        "means = grid_search.cv_results_['mean_test_score']\n",
        "stds = grid_search.cv_results_['std_test_score']\n",
        "\n",
        "for mean_score, std, params in zip(means, stds, grid_search.cv_results_['params']):\n",
        "    print(\"{:.3f} (+/-{:.3f}) for {}\".format(mean_score, std * 2, params))"
      ],
      "execution_count": 7,
      "outputs": [
        {
          "output_type": "stream",
          "text": [
            "0.550 (+/-0.002) for {'C': 0.001}\n",
            "0.553 (+/-0.011) for {'C': 0.01}\n",
            "0.591 (+/-0.044) for {'C': 0.1}\n",
            "0.606 (+/-0.046) for {'C': 1}\n",
            "0.616 (+/-0.032) for {'C': 10}\n",
            "0.621 (+/-0.037) for {'C': 100}\n",
            "0.621 (+/-0.035) for {'C': 1000}\n"
          ],
          "name": "stdout"
        }
      ]
    },
    {
      "cell_type": "markdown",
      "metadata": {
        "id": "xmjRJYhyGq-n",
        "colab_type": "text"
      },
      "source": [
        "From the two outputs above, you can see that 100 came out as the best value for C. But you see that 1000 is also not bad, so I try to put in some more higher values for C."
      ]
    },
    {
      "cell_type": "code",
      "metadata": {
        "id": "c4_IXLgDGisy",
        "colab_type": "code",
        "colab": {
          "base_uri": "https://localhost:8080/",
          "height": 237
        },
        "outputId": "8c3dc126-ce17-4a48-d2b2-28ad36526363"
      },
      "source": [
        "search_space = [10,100,1000,1200,1500,2000,5000]\n",
        "\n",
        "model = LogisticRegression(max_iter= 5000)\n",
        "params = dict(C=search_space)\n",
        "grid_search = GridSearchCV(model, param_grid=params)\n",
        "grid_search.fit(features, trainset.label)\n",
        "\n",
        "print(grid_search.best_estimator_)\n",
        "\n",
        "means = grid_search.cv_results_['mean_test_score']\n",
        "stds = grid_search.cv_results_['std_test_score']\n",
        "\n",
        "for mean_score, std, params in zip(means, stds, grid_search.cv_results_['params']):\n",
        "    print(\"{:.3f} (+/-{:.3f}) for {}\".format(mean_score, std * 2, params))"
      ],
      "execution_count": 8,
      "outputs": [
        {
          "output_type": "stream",
          "text": [
            "LogisticRegression(C=2000, class_weight=None, dual=False, fit_intercept=True,\n",
            "                   intercept_scaling=1, l1_ratio=None, max_iter=5000,\n",
            "                   multi_class='auto', n_jobs=None, penalty='l2',\n",
            "                   random_state=None, solver='lbfgs', tol=0.0001, verbose=0,\n",
            "                   warm_start=False)\n",
            "0.616 (+/-0.032) for {'C': 10}\n",
            "0.621 (+/-0.037) for {'C': 100}\n",
            "0.621 (+/-0.035) for {'C': 1000}\n",
            "0.620 (+/-0.036) for {'C': 1200}\n",
            "0.621 (+/-0.037) for {'C': 1500}\n",
            "0.621 (+/-0.035) for {'C': 2000}\n",
            "0.621 (+/-0.035) for {'C': 5000}\n"
          ],
          "name": "stdout"
        }
      ]
    },
    {
      "cell_type": "markdown",
      "metadata": {
        "id": "nwW4_hzsHhX4",
        "colab_type": "text"
      },
      "source": [
        "These results suggest that C = 100 is indeed the best hyperparameter for this model, as going up higher doesn't level up the scores."
      ]
    },
    {
      "cell_type": "code",
      "metadata": {
        "id": "EWXrePlWHg_R",
        "colab_type": "code",
        "colab": {
          "base_uri": "https://localhost:8080/",
          "height": 35
        },
        "outputId": "8cb72022-52fe-4cd2-d915-5a777b768e50"
      },
      "source": [
        "from sklearn import metrics\n",
        "from sklearn.model_selection import cross_val_predict\n",
        "from sklearn.model_selection import GridSearchCV\n",
        "\n",
        "search_space = [0.1,1,10,100,300, 600, 1000]\n",
        "model = LogisticRegression(max_iter= 5000)\n",
        "params = dict(C=search_space)\n",
        "grid_search = GridSearchCV(model, param_grid=params)\n",
        "\n",
        "cv_predictions = cross_val_score(grid_search, features, trainset.label).mean()\n",
        "cv_predictions"
      ],
      "execution_count": 9,
      "outputs": [
        {
          "output_type": "execute_result",
          "data": {
            "text/plain": [
              "0.6174999999999999"
            ]
          },
          "metadata": {
            "tags": []
          },
          "execution_count": 9
        }
      ]
    },
    {
      "cell_type": "markdown",
      "metadata": {
        "id": "GgbK4pSTKDOQ",
        "colab_type": "text"
      },
      "source": [
        "For tis first try that won't give good results I will try to do predictions, safe them and upload them."
      ]
    },
    {
      "cell_type": "code",
      "metadata": {
        "id": "J_QKSmiqLneW",
        "colab_type": "code",
        "colab": {}
      },
      "source": [
        "test_features = testset.copy()\n",
        "testset.pop('index')\n",
        "\n",
        "#Scaling testset in the same way as trainset.\n",
        "testset['AF3'] = feature_scaler.fit_transform(testset[['AF3']])\n",
        "testset['F7'] = feature_scaler.fit_transform(testset[['F7']])\n",
        "testset['F3'] = feature_scaler.fit_transform(testset[['F3']])\n",
        "testset['FC5'] = feature_scaler.fit_transform(testset[['FC5']])\n",
        "testset['T7'] = feature_scaler.fit_transform(testset[['T7']])\n",
        "testset['P7'] = feature_scaler.fit_transform(testset[['P7']])\n",
        "testset['O1'] = feature_scaler.fit_transform(testset[['O1']])\n",
        "testset['02'] = feature_scaler.fit_transform(testset[['02']])\n",
        "testset['P8'] = feature_scaler.fit_transform(testset[['P8']])\n",
        "testset['T8'] = feature_scaler.fit_transform(testset[['T8']])\n",
        "testset['FC6'] = feature_scaler.fit_transform(testset[['FC6']])\n",
        "testset['F4'] = feature_scaler.fit_transform(testset[['F4']])\n",
        "testset['F8'] = feature_scaler.fit_transform(testset[['F8']])\n",
        "testset['AF4'] = feature_scaler.fit_transform(testset[['AF4']])"
      ],
      "execution_count": 0,
      "outputs": []
    },
    {
      "cell_type": "code",
      "metadata": {
        "id": "T0nH2Vo7Kp_W",
        "colab_type": "code",
        "colab": {
          "base_uri": "https://localhost:8080/",
          "height": 54
        },
        "outputId": "9a6d9357-944a-4a22-fb3b-aa69806dc609"
      },
      "source": [
        "model = LogisticRegression(C=100, max_iter=500)\n",
        "model.fit(features,trainset.label)\n",
        "\n",
        "predictions = model.predict(testset)\n",
        "predictions[:40]"
      ],
      "execution_count": 11,
      "outputs": [
        {
          "output_type": "execute_result",
          "data": {
            "text/plain": [
              "array([1, 1, 1, 1, 1, 1, 1, 1, 1, 1, 1, 1, 1, 1, 1, 1, 1, 1, 1, 1, 1, 1,\n",
              "       1, 1, 1, 1, 1, 1, 1, 1, 1, 1, 1, 1, 1, 1, 1, 1, 1, 1])"
            ]
          },
          "metadata": {
            "tags": []
          },
          "execution_count": 11
        }
      ]
    },
    {
      "cell_type": "code",
      "metadata": {
        "id": "6qDBcKj1PRSN",
        "colab_type": "code",
        "colab": {
          "base_uri": "https://localhost:8080/",
          "height": 206
        },
        "outputId": "2cc4b620-553d-4e4b-cb9a-7b580f0d3bf7"
      },
      "source": [
        "sample_submission = pd.DataFrame({'index': test_features['index'], 'label': predictions})\n",
        "sample_submission.head()"
      ],
      "execution_count": 12,
      "outputs": [
        {
          "output_type": "execute_result",
          "data": {
            "text/html": [
              "<div>\n",
              "<style scoped>\n",
              "    .dataframe tbody tr th:only-of-type {\n",
              "        vertical-align: middle;\n",
              "    }\n",
              "\n",
              "    .dataframe tbody tr th {\n",
              "        vertical-align: top;\n",
              "    }\n",
              "\n",
              "    .dataframe thead th {\n",
              "        text-align: right;\n",
              "    }\n",
              "</style>\n",
              "<table border=\"1\" class=\"dataframe\">\n",
              "  <thead>\n",
              "    <tr style=\"text-align: right;\">\n",
              "      <th></th>\n",
              "      <th>index</th>\n",
              "      <th>label</th>\n",
              "    </tr>\n",
              "  </thead>\n",
              "  <tbody>\n",
              "    <tr>\n",
              "      <th>0</th>\n",
              "      <td>0</td>\n",
              "      <td>1</td>\n",
              "    </tr>\n",
              "    <tr>\n",
              "      <th>1</th>\n",
              "      <td>1</td>\n",
              "      <td>1</td>\n",
              "    </tr>\n",
              "    <tr>\n",
              "      <th>2</th>\n",
              "      <td>2</td>\n",
              "      <td>1</td>\n",
              "    </tr>\n",
              "    <tr>\n",
              "      <th>3</th>\n",
              "      <td>3</td>\n",
              "      <td>1</td>\n",
              "    </tr>\n",
              "    <tr>\n",
              "      <th>4</th>\n",
              "      <td>4</td>\n",
              "      <td>1</td>\n",
              "    </tr>\n",
              "  </tbody>\n",
              "</table>\n",
              "</div>"
            ],
            "text/plain": [
              "   index  label\n",
              "0      0      1\n",
              "1      1      1\n",
              "2      2      1\n",
              "3      3      1\n",
              "4      4      1"
            ]
          },
          "metadata": {
            "tags": []
          },
          "execution_count": 12
        }
      ]
    },
    {
      "cell_type": "code",
      "metadata": {
        "id": "PgwEC5tuKEHy",
        "colab_type": "code",
        "colab": {}
      },
      "source": [
        "filename = \"my_prediction_results.csv\"\n",
        "\n",
        "#make sure to not write the Pandas index column (index=False)\n",
        "sample_submission.to_csv(filename,index=False)"
      ],
      "execution_count": 0,
      "outputs": []
    },
    {
      "cell_type": "code",
      "metadata": {
        "id": "xVyqwZI7MmWu",
        "colab_type": "code",
        "colab": {}
      },
      "source": [
        ""
      ],
      "execution_count": 0,
      "outputs": []
    }
  ]
}
