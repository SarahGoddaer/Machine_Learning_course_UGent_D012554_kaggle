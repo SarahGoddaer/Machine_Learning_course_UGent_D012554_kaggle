{
  "nbformat": 4,
  "nbformat_minor": 0,
  "metadata": {
    "colab": {
      "name": "Kaggle_eye_blinking_prediciton.ipynb",
      "provenance": [],
      "authorship_tag": "ABX9TyMYBtKIK3CZnG7c+nwoPyOp",
      "include_colab_link": true
    },
    "kernelspec": {
      "name": "python3",
      "display_name": "Python 3"
    }
  },
  "cells": [
    {
      "cell_type": "markdown",
      "metadata": {
        "id": "view-in-github",
        "colab_type": "text"
      },
      "source": [
        "<a href=\"https://colab.research.google.com/github/SarahGoddaer/Machine_Learning_course_UGent_D012554_kaggle/blob/master/Kaggle_eye_blinking_prediciton_workinprogress.ipynb\" target=\"_parent\"><img src=\"https://colab.research.google.com/assets/colab-badge.svg\" alt=\"Open In Colab\"/></a>"
      ]
    },
    {
      "cell_type": "markdown",
      "metadata": {
        "id": "-d4Vhg_6lNdr",
        "colab_type": "text"
      },
      "source": [
        "# **<font color='red'>WORK IN PROGRESS:</font> Final report: Kaggle eye blinking prediciton.**"
      ]
    },
    {
      "cell_type": "markdown",
      "metadata": {
        "id": "McfeidmPlvBH",
        "colab_type": "text"
      },
      "source": [
        "In this report, I will point out the models and techniques I used to fit the traindata and with which I made accurate predictions during these six days.\n",
        "\n",
        "I will mainly explain 2 models, *Support Vector Machine* and the *KNeighbors Classifier* in detail. Afterwards, I mention a stacking method and a technique using the Voting Classifier from sklearn."
      ]
    },
    {
      "cell_type": "markdown",
      "metadata": {
        "id": "iYjJtjXcn7bZ",
        "colab_type": "text"
      },
      "source": [
        "## Support Vector Machine (SVM)\n",
        "My first best model."
      ]
    },
    {
      "cell_type": "markdown",
      "metadata": {
        "id": "pUMiPsPnoVeo",
        "colab_type": "text"
      },
      "source": [
        "### **Loading data**\n",
        "\n",
        "This is the first step. I load the trainset and the testset at the same time. Additionally, I save the data into understandable variables and I visualize it to have a first look. This first impression gives me the opportunity to get used to this data.   "
      ]
    },
    {
      "cell_type": "code",
      "metadata": {
        "id": "-D9k_tZ4lrDp",
        "colab_type": "code",
        "colab": {}
      },
      "source": [
        "%matplotlib inline\n",
        "import pandas as pd\n",
        "import matplotlib.pyplot as plt\n",
        "import seaborn as sns\n",
        "from sklearn.model_selection import cross_val_score\n",
        "import numpy as np\n",
        "from sklearn import metrics\n",
        "\n",
        "#Loading data\n",
        "trainset = pd.read_csv(\"https://raw.githubusercontent.com/sdgroeve/Machine_Learning_course_UGent_D012554_kaggle/master/eeg_train.csv\")\n",
        "testset = pd.read_csv(\"https://raw.githubusercontent.com/sdgroeve/Machine_Learning_course_UGent_D012554_kaggle/master/eeg_test.csv\")\n",
        "\n",
        "#Get features dataframe\n",
        "features = trainset.copy()\n",
        "features.pop('label')\n",
        "feature_names = list(features.columns)\n",
        "\n",
        "#Get test features without the index column\n",
        "test_features = testset.copy()\n",
        "test_features.pop('index')\n",
        "test_feature_names = list(test_features.columns)"
      ],
      "execution_count": 0,
      "outputs": []
    },
    {
      "cell_type": "code",
      "metadata": {
        "id": "7aGhz-HmosDk",
        "colab_type": "code",
        "colab": {
          "base_uri": "https://localhost:8080/",
          "height": 243
        },
        "outputId": "96926043-ed9c-49e4-84a4-4ee65d5b20ae"
      },
      "source": [
        "print(\"Trainset: \" + str(features.shape))\n",
        "print(\"Testset: \" + str(test_features.shape))\n",
        "features.head()"
      ],
      "execution_count": 104,
      "outputs": [
        {
          "output_type": "stream",
          "text": [
            "Trainset: (2000, 14)\n",
            "Testset: (12892, 14)\n"
          ],
          "name": "stdout"
        },
        {
          "output_type": "execute_result",
          "data": {
            "text/html": [
              "<div>\n",
              "<style scoped>\n",
              "    .dataframe tbody tr th:only-of-type {\n",
              "        vertical-align: middle;\n",
              "    }\n",
              "\n",
              "    .dataframe tbody tr th {\n",
              "        vertical-align: top;\n",
              "    }\n",
              "\n",
              "    .dataframe thead th {\n",
              "        text-align: right;\n",
              "    }\n",
              "</style>\n",
              "<table border=\"1\" class=\"dataframe\">\n",
              "  <thead>\n",
              "    <tr style=\"text-align: right;\">\n",
              "      <th></th>\n",
              "      <th>AF3</th>\n",
              "      <th>F7</th>\n",
              "      <th>F3</th>\n",
              "      <th>FC5</th>\n",
              "      <th>T7</th>\n",
              "      <th>P7</th>\n",
              "      <th>O1</th>\n",
              "      <th>02</th>\n",
              "      <th>P8</th>\n",
              "      <th>T8</th>\n",
              "      <th>FC6</th>\n",
              "      <th>F4</th>\n",
              "      <th>F8</th>\n",
              "      <th>AF4</th>\n",
              "    </tr>\n",
              "  </thead>\n",
              "  <tbody>\n",
              "    <tr>\n",
              "      <th>0</th>\n",
              "      <td>4299.49</td>\n",
              "      <td>3997.44</td>\n",
              "      <td>4277.95</td>\n",
              "      <td>4116.92</td>\n",
              "      <td>4353.85</td>\n",
              "      <td>4623.08</td>\n",
              "      <td>4100.00</td>\n",
              "      <td>4623.59</td>\n",
              "      <td>4202.56</td>\n",
              "      <td>4229.23</td>\n",
              "      <td>4211.79</td>\n",
              "      <td>4278.97</td>\n",
              "      <td>4600.00</td>\n",
              "      <td>4369.23</td>\n",
              "    </tr>\n",
              "    <tr>\n",
              "      <th>1</th>\n",
              "      <td>4302.05</td>\n",
              "      <td>3985.64</td>\n",
              "      <td>4261.03</td>\n",
              "      <td>4129.74</td>\n",
              "      <td>4334.36</td>\n",
              "      <td>4615.38</td>\n",
              "      <td>4072.31</td>\n",
              "      <td>4585.64</td>\n",
              "      <td>4192.31</td>\n",
              "      <td>4225.13</td>\n",
              "      <td>4195.90</td>\n",
              "      <td>4283.08</td>\n",
              "      <td>4607.18</td>\n",
              "      <td>4358.46</td>\n",
              "    </tr>\n",
              "    <tr>\n",
              "      <th>2</th>\n",
              "      <td>4321.03</td>\n",
              "      <td>4015.90</td>\n",
              "      <td>4265.13</td>\n",
              "      <td>4122.56</td>\n",
              "      <td>4333.33</td>\n",
              "      <td>4613.33</td>\n",
              "      <td>4072.82</td>\n",
              "      <td>4602.05</td>\n",
              "      <td>4192.31</td>\n",
              "      <td>4223.08</td>\n",
              "      <td>4155.38</td>\n",
              "      <td>4286.15</td>\n",
              "      <td>4608.21</td>\n",
              "      <td>4371.79</td>\n",
              "    </tr>\n",
              "    <tr>\n",
              "      <th>3</th>\n",
              "      <td>4408.21</td>\n",
              "      <td>4104.10</td>\n",
              "      <td>4380.00</td>\n",
              "      <td>4232.31</td>\n",
              "      <td>4449.74</td>\n",
              "      <td>4750.26</td>\n",
              "      <td>4169.23</td>\n",
              "      <td>4731.28</td>\n",
              "      <td>4311.28</td>\n",
              "      <td>4352.31</td>\n",
              "      <td>4319.49</td>\n",
              "      <td>4388.21</td>\n",
              "      <td>4715.90</td>\n",
              "      <td>4464.10</td>\n",
              "    </tr>\n",
              "    <tr>\n",
              "      <th>4</th>\n",
              "      <td>4347.18</td>\n",
              "      <td>3975.38</td>\n",
              "      <td>4266.67</td>\n",
              "      <td>4102.56</td>\n",
              "      <td>4333.33</td>\n",
              "      <td>4617.95</td>\n",
              "      <td>4097.44</td>\n",
              "      <td>4612.82</td>\n",
              "      <td>4210.77</td>\n",
              "      <td>4240.51</td>\n",
              "      <td>4248.21</td>\n",
              "      <td>4313.33</td>\n",
              "      <td>4664.10</td>\n",
              "      <td>4411.79</td>\n",
              "    </tr>\n",
              "  </tbody>\n",
              "</table>\n",
              "</div>"
            ],
            "text/plain": [
              "       AF3       F7       F3      FC5  ...      FC6       F4       F8      AF4\n",
              "0  4299.49  3997.44  4277.95  4116.92  ...  4211.79  4278.97  4600.00  4369.23\n",
              "1  4302.05  3985.64  4261.03  4129.74  ...  4195.90  4283.08  4607.18  4358.46\n",
              "2  4321.03  4015.90  4265.13  4122.56  ...  4155.38  4286.15  4608.21  4371.79\n",
              "3  4408.21  4104.10  4380.00  4232.31  ...  4319.49  4388.21  4715.90  4464.10\n",
              "4  4347.18  3975.38  4266.67  4102.56  ...  4248.21  4313.33  4664.10  4411.79\n",
              "\n",
              "[5 rows x 14 columns]"
            ]
          },
          "metadata": {
            "tags": []
          },
          "execution_count": 104
        }
      ]
    },
    {
      "cell_type": "code",
      "metadata": {
        "id": "6bZH1lfar8GY",
        "colab_type": "code",
        "colab": {
          "base_uri": "https://localhost:8080/",
          "height": 283
        },
        "outputId": "013cf0e4-1141-45c1-d0ff-21414c06287b"
      },
      "source": [
        "features.boxplot()"
      ],
      "execution_count": 105,
      "outputs": [
        {
          "output_type": "execute_result",
          "data": {
            "text/plain": [
              "<matplotlib.axes._subplots.AxesSubplot at 0x7f1257fda940>"
            ]
          },
          "metadata": {
            "tags": []
          },
          "execution_count": 105
        },
        {
          "output_type": "display_data",
          "data": {
            "image/png": "[encoded data removed]",
            "text/plain": [
              "<Figure size 432x288 with 1 Axes>"
            ]
          },
          "metadata": {
            "tags": [],
            "needs_background": "light"
          }
        }
      ]
    },
    {
      "cell_type": "code",
      "metadata": {
        "id": "Tm2W5-Gxr_f6",
        "colab_type": "code",
        "colab": {
          "base_uri": "https://localhost:8080/",
          "height": 348
        },
        "outputId": "37bc1ada-d309-4810-a598-0bfd777060af"
      },
      "source": [
        "#How many measurements are there of the two classes?\n",
        "print(trainset.label.value_counts())\n",
        "#Are there missing values in some features?\n",
        "print(features.isnull().sum()) "
      ],
      "execution_count": 97,
      "outputs": [
        {
          "output_type": "stream",
          "text": [
            "0    1099\n",
            "1     901\n",
            "Name: label, dtype: int64\n",
            "AF3    0\n",
            "F7     0\n",
            "F3     0\n",
            "FC5    0\n",
            "T7     0\n",
            "P7     0\n",
            "O1     0\n",
            "02     0\n",
            "P8     0\n",
            "T8     0\n",
            "FC6    0\n",
            "F4     0\n",
            "F8     0\n",
            "AF4    0\n",
            "dtype: int64\n"
          ],
          "name": "stdout"
        }
      ]
    },
    {
      "cell_type": "markdown",
      "metadata": {
        "id": "rg9xT31wtnb1",
        "colab_type": "text"
      },
      "source": [
        "I can see from this that the ranges of the different features are not the same, so scaling will be appropriate to use if I want to perform predictions with SVM. Also, I now know that the trainset and testset indeed have 14 features and that the trainset is much smaller than the testset. 1099 instances of this trainset belong to class 0 (open eyes) and 901 instances belong to class 1 (eyes closed).  "
      ]
    },
    {
      "cell_type": "markdown",
      "metadata": {
        "id": "TZhM_-zm1HD8",
        "colab_type": "text"
      },
      "source": [
        "### **Pre-processing**\n",
        "\n",
        "Here, pre-processing the data is done through scaling the data. I don't change the features in any other way than scaling. However, I try different scaling methods. Here, I focussed on *Standerd scaling*, *MinMax scaling*, or *non-scaled* data."
      ]
    },
    {
      "cell_type": "markdown",
      "metadata": {
        "id": "I7n1iKn_2JUj",
        "colab_type": "text"
      },
      "source": [
        "I found information that scaling data around the mean should give the best performance for a SVM model, so I apply the *Standard scaler*. I will already transform the testset too, because this is easy readable this way and I don't have to think about it anymore. This step of transforming the testset doesn't necessarily need to be done here, because this is only needed just before performing predictions."
      ]
    },
    {
      "cell_type": "code",
      "metadata": {
        "id": "RiDtdX3KsmTF",
        "colab_type": "code",
        "colab": {
          "base_uri": "https://localhost:8080/",
          "height": 286
        },
        "outputId": "1c72f6a2-3222-4fd6-bd1d-7d8b9eccac91"
      },
      "source": [
        "from sklearn import preprocessing\n",
        "from sklearn.preprocessing import StandardScaler\n",
        "\n",
        "scaler = preprocessing.StandardScaler()\n",
        "features = scaler.fit_transform(features)\n",
        "test_features = scaler.transform(test_features)\n",
        "\n",
        "features = pd.DataFrame(features, columns=feature_names)\n",
        "test_features = pd.DataFrame(test_features, columns=test_feature_names)\n",
        "\n",
        "#Visualizing the scaled trainset features\n",
        "features.boxplot()"
      ],
      "execution_count": 98,
      "outputs": [
        {
          "output_type": "execute_result",
          "data": {
            "text/plain": [
              "<matplotlib.axes._subplots.AxesSubplot at 0x7f1258300748>"
            ]
          },
          "metadata": {
            "tags": []
          },
          "execution_count": 98
        },
        {
          "output_type": "display_data",
          "data": {
            "image/png": "[encoded data removed]",
            "text/plain": [
              "<Figure size 432x288 with 1 Axes>"
            ]
          },
          "metadata": {
            "tags": [],
            "needs_background": "light"
          }
        }
      ]
    },
    {
      "cell_type": "markdown",
      "metadata": {
        "id": "7wkjaUCK29EQ",
        "colab_type": "text"
      },
      "source": [
        "From these boxplots, you can see that all features are now centered around the mean. I will work with these scaled features to find a useful SVM model."
      ]
    },
    {
      "cell_type": "markdown",
      "metadata": {
        "id": "m4yiy2SK45Vf",
        "colab_type": "text"
      },
      "source": [
        "###**Defining the model**\n",
        "\n",
        "I have a choice between many models that are supported by Sklearn. One of these models is the *Support Vector Machine* model. This model is designed to solve two-class classification problems, which is exactly what we have in this project. With the specific *kernel functions* this model can compute not only linear decision boundaries, but also more complicated non-linear decision boundaries without explicitaly having to map the features to new polynomial features. "
      ]
    },
    {
      "cell_type": "code",
      "metadata": {
        "id": "Mkarz1gC44WI",
        "colab_type": "code",
        "colab": {}
      },
      "source": [
        "from sklearn.svm import SVC\n",
        "model = SVC()"
      ],
      "execution_count": 0,
      "outputs": []
    },
    {
      "cell_type": "markdown",
      "metadata": {
        "id": "g_W-H0go7UO_",
        "colab_type": "text"
      },
      "source": [
        "###**Model validation**\n",
        "\n",
        "Now that I chose this model, I want to know how good the model performes on the trainset and even more, I actually want to know how good it performes on the testset. Unfortunately, I can not test the performance of the model on the testset, because a testset has no labels of course because this functions as unseen data. To simulate the performance on the testset I use *Cross-validation* (CV) to estimate the performance on the testset."
      ]
    },
    {
      "cell_type": "code",
      "metadata": {
        "id": "0imYM3L82vXQ",
        "colab_type": "code",
        "colab": {
          "base_uri": "https://localhost:8080/",
          "height": 35
        },
        "outputId": "db8b4604-ead7-471e-cac0-addfb1a5c46b"
      },
      "source": [
        "score = cross_val_score(model, features, trainset.label,scoring='roc_auc', cv= 20).mean()\n",
        "print('AUC score for trainset: '+ str(score))"
      ],
      "execution_count": 100,
      "outputs": [
        {
          "output_type": "stream",
          "text": [
            "AUC score for trainset: 0.897083809105548\n"
          ],
          "name": "stdout"
        }
      ]
    },
    {
      "cell_type": "markdown",
      "metadata": {
        "id": "0W-PknErSWtr",
        "colab_type": "text"
      },
      "source": [
        "As you can see, this is an AUC score of 89,71%, which means that the model with its default values is not a bad choice to use for this data."
      ]
    },
    {
      "cell_type": "markdown",
      "metadata": {
        "id": "Tt5WDl6dskD7",
        "colab_type": "text"
      },
      "source": [
        "I can check if *Standard scaling* realy is the best choice for this model and this dataset. I can use the same validation method and look at the AUC scores for the model fitted on *non-scaled* data and on *MinMax scaled* data."
      ]
    },
    {
      "cell_type": "code",
      "metadata": {
        "id": "USJrs1WZtJlN",
        "colab_type": "code",
        "colab": {
          "base_uri": "https://localhost:8080/",
          "height": 283
        },
        "outputId": "d639f5fa-17ef-4070-c843-87ad1b68b3ce"
      },
      "source": [
        "#MinMax scaling\n",
        "from sklearn import preprocessing\n",
        "from sklearn.preprocessing import MinMaxScaler\n",
        "\n",
        "scaler = preprocessing.MinMaxScaler()\n",
        "features = scaler.fit_transform(features)\n",
        "test_features = scaler.transform(test_features)\n",
        "\n",
        "features = pd.DataFrame(features, columns=feature_names)\n",
        "test_features = pd.DataFrame(test_features, columns=test_feature_names)\n",
        "\n",
        "#Visualizing the scaled trainset features\n",
        "features.boxplot()"
      ],
      "execution_count": 106,
      "outputs": [
        {
          "output_type": "execute_result",
          "data": {
            "text/plain": [
              "<matplotlib.axes._subplots.AxesSubplot at 0x7f1257e4dc18>"
            ]
          },
          "metadata": {
            "tags": []
          },
          "execution_count": 106
        },
        {
          "output_type": "display_data",
          "data": {
            "image/png": "[encoded data removed]",
            "text/plain": [
              "<Figure size 432x288 with 1 Axes>"
            ]
          },
          "metadata": {
            "tags": [],
            "needs_background": "light"
          }
        }
      ]
    },
    {
      "cell_type": "code",
      "metadata": {
        "id": "T8Kao8SqtZTi",
        "colab_type": "code",
        "colab": {
          "base_uri": "https://localhost:8080/",
          "height": 35
        },
        "outputId": "7702fbec-60d5-4a38-d9e9-2621043c1485"
      },
      "source": [
        "score = cross_val_score(model, features, trainset.label,scoring='roc_auc', cv= 20).mean()\n",
        "print('AUC score for MinMax scaled trainset: '+ str(score))"
      ],
      "execution_count": 107,
      "outputs": [
        {
          "output_type": "stream",
          "text": [
            "AUC score for MinMax scaled trainset: 0.8796913336261163\n"
          ],
          "name": "stdout"
        }
      ]
    },
    {
      "cell_type": "code",
      "metadata": {
        "id": "3iqNl1yVtgyE",
        "colab_type": "code",
        "colab": {
          "base_uri": "https://localhost:8080/",
          "height": 283
        },
        "outputId": "f076011e-9ebd-44f1-941a-626c2657ce0c"
      },
      "source": [
        "#Loading data\n",
        "trainset = pd.read_csv(\"https://raw.githubusercontent.com/sdgroeve/Machine_Learning_course_UGent_D012554_kaggle/master/eeg_train.csv\")\n",
        "testset = pd.read_csv(\"https://raw.githubusercontent.com/sdgroeve/Machine_Learning_course_UGent_D012554_kaggle/master/eeg_test.csv\")\n",
        "\n",
        "#Get features dataframe\n",
        "features = trainset.copy()\n",
        "features.pop('label')\n",
        "feature_names = list(features.columns)\n",
        "\n",
        "#Get test features without the index column\n",
        "test_features = testset.copy()\n",
        "test_features.pop('index')\n",
        "test_feature_names = list(test_features.columns)\n",
        "\n",
        "features.boxplot()"
      ],
      "execution_count": 109,
      "outputs": [
        {
          "output_type": "execute_result",
          "data": {
            "text/plain": [
              "<matplotlib.axes._subplots.AxesSubplot at 0x7f1257fb4668>"
            ]
          },
          "metadata": {
            "tags": []
          },
          "execution_count": 109
        },
        {
          "output_type": "display_data",
          "data": {
            "image/png": "[encoded data removed]",
            "text/plain": [
              "<Figure size 432x288 with 1 Axes>"
            ]
          },
          "metadata": {
            "tags": [],
            "needs_background": "light"
          }
        }
      ]
    },
    {
      "cell_type": "code",
      "metadata": {
        "id": "n61h68BKtpqO",
        "colab_type": "code",
        "colab": {
          "base_uri": "https://localhost:8080/",
          "height": 35
        },
        "outputId": "561fbdbd-7e18-4d1d-a242-3633300786c6"
      },
      "source": [
        "#Non-scaled data\n",
        "score = cross_val_score(model, features, trainset.label,scoring='roc_auc', cv= 20).mean()\n",
        "print('AUC score for non-scaled trainset: '+ str(score))"
      ],
      "execution_count": 110,
      "outputs": [
        {
          "output_type": "stream",
          "text": [
            "AUC score for non-scaled trainset: 0.6246116966769141\n"
          ],
          "name": "stdout"
        }
      ]
    },
    {
      "cell_type": "markdown",
      "metadata": {
        "id": "ThrnZTxtu9ut",
        "colab_type": "text"
      },
      "source": [
        "These 3 AUC scores clearly show that *Standard scaler* is the best scaling method to transform the data in this case."
      ]
    },
    {
      "cell_type": "markdown",
      "metadata": {
        "id": "O1F5tjSqTQtU",
        "colab_type": "text"
      },
      "source": [
        "###**Regularization**\n",
        "\n",
        "The next step is highering the AUC score. This means I have to refine my model with better hyperparameters. I do this with *GridSearchCV*. This system has again the CV implemented, which makes this a good way to evaluate the hyperparameters."
      ]
    },
    {
      "cell_type": "code",
      "metadata": {
        "id": "Qp9il65iSKlU",
        "colab_type": "code",
        "colab": {
          "base_uri": "https://localhost:8080/",
          "height": 90
        },
        "outputId": "ee05cd0d-231b-4187-b74c-95a6f0c29063"
      },
      "source": [
        "#How do the parameters look like in this model?\n",
        "model.get_params"
      ],
      "execution_count": 29,
      "outputs": [
        {
          "output_type": "execute_result",
          "data": {
            "text/plain": [
              "<bound method BaseEstimator.get_params of SVC(C=1.0, break_ties=False, cache_size=200, class_weight=None, coef0=0.0,\n",
              "    decision_function_shape='ovr', degree=3, gamma='scale', kernel='rbf',\n",
              "    max_iter=-1, probability=False, random_state=None, shrinking=True,\n",
              "    tol=0.001, verbose=False)>"
            ]
          },
          "metadata": {
            "tags": []
          },
          "execution_count": 29
        }
      ]
    },
    {
      "cell_type": "code",
      "metadata": {
        "id": "Q0YorprWXTig",
        "colab_type": "code",
        "colab": {
          "base_uri": "https://localhost:8080/",
          "height": 54
        },
        "outputId": "8b9674d4-a238-4451-ca05-143e7f2a3469"
      },
      "source": [
        "from sklearn.model_selection import GridSearchCV\n",
        "\n",
        "Cs = [1,10, 20, 50, 80, 100]\n",
        "gammas = ['scale', 'auto',1, 0.01]\n",
        "\n",
        "model = SVC(probability=True)\n",
        "params = dict(C=Cs, gamma=gammas)\n",
        "grid_search = GridSearchCV(model, param_grid=params, scoring='roc_auc', cv=20)\n",
        "grid_search.fit(features, trainset.label)\n",
        "\n",
        "print(grid_search.best_params_)\n",
        "print(grid_search.best_score_)"
      ],
      "execution_count": 33,
      "outputs": [
        {
          "output_type": "stream",
          "text": [
            "{'C': 10, 'gamma': 1}\n",
            "0.9632607963694919\n"
          ],
          "name": "stdout"
        }
      ]
    },
    {
      "cell_type": "markdown",
      "metadata": {
        "id": "FFdkFaF-Xs34",
        "colab_type": "text"
      },
      "source": [
        "I can try to refine the hyperparameter C even more:"
      ]
    },
    {
      "cell_type": "code",
      "metadata": {
        "id": "NwukEfQsXrxE",
        "colab_type": "code",
        "colab": {
          "base_uri": "https://localhost:8080/",
          "height": 54
        },
        "outputId": "c9d05458-2b13-4194-8276-090cae439b3c"
      },
      "source": [
        "from sklearn.model_selection import GridSearchCV\n",
        "\n",
        "Cs = [4,5,6,7,8,9,10]\n",
        "\n",
        "model = SVC(gamma=1, probability=True)\n",
        "params = dict(C=Cs)\n",
        "grid_search = GridSearchCV(model, param_grid=params, scoring='roc_auc', cv=30)\n",
        "grid_search.fit(features, trainset.label)\n",
        "\n",
        "print(grid_search.best_params_)\n",
        "print(grid_search.best_score_)"
      ],
      "execution_count": 83,
      "outputs": [
        {
          "output_type": "stream",
          "text": [
            "{'C': 8}\n",
            "0.9645392704532489\n"
          ],
          "name": "stdout"
        }
      ]
    },
    {
      "cell_type": "markdown",
      "metadata": {
        "id": "jYh_boMKYJQy",
        "colab_type": "text"
      },
      "source": [
        "The model validation score seems to be the best score I can obtain with C = 8 and gamma =1. So, I deside to use the SVM model with these optimized parameter values."
      ]
    },
    {
      "cell_type": "code",
      "metadata": {
        "id": "0lgFQNETXbr-",
        "colab_type": "code",
        "colab": {
          "base_uri": "https://localhost:8080/",
          "height": 109
        },
        "outputId": "0a9fda68-a417-40ab-d336-054df7e91233"
      },
      "source": [
        "#The SVM model with the best hyperparameter values\n",
        "print(grid_search.best_estimator_)\n",
        "print('AUC score for trainset: ' + str(grid_search.best_score_))"
      ],
      "execution_count": 37,
      "outputs": [
        {
          "output_type": "stream",
          "text": [
            "SVC(C=8, break_ties=False, cache_size=200, class_weight=None, coef0=0.0,\n",
            "    decision_function_shape='ovr', degree=3, gamma=1, kernel='rbf', max_iter=-1,\n",
            "    probability=True, random_state=None, shrinking=True, tol=0.001,\n",
            "    verbose=False)\n",
            "AUC score for trainset: 0.9645392704532489\n"
          ],
          "name": "stdout"
        }
      ]
    },
    {
      "cell_type": "markdown",
      "metadata": {
        "id": "enULHAAYZQzz",
        "colab_type": "text"
      },
      "source": [
        "###**Predictions**\n",
        "\n",
        "As a last step in the process, I want to do predictions with my optimized model. Therefore, I first need to *fit* the model to the trainset, then make *predictions* and lastly I can save the predicted probabilities for the positive class into a *csv-file*."
      ]
    },
    {
      "cell_type": "code",
      "metadata": {
        "id": "WoHtiJA4ZQYw",
        "colab_type": "code",
        "colab": {
          "base_uri": "https://localhost:8080/",
          "height": 206
        },
        "outputId": "f69e1553-b584-4d13-a1ef-b5f36aaec2e4"
      },
      "source": [
        "#Define model\n",
        "model = grid_search.best_estimator_\n",
        "\n",
        "#Fit model\n",
        "model.fit(features,trainset.label)\n",
        "\n",
        "#Make predictions\n",
        "predictions = model.predict_proba(test_features)[:,1]\n",
        "\n",
        "results_SVM = pd.DataFrame({'index': testset['index'], 'label': predictions})\n",
        "results_SVM.head()"
      ],
      "execution_count": 84,
      "outputs": [
        {
          "output_type": "execute_result",
          "data": {
            "text/html": [
              "<div>\n",
              "<style scoped>\n",
              "    .dataframe tbody tr th:only-of-type {\n",
              "        vertical-align: middle;\n",
              "    }\n",
              "\n",
              "    .dataframe tbody tr th {\n",
              "        vertical-align: top;\n",
              "    }\n",
              "\n",
              "    .dataframe thead th {\n",
              "        text-align: right;\n",
              "    }\n",
              "</style>\n",
              "<table border=\"1\" class=\"dataframe\">\n",
              "  <thead>\n",
              "    <tr style=\"text-align: right;\">\n",
              "      <th></th>\n",
              "      <th>index</th>\n",
              "      <th>label</th>\n",
              "    </tr>\n",
              "  </thead>\n",
              "  <tbody>\n",
              "    <tr>\n",
              "      <th>0</th>\n",
              "      <td>0</td>\n",
              "      <td>0.002728</td>\n",
              "    </tr>\n",
              "    <tr>\n",
              "      <th>1</th>\n",
              "      <td>1</td>\n",
              "      <td>0.361742</td>\n",
              "    </tr>\n",
              "    <tr>\n",
              "      <th>2</th>\n",
              "      <td>2</td>\n",
              "      <td>0.005593</td>\n",
              "    </tr>\n",
              "    <tr>\n",
              "      <th>3</th>\n",
              "      <td>3</td>\n",
              "      <td>0.999983</td>\n",
              "    </tr>\n",
              "    <tr>\n",
              "      <th>4</th>\n",
              "      <td>4</td>\n",
              "      <td>0.953498</td>\n",
              "    </tr>\n",
              "  </tbody>\n",
              "</table>\n",
              "</div>"
            ],
            "text/plain": [
              "   index     label\n",
              "0      0  0.002728\n",
              "1      1  0.361742\n",
              "2      2  0.005593\n",
              "3      3  0.999983\n",
              "4      4  0.953498"
            ]
          },
          "metadata": {
            "tags": []
          },
          "execution_count": 84
        }
      ]
    },
    {
      "cell_type": "code",
      "metadata": {
        "id": "Z74OcQBVYITx",
        "colab_type": "code",
        "colab": {}
      },
      "source": [
        "filename = \"my_prediction_results_SVM.csv\"\n",
        "results_SVM.to_csv(filename,index=False)"
      ],
      "execution_count": 0,
      "outputs": []
    },
    {
      "cell_type": "markdown",
      "metadata": {
        "id": "6A3WRzjkeKQ2",
        "colab_type": "text"
      },
      "source": [
        "## KNeighbors Classifier\n",
        "My second best model.\n",
        "<font color='red'>Nog een tekstje bij da da geen geleide azo is gelijk SVM</font> "
      ]
    },
    {
      "cell_type": "markdown",
      "metadata": {
        "id": "33WBT3y6efdS",
        "colab_type": "text"
      },
      "source": [
        "###**Loading data**"
      ]
    },
    {
      "cell_type": "code",
      "metadata": {
        "id": "6M7_XCh6eSDu",
        "colab_type": "code",
        "colab": {}
      },
      "source": [
        "#Loading data\n",
        "trainset = pd.read_csv(\"https://raw.githubusercontent.com/sdgroeve/Machine_Learning_course_UGent_D012554_kaggle/master/eeg_train.csv\")\n",
        "testset = pd.read_csv(\"https://raw.githubusercontent.com/sdgroeve/Machine_Learning_course_UGent_D012554_kaggle/master/eeg_test.csv\")\n",
        "\n",
        "#Get features dataframe\n",
        "features = trainset.copy()\n",
        "features.pop('label')\n",
        "feature_names = list(features.columns)\n",
        "\n",
        "#Get test features without the index column\n",
        "test_features = testset.copy()\n",
        "test_features.pop('index')\n",
        "test_feature_names = list(test_features.columns)"
      ],
      "execution_count": 0,
      "outputs": []
    },
    {
      "cell_type": "code",
      "metadata": {
        "id": "JF3wpq43eudP",
        "colab_type": "code",
        "colab": {
          "base_uri": "https://localhost:8080/",
          "height": 283
        },
        "outputId": "7d7b4ca4-11c4-4e1a-8486-dd76ddf114e3"
      },
      "source": [
        "features.boxplot()"
      ],
      "execution_count": 51,
      "outputs": [
        {
          "output_type": "execute_result",
          "data": {
            "text/plain": [
              "<matplotlib.axes._subplots.AxesSubplot at 0x7f1258fb0828>"
            ]
          },
          "metadata": {
            "tags": []
          },
          "execution_count": 51
        },
        {
          "output_type": "display_data",
          "data": {
            "image/png": "[encoded data removed]",
            "text/plain": [
              "<Figure size 432x288 with 1 Axes>"
            ]
          },
          "metadata": {
            "tags": [],
            "needs_background": "light"
          }
        }
      ]
    },
    {
      "cell_type": "markdown",
      "metadata": {
        "id": "6CyJW-C8e4lD",
        "colab_type": "text"
      },
      "source": [
        "### **Pre-processing + Defining the model**\n",
        "\n",
        "Here, I can do the same as pointed out for the SVM model. I can try different scaling methods, such as *non-scaled data*, *Standerd scaling*, or *MinMax scaling*. \n",
        "Afterwards I evaluate the performance of the *KNN* model on the different transformed features."
      ]
    },
    {
      "cell_type": "code",
      "metadata": {
        "id": "42utjem1hcuv",
        "colab_type": "code",
        "colab": {
          "base_uri": "https://localhost:8080/",
          "height": 35
        },
        "outputId": "4e0c62f4-7d27-40a7-8e53-b349833ec899"
      },
      "source": [
        "from sklearn.neighbors import KNeighborsClassifier\n",
        "\n",
        "model = KNeighborsClassifier()\n",
        "\n",
        "#Score on non-scaled data\n",
        "score = cross_val_score(model, features, trainset.label,scoring='roc_auc', cv= 20).mean()\n",
        "print('AUC score for trainset: '+ str(score))"
      ],
      "execution_count": 52,
      "outputs": [
        {
          "output_type": "stream",
          "text": [
            "AUC score for trainset: 0.9442850241545893\n"
          ],
          "name": "stdout"
        }
      ]
    },
    {
      "cell_type": "code",
      "metadata": {
        "id": "pfevF5Hcez2l",
        "colab_type": "code",
        "colab": {}
      },
      "source": [
        "#Standard scaler\n",
        "from sklearn import preprocessing\n",
        "from sklearn.preprocessing import StandardScaler\n",
        "\n",
        "scaler = preprocessing.StandardScaler()\n",
        "features = scaler.fit_transform(features)\n",
        "test_features = scaler.transform(test_features)\n",
        "\n",
        "features = pd.DataFrame(features, columns=feature_names)\n",
        "test_features = pd.DataFrame(test_features, columns=test_feature_names)"
      ],
      "execution_count": 0,
      "outputs": []
    },
    {
      "cell_type": "code",
      "metadata": {
        "id": "r4t9FNXOgR4E",
        "colab_type": "code",
        "colab": {
          "base_uri": "https://localhost:8080/",
          "height": 35
        },
        "outputId": "9d67d2b1-c41c-491b-f83e-71365655f52b"
      },
      "source": [
        "score = cross_val_score(model, features, trainset.label,scoring='roc_auc', cv= 20).mean()\n",
        "print('AUC score for Standard scaled trainset: '+ str(score))"
      ],
      "execution_count": 47,
      "outputs": [
        {
          "output_type": "stream",
          "text": [
            "AUC score for Standard scaled trainset: 0.9417285170546041\n"
          ],
          "name": "stdout"
        }
      ]
    },
    {
      "cell_type": "code",
      "metadata": {
        "id": "9aWZiRtrhZhY",
        "colab_type": "code",
        "colab": {}
      },
      "source": [
        "#MinMaxScaler\n",
        "from sklearn import preprocessing\n",
        "from sklearn.preprocessing import MinMaxScaler\n",
        "\n",
        "scaler = preprocessing.MinMaxScaler()\n",
        "features = scaler.fit_transform(features)\n",
        "test_features = scaler.transform(test_features)\n",
        "\n",
        "features = pd.DataFrame(features, columns=feature_names)\n",
        "test_features = pd.DataFrame(test_features, columns=test_feature_names)"
      ],
      "execution_count": 0,
      "outputs": []
    },
    {
      "cell_type": "code",
      "metadata": {
        "id": "D3KqSe0Vh9ks",
        "colab_type": "code",
        "colab": {
          "base_uri": "https://localhost:8080/",
          "height": 35
        },
        "outputId": "b96cbe3c-0e69-4b07-8ac6-6528980e3ed4"
      },
      "source": [
        "score = cross_val_score(model, features, trainset.label,scoring='roc_auc', cv= 20).mean()\n",
        "print('AUC score for MinMax scaled trainset: '+ str(score))"
      ],
      "execution_count": 54,
      "outputs": [
        {
          "output_type": "stream",
          "text": [
            "AUC score for MinMax scaled trainset: 0.9430438076416339\n"
          ],
          "name": "stdout"
        }
      ]
    },
    {
      "cell_type": "markdown",
      "metadata": {
        "id": "al7TrRhoiQFb",
        "colab_type": "text"
      },
      "source": [
        "These 3 scores suggest that *non-scaled* data would work best for fitting this model on the trainset. This is different compared to the *Standard scaled data* to be used in the SVM model."
      ]
    },
    {
      "cell_type": "markdown",
      "metadata": {
        "id": "sBZCpkmditIN",
        "colab_type": "text"
      },
      "source": [
        "To make the workflow of this notebook easy, I import the datasets once more, to be sure that the data is not scaled."
      ]
    },
    {
      "cell_type": "code",
      "metadata": {
        "id": "rZdX-EMYiBRv",
        "colab_type": "code",
        "colab": {}
      },
      "source": [
        "#Loading data\n",
        "trainset = pd.read_csv(\"https://raw.githubusercontent.com/sdgroeve/Machine_Learning_course_UGent_D012554_kaggle/master/eeg_train.csv\")\n",
        "testset = pd.read_csv(\"https://raw.githubusercontent.com/sdgroeve/Machine_Learning_course_UGent_D012554_kaggle/master/eeg_test.csv\")\n",
        "\n",
        "#Get features dataframe\n",
        "features = trainset.copy()\n",
        "features.pop('label')\n",
        "feature_names = list(features.columns)\n",
        "\n",
        "#Get test features without the index column\n",
        "test_features = testset.copy()\n",
        "test_features.pop('index')\n",
        "test_feature_names = list(test_features.columns)"
      ],
      "execution_count": 0,
      "outputs": []
    },
    {
      "cell_type": "markdown",
      "metadata": {
        "id": "IVzTsVUfjbae",
        "colab_type": "text"
      },
      "source": [
        "###**Regularization**\n",
        "\n",
        "Again like SVM, a *KNN* model has some hyperparameters that can be set by myself in order to gain better performance. I find new values with *GridsearchCV*."
      ]
    },
    {
      "cell_type": "code",
      "metadata": {
        "id": "cvzstZsii98I",
        "colab_type": "code",
        "colab": {
          "base_uri": "https://localhost:8080/",
          "height": 72
        },
        "outputId": "db7570ed-1411-4207-9667-de1b7467e257"
      },
      "source": [
        "#Which parameters?\n",
        "model.get_params"
      ],
      "execution_count": 59,
      "outputs": [
        {
          "output_type": "execute_result",
          "data": {
            "text/plain": [
              "<bound method BaseEstimator.get_params of KNeighborsClassifier(algorithm='auto', leaf_size=30, metric='minkowski',\n",
              "                     metric_params=None, n_jobs=None, n_neighbors=5, p=2,\n",
              "                     weights='uniform')>"
            ]
          },
          "metadata": {
            "tags": []
          },
          "execution_count": 59
        }
      ]
    },
    {
      "cell_type": "code",
      "metadata": {
        "id": "juXmo-Urj567",
        "colab_type": "code",
        "colab": {
          "base_uri": "https://localhost:8080/",
          "height": 54
        },
        "outputId": "e2230d7a-b90a-4751-96e5-1cd73bda07fd"
      },
      "source": [
        "from sklearn.model_selection import GridSearchCV\n",
        "\n",
        "neighbors = [2,3,4,5,6,7]\n",
        "weigh = ['uniform', 'distance']\n",
        "ps = [1,1.5,2,2.5,3]\n",
        "leafs = [20,25,30,35,40]\n",
        "\n",
        "params = dict(n_neighbors=neighbors, weights=weigh,p=ps, leaf_size=leafs)\n",
        "grid_search = GridSearchCV(model, param_grid=params, scoring='roc_auc', cv=20)\n",
        "grid_search.fit(features, trainset.label)\n",
        "\n",
        "print(grid_search.best_params_)\n",
        "print(grid_search.best_score_)"
      ],
      "execution_count": 60,
      "outputs": [
        {
          "output_type": "stream",
          "text": [
            "{'leaf_size': 20, 'n_neighbors': 4, 'p': 2.5, 'weights': 'distance'}\n",
            "0.9612608329673547\n"
          ],
          "name": "stdout"
        }
      ]
    },
    {
      "cell_type": "markdown",
      "metadata": {
        "id": "x4JRDIhPlINt",
        "colab_type": "text"
      },
      "source": [
        "I can try to refine the *leaf_size* more, because this was at the lower border now of my search space for this parameter. Maybe the score betters when I choose an even lower value."
      ]
    },
    {
      "cell_type": "code",
      "metadata": {
        "id": "evDf8h22k4ez",
        "colab_type": "code",
        "colab": {
          "base_uri": "https://localhost:8080/",
          "height": 109
        },
        "outputId": "3fcdc767-d0de-4350-b485-373912eeced9"
      },
      "source": [
        "from sklearn.model_selection import GridSearchCV\n",
        "\n",
        "model = KNeighborsClassifier(n_neighbors=4, p=2.5, weights='distance')\n",
        "\n",
        "leafs = [1,3,5,10,20]\n",
        "\n",
        "params = dict(leaf_size=leafs)\n",
        "grid_search = GridSearchCV(model, param_grid=params, scoring='roc_auc', cv=20)\n",
        "grid_search.fit(features, trainset.label)\n",
        "\n",
        "print(grid_search.best_params_)\n",
        "print(grid_search.best_score_)\n",
        "print(grid_search.best_estimator_)"
      ],
      "execution_count": 64,
      "outputs": [
        {
          "output_type": "stream",
          "text": [
            "{'leaf_size': 1}\n",
            "0.9612608329673547\n",
            "KNeighborsClassifier(algorithm='auto', leaf_size=1, metric='minkowski',\n",
            "                     metric_params=None, n_jobs=None, n_neighbors=4, p=2.5,\n",
            "                     weights='distance')\n"
          ],
          "name": "stdout"
        }
      ]
    },
    {
      "cell_type": "markdown",
      "metadata": {
        "id": "c9s60dqtmFzX",
        "colab_type": "text"
      },
      "source": [
        "I can have a closer look at the results of this GridSearchCV:"
      ]
    },
    {
      "cell_type": "code",
      "metadata": {
        "id": "7yoJhYUYmCay",
        "colab_type": "code",
        "colab": {
          "base_uri": "https://localhost:8080/",
          "height": 109
        },
        "outputId": "2caaa073-ef60-4f26-dd27-89aadbcab235"
      },
      "source": [
        "means = grid_search.cv_results_['mean_test_score']\n",
        "stds = grid_search.cv_results_['std_test_score']\n",
        "\n",
        "for mean_score, std, params in zip(means, stds, grid_search.cv_results_['params']):\n",
        "    print(\"{:.4f} (+/-{:.4f}) for {}\".format(mean_score, std * 2, params))"
      ],
      "execution_count": 65,
      "outputs": [
        {
          "output_type": "stream",
          "text": [
            "0.9613 (+/-0.0312) for {'leaf_size': 1}\n",
            "0.9613 (+/-0.0312) for {'leaf_size': 3}\n",
            "0.9613 (+/-0.0312) for {'leaf_size': 5}\n",
            "0.9613 (+/-0.0312) for {'leaf_size': 10}\n",
            "0.9613 (+/-0.0312) for {'leaf_size': 20}\n"
          ],
          "name": "stdout"
        }
      ]
    },
    {
      "cell_type": "markdown",
      "metadata": {
        "id": "SN2V85YHmYWJ",
        "colab_type": "text"
      },
      "source": [
        "These results suggest that the *leaf_size* doesn't realy matter that much for a better CV performance. I choose to go further with leaf_size = 1."
      ]
    },
    {
      "cell_type": "markdown",
      "metadata": {
        "id": "z_lVBV3Bn2LS",
        "colab_type": "text"
      },
      "source": [
        "###Model validation\n",
        "\n",
        "According to these GridsearchCV results, I can conclude that the best optimized *KNN* model can be defined as follows, accompagnied with following AUC score:"
      ]
    },
    {
      "cell_type": "code",
      "metadata": {
        "id": "xoQjce-rmWPc",
        "colab_type": "code",
        "colab": {
          "base_uri": "https://localhost:8080/",
          "height": 90
        },
        "outputId": "2e4b0114-a631-4461-ddf3-9462dd4c9020"
      },
      "source": [
        "print(grid_search.best_estimator_)\n",
        "print('AUC score for trainset: ' + str(grid_search.best_score_))"
      ],
      "execution_count": 68,
      "outputs": [
        {
          "output_type": "stream",
          "text": [
            "KNeighborsClassifier(algorithm='auto', leaf_size=1, metric='minkowski',\n",
            "                     metric_params=None, n_jobs=None, n_neighbors=4, p=2.5,\n",
            "                     weights='distance')\n",
            "AUC score for trainset: 0.9612608329673547\n"
          ],
          "name": "stdout"
        }
      ]
    },
    {
      "cell_type": "markdown",
      "metadata": {
        "id": "2dMZU6ZloFWK",
        "colab_type": "text"
      },
      "source": [
        "###Predictions\n",
        "\n",
        "This last step is exactly the same as described above for the SVM model."
      ]
    },
    {
      "cell_type": "code",
      "metadata": {
        "id": "Q5xZ9CnFnI0v",
        "colab_type": "code",
        "colab": {
          "base_uri": "https://localhost:8080/",
          "height": 206
        },
        "outputId": "8339c5bc-0cb6-42a3-a25e-dce70bb37374"
      },
      "source": [
        "#Define model\n",
        "model = grid_search.best_estimator_\n",
        "\n",
        "#Fit model\n",
        "model.fit(features,trainset.label)\n",
        "\n",
        "#Make predictions\n",
        "predictions = model.predict_proba(test_features)[:,1]\n",
        "\n",
        "results_KNN = pd.DataFrame({'index': testset['index'], 'label': predictions})\n",
        "results_KNN.head()"
      ],
      "execution_count": 74,
      "outputs": [
        {
          "output_type": "execute_result",
          "data": {
            "text/html": [
              "<div>\n",
              "<style scoped>\n",
              "    .dataframe tbody tr th:only-of-type {\n",
              "        vertical-align: middle;\n",
              "    }\n",
              "\n",
              "    .dataframe tbody tr th {\n",
              "        vertical-align: top;\n",
              "    }\n",
              "\n",
              "    .dataframe thead th {\n",
              "        text-align: right;\n",
              "    }\n",
              "</style>\n",
              "<table border=\"1\" class=\"dataframe\">\n",
              "  <thead>\n",
              "    <tr style=\"text-align: right;\">\n",
              "      <th></th>\n",
              "      <th>index</th>\n",
              "      <th>label</th>\n",
              "    </tr>\n",
              "  </thead>\n",
              "  <tbody>\n",
              "    <tr>\n",
              "      <th>0</th>\n",
              "      <td>0</td>\n",
              "      <td>0.000000</td>\n",
              "    </tr>\n",
              "    <tr>\n",
              "      <th>1</th>\n",
              "      <td>1</td>\n",
              "      <td>0.746633</td>\n",
              "    </tr>\n",
              "    <tr>\n",
              "      <th>2</th>\n",
              "      <td>2</td>\n",
              "      <td>0.000000</td>\n",
              "    </tr>\n",
              "    <tr>\n",
              "      <th>3</th>\n",
              "      <td>3</td>\n",
              "      <td>1.000000</td>\n",
              "    </tr>\n",
              "    <tr>\n",
              "      <th>4</th>\n",
              "      <td>4</td>\n",
              "      <td>1.000000</td>\n",
              "    </tr>\n",
              "  </tbody>\n",
              "</table>\n",
              "</div>"
            ],
            "text/plain": [
              "   index     label\n",
              "0      0  0.000000\n",
              "1      1  0.746633\n",
              "2      2  0.000000\n",
              "3      3  1.000000\n",
              "4      4  1.000000"
            ]
          },
          "metadata": {
            "tags": []
          },
          "execution_count": 74
        }
      ]
    },
    {
      "cell_type": "code",
      "metadata": {
        "id": "cPky7cQooWT8",
        "colab_type": "code",
        "colab": {}
      },
      "source": [
        "filename = \"my_prediction_results_KNN.csv\"\n",
        "results_KNN.to_csv(filename,index=False)"
      ],
      "execution_count": 0,
      "outputs": []
    },
    {
      "cell_type": "markdown",
      "metadata": {
        "id": "S5HGKFGgrbvW",
        "colab_type": "text"
      },
      "source": [
        "##Extra: Voting Classifier"
      ]
    },
    {
      "cell_type": "markdown",
      "metadata": {
        "id": "YQSsZ8INwkWJ",
        "colab_type": "text"
      },
      "source": [
        "I've tried different models and tuned all their parameters. This was the time I had to go to a higher level.\n",
        "With the *Voting classifier* I obtained my highest score in this Kaggle Competition. I will go through this process, providing less info compared to the *SVM* and *KNN* models, because this is extra. Nevertheless, I've included this in my report, because I've spent most of my time tuning this model and it is a realy interesting concept.  "
      ]
    },
    {
      "cell_type": "markdown",
      "metadata": {
        "id": "19M3cNvKzn4w",
        "colab_type": "text"
      },
      "source": [
        "###**Loading data**"
      ]
    },
    {
      "cell_type": "code",
      "metadata": {
        "id": "UoWKcI5qod3W",
        "colab_type": "code",
        "colab": {}
      },
      "source": [
        "#Loading data\n",
        "trainset = pd.read_csv(\"https://raw.githubusercontent.com/sdgroeve/Machine_Learning_course_UGent_D012554_kaggle/master/eeg_train.csv\")\n",
        "testset = pd.read_csv(\"https://raw.githubusercontent.com/sdgroeve/Machine_Learning_course_UGent_D012554_kaggle/master/eeg_test.csv\")\n",
        "\n",
        "#Get features dataframe\n",
        "features = trainset.copy()\n",
        "features.pop('label')\n",
        "feature_names = list(features.columns)\n",
        "\n",
        "#Get test features without the index column\n",
        "test_features = testset.copy()\n",
        "test_features.pop('index')\n",
        "test_feature_names = list(test_features.columns)"
      ],
      "execution_count": 0,
      "outputs": []
    },
    {
      "cell_type": "code",
      "metadata": {
        "id": "2YcuohuYzusv",
        "colab_type": "code",
        "colab": {}
      },
      "source": [
        ""
      ],
      "execution_count": 0,
      "outputs": []
    }
  ]
}