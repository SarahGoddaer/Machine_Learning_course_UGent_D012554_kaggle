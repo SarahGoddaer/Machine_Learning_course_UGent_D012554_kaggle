{
  "nbformat": 4,
  "nbformat_minor": 0,
  "metadata": {
    "colab": {
      "name": "Kaggle_eye_blinking_prediciton.ipynb",
      "provenance": [],
      "authorship_tag": "ABX9TyPnP1L9ZH5KzO35U6Ptqxe9",
      "include_colab_link": true
    },
    "kernelspec": {
      "name": "python3",
      "display_name": "Python 3"
    }
  },
  "cells": [
    {
      "cell_type": "markdown",
      "metadata": {
        "id": "view-in-github",
        "colab_type": "text"
      },
      "source": [
        "<a href=\"https://colab.research.google.com/github/SarahGoddaer/Machine_Learning_course_UGent_D012554_kaggle/blob/master/Kaggle_eye_blinking_prediciton_workinprogress.ipynb\" target=\"_parent\"><img src=\"https://colab.research.google.com/assets/colab-badge.svg\" alt=\"Open In Colab\"/></a>"
      ]
    },
    {
      "cell_type": "markdown",
      "metadata": {
        "id": "-d4Vhg_6lNdr",
        "colab_type": "text"
      },
      "source": [
        "#**Final report: Kaggle eye blinking prediciton.**"
      ]
    },
    {
      "cell_type": "markdown",
      "metadata": {
        "id": "McfeidmPlvBH",
        "colab_type": "text"
      },
      "source": [
        "In this report, I will point out the models and techniques I used to fit the traindata and with which I made accurate predictions during this course.\n",
        "\n",
        "I will mainly explain 2 models, *Support Vector Machine* and the *KNeighbors Classifier* in detail. Afterwards, I will mention a technique using the *Voting Classifier* from sklearn. Lastly, I will provide a comparison between the predictions of the different estimators."
      ]
    },
    {
      "cell_type": "markdown",
      "metadata": {
        "id": "iYjJtjXcn7bZ",
        "colab_type": "text"
      },
      "source": [
        "## Support Vector Machine (SVM) \n",
        "Model 1."
      ]
    },
    {
      "cell_type": "markdown",
      "metadata": {
        "id": "pUMiPsPnoVeo",
        "colab_type": "text"
      },
      "source": [
        "### **Loading data**\n",
        "\n",
        "This is the first step. I load the trainset and the testset at the same time. Additionally, I save the data into understandable variables and I visualize it to have a first look. This first impression gives me the opportunity to get used to this data.   "
      ]
    },
    {
      "cell_type": "code",
      "metadata": {
        "id": "-D9k_tZ4lrDp",
        "colab_type": "code",
        "colab": {}
      },
      "source": [
        "%matplotlib inline\n",
        "import pandas as pd\n",
        "import matplotlib.pyplot as plt\n",
        "import seaborn as sns\n",
        "from sklearn.model_selection import cross_val_score\n",
        "import numpy as np\n",
        "from sklearn import metrics\n",
        "\n",
        "#Loading data\n",
        "\n",
        "trainset = pd.read_csv(\"https://raw.githubusercontent.com/sdgroeve/Machine_Learning_course_UGent_D012554_kaggle/master/eeg_train.csv\")\n",
        "testset = pd.read_csv(\"https://raw.githubusercontent.com/sdgroeve/Machine_Learning_course_UGent_D012554_kaggle/master/eeg_test.csv\")\n",
        "\n",
        "#Get features dataframe\n",
        "features = trainset.copy()\n",
        "features.pop('label')\n",
        "feature_names = list(features.columns)\n",
        "\n",
        "#Get test features without the index column\n",
        "test_features = testset.copy()\n",
        "test_features.pop('index')\n",
        "test_feature_names = list(test_features.columns)"
      ],
      "execution_count": 0,
      "outputs": []
    },
    {
      "cell_type": "code",
      "metadata": {
        "id": "7aGhz-HmosDk",
        "colab_type": "code",
        "outputId": "15ece162-979a-4096-dad8-a909dc0310de",
        "colab": {
          "base_uri": "https://localhost:8080/",
          "height": 243
        }
      },
      "source": [
        "print(\"Trainset: \" + str(features.shape))\n",
        "print(\"Testset: \" + str(test_features.shape))\n",
        "features.head()"
      ],
      "execution_count": 46,
      "outputs": [
        {
          "output_type": "stream",
          "text": [
            "Trainset: (2000, 14)\n",
            "Testset: (12892, 14)\n"
          ],
          "name": "stdout"
        },
        {
          "output_type": "execute_result",
          "data": {
            "text/html": [
              "<div>\n",
              "<style scoped>\n",
              "    .dataframe tbody tr th:only-of-type {\n",
              "        vertical-align: middle;\n",
              "    }\n",
              "\n",
              "    .dataframe tbody tr th {\n",
              "        vertical-align: top;\n",
              "    }\n",
              "\n",
              "    .dataframe thead th {\n",
              "        text-align: right;\n",
              "    }\n",
              "</style>\n",
              "<table border=\"1\" class=\"dataframe\">\n",
              "  <thead>\n",
              "    <tr style=\"text-align: right;\">\n",
              "      <th></th>\n",
              "      <th>AF3</th>\n",
              "      <th>F7</th>\n",
              "      <th>F3</th>\n",
              "      <th>FC5</th>\n",
              "      <th>T7</th>\n",
              "      <th>P7</th>\n",
              "      <th>O1</th>\n",
              "      <th>02</th>\n",
              "      <th>P8</th>\n",
              "      <th>T8</th>\n",
              "      <th>FC6</th>\n",
              "      <th>F4</th>\n",
              "      <th>F8</th>\n",
              "      <th>AF4</th>\n",
              "    </tr>\n",
              "  </thead>\n",
              "  <tbody>\n",
              "    <tr>\n",
              "      <th>0</th>\n",
              "      <td>4299.49</td>\n",
              "      <td>3997.44</td>\n",
              "      <td>4277.95</td>\n",
              "      <td>4116.92</td>\n",
              "      <td>4353.85</td>\n",
              "      <td>4623.08</td>\n",
              "      <td>4100.00</td>\n",
              "      <td>4623.59</td>\n",
              "      <td>4202.56</td>\n",
              "      <td>4229.23</td>\n",
              "      <td>4211.79</td>\n",
              "      <td>4278.97</td>\n",
              "      <td>4600.00</td>\n",
              "      <td>4369.23</td>\n",
              "    </tr>\n",
              "    <tr>\n",
              "      <th>1</th>\n",
              "      <td>4302.05</td>\n",
              "      <td>3985.64</td>\n",
              "      <td>4261.03</td>\n",
              "      <td>4129.74</td>\n",
              "      <td>4334.36</td>\n",
              "      <td>4615.38</td>\n",
              "      <td>4072.31</td>\n",
              "      <td>4585.64</td>\n",
              "      <td>4192.31</td>\n",
              "      <td>4225.13</td>\n",
              "      <td>4195.90</td>\n",
              "      <td>4283.08</td>\n",
              "      <td>4607.18</td>\n",
              "      <td>4358.46</td>\n",
              "    </tr>\n",
              "    <tr>\n",
              "      <th>2</th>\n",
              "      <td>4321.03</td>\n",
              "      <td>4015.90</td>\n",
              "      <td>4265.13</td>\n",
              "      <td>4122.56</td>\n",
              "      <td>4333.33</td>\n",
              "      <td>4613.33</td>\n",
              "      <td>4072.82</td>\n",
              "      <td>4602.05</td>\n",
              "      <td>4192.31</td>\n",
              "      <td>4223.08</td>\n",
              "      <td>4155.38</td>\n",
              "      <td>4286.15</td>\n",
              "      <td>4608.21</td>\n",
              "      <td>4371.79</td>\n",
              "    </tr>\n",
              "    <tr>\n",
              "      <th>3</th>\n",
              "      <td>4408.21</td>\n",
              "      <td>4104.10</td>\n",
              "      <td>4380.00</td>\n",
              "      <td>4232.31</td>\n",
              "      <td>4449.74</td>\n",
              "      <td>4750.26</td>\n",
              "      <td>4169.23</td>\n",
              "      <td>4731.28</td>\n",
              "      <td>4311.28</td>\n",
              "      <td>4352.31</td>\n",
              "      <td>4319.49</td>\n",
              "      <td>4388.21</td>\n",
              "      <td>4715.90</td>\n",
              "      <td>4464.10</td>\n",
              "    </tr>\n",
              "    <tr>\n",
              "      <th>4</th>\n",
              "      <td>4347.18</td>\n",
              "      <td>3975.38</td>\n",
              "      <td>4266.67</td>\n",
              "      <td>4102.56</td>\n",
              "      <td>4333.33</td>\n",
              "      <td>4617.95</td>\n",
              "      <td>4097.44</td>\n",
              "      <td>4612.82</td>\n",
              "      <td>4210.77</td>\n",
              "      <td>4240.51</td>\n",
              "      <td>4248.21</td>\n",
              "      <td>4313.33</td>\n",
              "      <td>4664.10</td>\n",
              "      <td>4411.79</td>\n",
              "    </tr>\n",
              "  </tbody>\n",
              "</table>\n",
              "</div>"
            ],
            "text/plain": [
              "       AF3       F7       F3      FC5  ...      FC6       F4       F8      AF4\n",
              "0  4299.49  3997.44  4277.95  4116.92  ...  4211.79  4278.97  4600.00  4369.23\n",
              "1  4302.05  3985.64  4261.03  4129.74  ...  4195.90  4283.08  4607.18  4358.46\n",
              "2  4321.03  4015.90  4265.13  4122.56  ...  4155.38  4286.15  4608.21  4371.79\n",
              "3  4408.21  4104.10  4380.00  4232.31  ...  4319.49  4388.21  4715.90  4464.10\n",
              "4  4347.18  3975.38  4266.67  4102.56  ...  4248.21  4313.33  4664.10  4411.79\n",
              "\n",
              "[5 rows x 14 columns]"
            ]
          },
          "metadata": {
            "tags": []
          },
          "execution_count": 46
        }
      ]
    },
    {
      "cell_type": "code",
      "metadata": {
        "id": "6bZH1lfar8GY",
        "colab_type": "code",
        "outputId": "cc3352d6-50ed-4823-c91e-c04a342001af",
        "colab": {
          "base_uri": "https://localhost:8080/",
          "height": 283
        }
      },
      "source": [
        "features.boxplot()"
      ],
      "execution_count": 47,
      "outputs": [
        {
          "output_type": "execute_result",
          "data": {
            "text/plain": [
              "<matplotlib.axes._subplots.AxesSubplot at 0x7f4dff132b70>"
            ]
          },
          "metadata": {
            "tags": []
          },
          "execution_count": 47
        },
        {
          "output_type": "display_data",
          "data": {
            "image/png": "[encoded data removed]",
            "text/plain": [
              "<Figure size 432x288 with 1 Axes>"
            ]
          },
          "metadata": {
            "tags": [],
            "needs_background": "light"
          }
        }
      ]
    },
    {
      "cell_type": "code",
      "metadata": {
        "id": "Tm2W5-Gxr_f6",
        "colab_type": "code",
        "outputId": "63d05072-fdb6-48a2-d719-e8f4ae258efd",
        "colab": {
          "base_uri": "https://localhost:8080/",
          "height": 348
        }
      },
      "source": [
        "#How many measurements are there of the two classes?\n",
        "print(trainset.label.value_counts())\n",
        "\n",
        "#Are there missing values in some features?\n",
        "print(features.isnull().sum()) "
      ],
      "execution_count": 48,
      "outputs": [
        {
          "output_type": "stream",
          "text": [
            "0    1099\n",
            "1     901\n",
            "Name: label, dtype: int64\n",
            "AF3    0\n",
            "F7     0\n",
            "F3     0\n",
            "FC5    0\n",
            "T7     0\n",
            "P7     0\n",
            "O1     0\n",
            "02     0\n",
            "P8     0\n",
            "T8     0\n",
            "FC6    0\n",
            "F4     0\n",
            "F8     0\n",
            "AF4    0\n",
            "dtype: int64\n"
          ],
          "name": "stdout"
        }
      ]
    },
    {
      "cell_type": "markdown",
      "metadata": {
        "id": "rg9xT31wtnb1",
        "colab_type": "text"
      },
      "source": [
        "I can see from this that the ranges of the different features are not the same, so scaling will be appropriate to use if I want to perform predictions with SVM. Also, I now know that the trainset and testset indeed have 14 features and that the trainset is much smaller than the testset. 1099 instances of this trainset belong to class 0 (open eyes) and 901 instances belong to class 1 (eyes closed).  "
      ]
    },
    {
      "cell_type": "markdown",
      "metadata": {
        "id": "TZhM_-zm1HD8",
        "colab_type": "text"
      },
      "source": [
        "### **Pre-processing**\n",
        "\n",
        "Here, pre-processing the data is done through scaling the data. I don't change the features in any other way than scaling. However, I try different scaling methods. Here, I focussed on *Standerd scaling*, *MinMax scaling*, or *non-scaled* data."
      ]
    },
    {
      "cell_type": "markdown",
      "metadata": {
        "id": "I7n1iKn_2JUj",
        "colab_type": "text"
      },
      "source": [
        "I found information that scaling data around the mean should give the best performance for a SVM model, so I apply the *Standard scaler*. I will already transform the testset too, because this is easy readable this way and I don't have to think about it anymore. This step of transforming the testset doesn't necessarily need to be done here, because this is only needed just before performing predictions."
      ]
    },
    {
      "cell_type": "code",
      "metadata": {
        "id": "RiDtdX3KsmTF",
        "colab_type": "code",
        "outputId": "8c7893d9-527c-4e96-e82b-8a835042876b",
        "colab": {
          "base_uri": "https://localhost:8080/",
          "height": 286
        }
      },
      "source": [
        "from sklearn import preprocessing\n",
        "from sklearn.preprocessing import StandardScaler\n",
        "\n",
        "scaler = preprocessing.StandardScaler()\n",
        "features = scaler.fit_transform(features)\n",
        "test_features = scaler.transform(test_features)\n",
        "\n",
        "features = pd.DataFrame(features, columns=feature_names)\n",
        "test_features = pd.DataFrame(test_features, columns=test_feature_names)\n",
        "\n",
        "#Visualizing the scaled trainset features\n",
        "features.boxplot()"
      ],
      "execution_count": 49,
      "outputs": [
        {
          "output_type": "execute_result",
          "data": {
            "text/plain": [
              "<matplotlib.axes._subplots.AxesSubplot at 0x7f4dff104d30>"
            ]
          },
          "metadata": {
            "tags": []
          },
          "execution_count": 49
        },
        {
          "output_type": "display_data",
          "data": {
            "image/png": "[encoded data removed]",
            "text/plain": [
              "<Figure size 432x288 with 1 Axes>"
            ]
          },
          "metadata": {
            "tags": [],
            "needs_background": "light"
          }
        }
      ]
    },
    {
      "cell_type": "markdown",
      "metadata": {
        "id": "7wkjaUCK29EQ",
        "colab_type": "text"
      },
      "source": [
        "From these boxplots, you can see that all features are now centered around the mean. I will work with these scaled features to find a useful SVM model."
      ]
    },
    {
      "cell_type": "markdown",
      "metadata": {
        "id": "m4yiy2SK45Vf",
        "colab_type": "text"
      },
      "source": [
        "###**Defining the model**\n",
        "\n",
        "I have a choice between many models that are supported by Sklearn. One of these models is the *Support Vector Machine* model. This model is designed to solve two-class classification problems, which is exactly what we have in this project. With the specific *kernel functions* this model can compute not only linear decision boundaries, but also more complicated non-linear decision boundaries without explicitly having to map the features to new polynomial features. The most appropriate kernel function here would be the default *'rbf'*. "
      ]
    },
    {
      "cell_type": "code",
      "metadata": {
        "id": "Mkarz1gC44WI",
        "colab_type": "code",
        "colab": {}
      },
      "source": [
        "from sklearn.svm import SVC\n",
        "model = SVC()"
      ],
      "execution_count": 0,
      "outputs": []
    },
    {
      "cell_type": "markdown",
      "metadata": {
        "id": "g_W-H0go7UO_",
        "colab_type": "text"
      },
      "source": [
        "###**Model validation**\n",
        "\n",
        "Now that I chose this model, I want to know how good the model performes on the trainset and even more, I actually want to know how good it performes on the testset. Unfortunately, I can not test the performance of the model on the testset, because a testset has no labels of course because this functions as unseen data. To estimate the evaluation the performance on the testset I use *Cross-validation* (CV)."
      ]
    },
    {
      "cell_type": "code",
      "metadata": {
        "id": "0imYM3L82vXQ",
        "colab_type": "code",
        "outputId": "a67d7d49-693e-4431-b34f-80a447284018",
        "colab": {
          "base_uri": "https://localhost:8080/",
          "height": 35
        }
      },
      "source": [
        "score = cross_val_score(model, features, trainset.label,scoring='roc_auc', cv= 20).mean()\n",
        "print('AUC score for trainset: '+ str(score))"
      ],
      "execution_count": 51,
      "outputs": [
        {
          "output_type": "stream",
          "text": [
            "AUC score for trainset: 0.897083809105548\n"
          ],
          "name": "stdout"
        }
      ]
    },
    {
      "cell_type": "markdown",
      "metadata": {
        "id": "0W-PknErSWtr",
        "colab_type": "text"
      },
      "source": [
        "As you can see, this is an AUC score of 89,71%, which means that the model with its default values is not a bad choice to use for this data."
      ]
    },
    {
      "cell_type": "markdown",
      "metadata": {
        "id": "Tt5WDl6dskD7",
        "colab_type": "text"
      },
      "source": [
        "I can check if *Standard scaling* realy is the best choice for this model and this dataset. I can use the same validation method and look at the AUC scores for the model fitted on *non-scaled* data and on *MinMax scaled* data."
      ]
    },
    {
      "cell_type": "code",
      "metadata": {
        "id": "USJrs1WZtJlN",
        "colab_type": "code",
        "outputId": "ac2b83b4-4690-49d5-bcf6-7f88c3d5351f",
        "colab": {
          "base_uri": "https://localhost:8080/",
          "height": 283
        }
      },
      "source": [
        "#MinMax scaling\n",
        "from sklearn import preprocessing\n",
        "from sklearn.preprocessing import MinMaxScaler\n",
        "\n",
        "scaler = preprocessing.MinMaxScaler()\n",
        "features = scaler.fit_transform(features)\n",
        "test_features = scaler.transform(test_features)\n",
        "\n",
        "features = pd.DataFrame(features, columns=feature_names)\n",
        "test_features = pd.DataFrame(test_features, columns=test_feature_names)\n",
        "\n",
        "#Visualizing the scaled trainset features\n",
        "features.boxplot()"
      ],
      "execution_count": 52,
      "outputs": [
        {
          "output_type": "execute_result",
          "data": {
            "text/plain": [
              "<matplotlib.axes._subplots.AxesSubplot at 0x7f4df520e320>"
            ]
          },
          "metadata": {
            "tags": []
          },
          "execution_count": 52
        },
        {
          "output_type": "display_data",
          "data": {
            "image/png": "[encoded data removed]",
            "text/plain": [
              "<Figure size 432x288 with 1 Axes>"
            ]
          },
          "metadata": {
            "tags": [],
            "needs_background": "light"
          }
        }
      ]
    },
    {
      "cell_type": "code",
      "metadata": {
        "id": "T8Kao8SqtZTi",
        "colab_type": "code",
        "outputId": "50aab209-da51-4d38-e528-aa938b2d7b00",
        "colab": {
          "base_uri": "https://localhost:8080/",
          "height": 35
        }
      },
      "source": [
        "score = cross_val_score(model, features, trainset.label,scoring='roc_auc', cv= 20).mean()\n",
        "print('AUC score for MinMax scaled trainset: '+ str(score))"
      ],
      "execution_count": 53,
      "outputs": [
        {
          "output_type": "stream",
          "text": [
            "AUC score for MinMax scaled trainset: 0.8796913336261163\n"
          ],
          "name": "stdout"
        }
      ]
    },
    {
      "cell_type": "markdown",
      "metadata": {
        "id": "IOO9wGEz7Vgv",
        "colab_type": "text"
      },
      "source": [
        "I import the data again to have the features not scaled."
      ]
    },
    {
      "cell_type": "code",
      "metadata": {
        "id": "3iqNl1yVtgyE",
        "colab_type": "code",
        "outputId": "3fbfc5f9-61e2-417b-fa41-a25df5c69796",
        "colab": {
          "base_uri": "https://localhost:8080/",
          "height": 283
        }
      },
      "source": [
        "#Loading data again for non-scaled data\n",
        "trainset = pd.read_csv(\"https://raw.githubusercontent.com/sdgroeve/Machine_Learning_course_UGent_D012554_kaggle/master/eeg_train.csv\")\n",
        "testset = pd.read_csv(\"https://raw.githubusercontent.com/sdgroeve/Machine_Learning_course_UGent_D012554_kaggle/master/eeg_test.csv\")\n",
        "\n",
        "#Get features dataframe\n",
        "features = trainset.copy()\n",
        "features.pop('label')\n",
        "feature_names = list(features.columns)\n",
        "\n",
        "#Get test features without the index column\n",
        "test_features = testset.copy()\n",
        "test_features.pop('index')\n",
        "test_feature_names = list(test_features.columns)\n",
        "\n",
        "features.boxplot()"
      ],
      "execution_count": 54,
      "outputs": [
        {
          "output_type": "execute_result",
          "data": {
            "text/plain": [
              "<matplotlib.axes._subplots.AxesSubplot at 0x7f4dfed8c550>"
            ]
          },
          "metadata": {
            "tags": []
          },
          "execution_count": 54
        },
        {
          "output_type": "display_data",
          "data": {
            "image/png": "[encoded data removed]",
            "text/plain": [
              "<Figure size 432x288 with 1 Axes>"
            ]
          },
          "metadata": {
            "tags": [],
            "needs_background": "light"
          }
        }
      ]
    },
    {
      "cell_type": "code",
      "metadata": {
        "id": "n61h68BKtpqO",
        "colab_type": "code",
        "outputId": "3a970c1c-1677-4335-999f-9e8868d7b3a0",
        "colab": {
          "base_uri": "https://localhost:8080/",
          "height": 35
        }
      },
      "source": [
        "#Non-scaled data\n",
        "score = cross_val_score(model, features, trainset.label,scoring='roc_auc', cv= 20).mean()\n",
        "print('AUC score for non-scaled trainset: '+ str(score))"
      ],
      "execution_count": 55,
      "outputs": [
        {
          "output_type": "stream",
          "text": [
            "AUC score for non-scaled trainset: 0.6246116966769141\n"
          ],
          "name": "stdout"
        }
      ]
    },
    {
      "cell_type": "markdown",
      "metadata": {
        "id": "ThrnZTxtu9ut",
        "colab_type": "text"
      },
      "source": [
        "These 3 AUC scores clearly show that *Standard scaler* is the best scaling method to transform the data in this case.\n",
        "\n",
        "This is why I am going to scale this data again now, before going onto the next step:"
      ]
    },
    {
      "cell_type": "code",
      "metadata": {
        "id": "2EAHSHoLwP5g",
        "colab_type": "code",
        "colab": {}
      },
      "source": [
        "from sklearn import preprocessing\n",
        "from sklearn.preprocessing import StandardScaler\n",
        "\n",
        "scaler = preprocessing.StandardScaler()\n",
        "features = scaler.fit_transform(features)\n",
        "test_features = scaler.transform(test_features)\n",
        "\n",
        "features = pd.DataFrame(features, columns=feature_names)\n",
        "test_features = pd.DataFrame(test_features, columns=test_feature_names)"
      ],
      "execution_count": 0,
      "outputs": []
    },
    {
      "cell_type": "markdown",
      "metadata": {
        "id": "O1F5tjSqTQtU",
        "colab_type": "text"
      },
      "source": [
        "###**Hyperparameter tuning**\n",
        "\n",
        "The next step is highering the AUC score. This means I have to refine my model with better hyperparameters. I do this with *GridSearchCV*. This system has again the CV implemented, which makes this a good way to evaluate the hyperparameters."
      ]
    },
    {
      "cell_type": "code",
      "metadata": {
        "id": "Qp9il65iSKlU",
        "colab_type": "code",
        "outputId": "3be5cc22-4392-443f-dcef-699023637e75",
        "colab": {
          "base_uri": "https://localhost:8080/",
          "height": 90
        }
      },
      "source": [
        "#How do the parameters look like in this model?\n",
        "model.get_params"
      ],
      "execution_count": 57,
      "outputs": [
        {
          "output_type": "execute_result",
          "data": {
            "text/plain": [
              "<bound method BaseEstimator.get_params of SVC(C=1.0, break_ties=False, cache_size=200, class_weight=None, coef0=0.0,\n",
              "    decision_function_shape='ovr', degree=3, gamma='scale', kernel='rbf',\n",
              "    max_iter=-1, probability=False, random_state=None, shrinking=True,\n",
              "    tol=0.001, verbose=False)>"
            ]
          },
          "metadata": {
            "tags": []
          },
          "execution_count": 57
        }
      ]
    },
    {
      "cell_type": "code",
      "metadata": {
        "id": "Q0YorprWXTig",
        "colab_type": "code",
        "outputId": "3f9e9e0f-f05a-4b1b-ddb2-ab14459bc0fe",
        "colab": {
          "base_uri": "https://localhost:8080/",
          "height": 54
        }
      },
      "source": [
        "from sklearn.model_selection import GridSearchCV\n",
        "\n",
        "Cs = [1,10, 20, 50, 80, 100]\n",
        "gammas = ['scale', 'auto',1, 0.01]\n",
        "\n",
        "model = SVC(probability=True)\n",
        "params = dict(C=Cs, gamma=gammas)\n",
        "grid_search = GridSearchCV(model, param_grid=params, scoring='roc_auc', cv=20)\n",
        "grid_search.fit(features, trainset.label)\n",
        "\n",
        "print(grid_search.best_params_)\n",
        "print(grid_search.best_score_)"
      ],
      "execution_count": 58,
      "outputs": [
        {
          "output_type": "stream",
          "text": [
            "{'C': 10, 'gamma': 1}\n",
            "0.9632607963694919\n"
          ],
          "name": "stdout"
        }
      ]
    },
    {
      "cell_type": "markdown",
      "metadata": {
        "id": "FFdkFaF-Xs34",
        "colab_type": "text"
      },
      "source": [
        "I can try to refine the hyperparameter C even more:"
      ]
    },
    {
      "cell_type": "code",
      "metadata": {
        "id": "NwukEfQsXrxE",
        "colab_type": "code",
        "outputId": "33717c7f-15b2-454a-f2fd-d8d3b81e274c",
        "colab": {
          "base_uri": "https://localhost:8080/",
          "height": 54
        }
      },
      "source": [
        "from sklearn.model_selection import GridSearchCV\n",
        "\n",
        "Cs = [4,5,6,7,8,9,10]\n",
        "\n",
        "model = SVC(gamma=1, probability=True)\n",
        "params = dict(C=Cs)\n",
        "grid_search = GridSearchCV(model, param_grid=params, scoring='roc_auc', cv=30)\n",
        "grid_search.fit(features, trainset.label)\n",
        "\n",
        "print(grid_search.best_params_)\n",
        "print(grid_search.best_score_)"
      ],
      "execution_count": 59,
      "outputs": [
        {
          "output_type": "stream",
          "text": [
            "{'C': 8}\n",
            "0.9645392704532489\n"
          ],
          "name": "stdout"
        }
      ]
    },
    {
      "cell_type": "markdown",
      "metadata": {
        "id": "jYh_boMKYJQy",
        "colab_type": "text"
      },
      "source": [
        "The model validation score seems to be the best score I can obtain with C = 8 and gamma =1. So, I deside to use the SVM model with these optimized parameter values."
      ]
    },
    {
      "cell_type": "code",
      "metadata": {
        "id": "0lgFQNETXbr-",
        "colab_type": "code",
        "outputId": "14b5987f-496f-4096-d3e0-095158b00beb",
        "colab": {
          "base_uri": "https://localhost:8080/",
          "height": 109
        }
      },
      "source": [
        "#The SVM model with the best hyperparameter values\n",
        "print(grid_search.best_estimator_)\n",
        "print('AUC score for trainset: ' + str(grid_search.best_score_))"
      ],
      "execution_count": 60,
      "outputs": [
        {
          "output_type": "stream",
          "text": [
            "SVC(C=8, break_ties=False, cache_size=200, class_weight=None, coef0=0.0,\n",
            "    decision_function_shape='ovr', degree=3, gamma=1, kernel='rbf', max_iter=-1,\n",
            "    probability=True, random_state=None, shrinking=True, tol=0.001,\n",
            "    verbose=False)\n",
            "AUC score for trainset: 0.9645392704532489\n"
          ],
          "name": "stdout"
        }
      ]
    },
    {
      "cell_type": "markdown",
      "metadata": {
        "id": "enULHAAYZQzz",
        "colab_type": "text"
      },
      "source": [
        "###**Predictions**\n",
        "\n",
        "As a last step in the process, I want to do predictions with my optimized model. Therefore, I first need to *fit* the model to the trainset, then make *predictions* and lastly I can save the predicted probabilities for the positive class into a *csv-file*."
      ]
    },
    {
      "cell_type": "code",
      "metadata": {
        "id": "WoHtiJA4ZQYw",
        "colab_type": "code",
        "outputId": "39f3aef7-0a3c-4380-a2ab-9fd341780b35",
        "colab": {
          "base_uri": "https://localhost:8080/",
          "height": 206
        }
      },
      "source": [
        "#Define model\n",
        "model = grid_search.best_estimator_\n",
        "\n",
        "#Fit model\n",
        "model.fit(features,trainset.label)\n",
        "\n",
        "#Make predictions\n",
        "predictions = model.predict_proba(test_features)[:,1]\n",
        "\n",
        "results_SVM = pd.DataFrame({'index': testset['index'], 'label': predictions})\n",
        "results_SVM.head()"
      ],
      "execution_count": 61,
      "outputs": [
        {
          "output_type": "execute_result",
          "data": {
            "text/html": [
              "<div>\n",
              "<style scoped>\n",
              "    .dataframe tbody tr th:only-of-type {\n",
              "        vertical-align: middle;\n",
              "    }\n",
              "\n",
              "    .dataframe tbody tr th {\n",
              "        vertical-align: top;\n",
              "    }\n",
              "\n",
              "    .dataframe thead th {\n",
              "        text-align: right;\n",
              "    }\n",
              "</style>\n",
              "<table border=\"1\" class=\"dataframe\">\n",
              "  <thead>\n",
              "    <tr style=\"text-align: right;\">\n",
              "      <th></th>\n",
              "      <th>index</th>\n",
              "      <th>label</th>\n",
              "    </tr>\n",
              "  </thead>\n",
              "  <tbody>\n",
              "    <tr>\n",
              "      <th>0</th>\n",
              "      <td>0</td>\n",
              "      <td>0.003097</td>\n",
              "    </tr>\n",
              "    <tr>\n",
              "      <th>1</th>\n",
              "      <td>1</td>\n",
              "      <td>0.353494</td>\n",
              "    </tr>\n",
              "    <tr>\n",
              "      <th>2</th>\n",
              "      <td>2</td>\n",
              "      <td>0.006209</td>\n",
              "    </tr>\n",
              "    <tr>\n",
              "      <th>3</th>\n",
              "      <td>3</td>\n",
              "      <td>0.996972</td>\n",
              "    </tr>\n",
              "    <tr>\n",
              "      <th>4</th>\n",
              "      <td>4</td>\n",
              "      <td>0.946457</td>\n",
              "    </tr>\n",
              "  </tbody>\n",
              "</table>\n",
              "</div>"
            ],
            "text/plain": [
              "   index     label\n",
              "0      0  0.003097\n",
              "1      1  0.353494\n",
              "2      2  0.006209\n",
              "3      3  0.996972\n",
              "4      4  0.946457"
            ]
          },
          "metadata": {
            "tags": []
          },
          "execution_count": 61
        }
      ]
    },
    {
      "cell_type": "code",
      "metadata": {
        "id": "Z74OcQBVYITx",
        "colab_type": "code",
        "colab": {}
      },
      "source": [
        "filename = \"my_prediction_results_SVM.csv\"\n",
        "results_SVM.to_csv(filename,index=False)"
      ],
      "execution_count": 0,
      "outputs": []
    },
    {
      "cell_type": "markdown",
      "metadata": {
        "id": "6A3WRzjkeKQ2",
        "colab_type": "text"
      },
      "source": [
        "## K-nearest neighbors (KNN)\n",
        "My second best model.\n",
        "\n",
        "*K-nearest neighbors* has a totally different concept compared to *SVM*. *KNN* is a machine learning method that relies on supervised neighbors-based learning. Neighbors-based classification is a type of instance-based learning or non-generalizing learning: it does not attempt to construct a general internal model, but simply stores instances of the training data. Classification is computed from a simple majority vote of the nearest neighbors of each point: a query point is assigned the data class which has the most representatives within the nearest neighbors of the point.\n",
        "\n",
        "Source: [sklearn](https://scikit-learn.org/stable/modules/neighbors.html#classification)"
      ]
    },
    {
      "cell_type": "markdown",
      "metadata": {
        "id": "33WBT3y6efdS",
        "colab_type": "text"
      },
      "source": [
        "###**Loading data**"
      ]
    },
    {
      "cell_type": "code",
      "metadata": {
        "id": "6M7_XCh6eSDu",
        "colab_type": "code",
        "colab": {}
      },
      "source": [
        "#Loading data\n",
        "trainset = pd.read_csv(\"https://raw.githubusercontent.com/sdgroeve/Machine_Learning_course_UGent_D012554_kaggle/master/eeg_train.csv\")\n",
        "testset = pd.read_csv(\"https://raw.githubusercontent.com/sdgroeve/Machine_Learning_course_UGent_D012554_kaggle/master/eeg_test.csv\")\n",
        "\n",
        "#Get features dataframe\n",
        "features = trainset.copy()\n",
        "features.pop('label')\n",
        "feature_names = list(features.columns)\n",
        "\n",
        "#Get test features without the index column\n",
        "test_features = testset.copy()\n",
        "test_features.pop('index')\n",
        "test_feature_names = list(test_features.columns)"
      ],
      "execution_count": 0,
      "outputs": []
    },
    {
      "cell_type": "code",
      "metadata": {
        "id": "JF3wpq43eudP",
        "colab_type": "code",
        "outputId": "189accce-0d8b-498e-b00e-c4f841010734",
        "colab": {
          "base_uri": "https://localhost:8080/",
          "height": 283
        }
      },
      "source": [
        "features.boxplot()"
      ],
      "execution_count": 64,
      "outputs": [
        {
          "output_type": "execute_result",
          "data": {
            "text/plain": [
              "<matplotlib.axes._subplots.AxesSubplot at 0x7f4df4efefd0>"
            ]
          },
          "metadata": {
            "tags": []
          },
          "execution_count": 64
        },
        {
          "output_type": "display_data",
          "data": {
            "image/png": "[encoded data removed]",
            "text/plain": [
              "<Figure size 432x288 with 1 Axes>"
            ]
          },
          "metadata": {
            "tags": [],
            "needs_background": "light"
          }
        }
      ]
    },
    {
      "cell_type": "markdown",
      "metadata": {
        "id": "6CyJW-C8e4lD",
        "colab_type": "text"
      },
      "source": [
        "### **Pre-processing + Defining the model**\n",
        "\n",
        "Here, I can do the same as pointed out for the SVM model. I can try different scaling methods, such as *non-scaled data*, *Standerd scaling*, or *MinMax scaling*. \n",
        "Afterwards I evaluate the performance of the *KNN* model on the different transformed features."
      ]
    },
    {
      "cell_type": "code",
      "metadata": {
        "id": "42utjem1hcuv",
        "colab_type": "code",
        "outputId": "58e1e319-443d-4f13-a408-aec3544d1c38",
        "colab": {
          "base_uri": "https://localhost:8080/",
          "height": 35
        }
      },
      "source": [
        "from sklearn.neighbors import KNeighborsClassifier\n",
        "\n",
        "model = KNeighborsClassifier()\n",
        "\n",
        "#Score on non-scaled data\n",
        "score = cross_val_score(model, features, trainset.label,scoring='roc_auc', cv= 20).mean()\n",
        "print('AUC score for trainset: '+ str(score))"
      ],
      "execution_count": 65,
      "outputs": [
        {
          "output_type": "stream",
          "text": [
            "AUC score for trainset: 0.9442850241545893\n"
          ],
          "name": "stdout"
        }
      ]
    },
    {
      "cell_type": "code",
      "metadata": {
        "id": "pfevF5Hcez2l",
        "colab_type": "code",
        "colab": {}
      },
      "source": [
        "#Standard scaler\n",
        "from sklearn import preprocessing\n",
        "from sklearn.preprocessing import StandardScaler\n",
        "\n",
        "scaler = preprocessing.StandardScaler()\n",
        "features = scaler.fit_transform(features)\n",
        "test_features = scaler.transform(test_features)\n",
        "\n",
        "features = pd.DataFrame(features, columns=feature_names)\n",
        "test_features = pd.DataFrame(test_features, columns=test_feature_names)"
      ],
      "execution_count": 0,
      "outputs": []
    },
    {
      "cell_type": "code",
      "metadata": {
        "id": "r4t9FNXOgR4E",
        "colab_type": "code",
        "outputId": "143b4c43-4fe2-4340-a808-049320b338e8",
        "colab": {
          "base_uri": "https://localhost:8080/",
          "height": 35
        }
      },
      "source": [
        "score = cross_val_score(model, features, trainset.label,scoring='roc_auc', cv= 20).mean()\n",
        "print('AUC score for Standard scaled trainset: '+ str(score))"
      ],
      "execution_count": 67,
      "outputs": [
        {
          "output_type": "stream",
          "text": [
            "AUC score for Standard scaled trainset: 0.9417285170546041\n"
          ],
          "name": "stdout"
        }
      ]
    },
    {
      "cell_type": "code",
      "metadata": {
        "id": "9aWZiRtrhZhY",
        "colab_type": "code",
        "colab": {}
      },
      "source": [
        "#MinMaxScaler\n",
        "from sklearn import preprocessing\n",
        "from sklearn.preprocessing import MinMaxScaler\n",
        "\n",
        "scaler = preprocessing.MinMaxScaler()\n",
        "features = scaler.fit_transform(features)\n",
        "test_features = scaler.transform(test_features)\n",
        "\n",
        "features = pd.DataFrame(features, columns=feature_names)\n",
        "test_features = pd.DataFrame(test_features, columns=test_feature_names)"
      ],
      "execution_count": 0,
      "outputs": []
    },
    {
      "cell_type": "code",
      "metadata": {
        "id": "D3KqSe0Vh9ks",
        "colab_type": "code",
        "outputId": "96ba756a-8172-4290-8d37-25d6ef3d3db9",
        "colab": {
          "base_uri": "https://localhost:8080/",
          "height": 35
        }
      },
      "source": [
        "score = cross_val_score(model, features, trainset.label,scoring='roc_auc', cv= 20).mean()\n",
        "print('AUC score for MinMax scaled trainset: '+ str(score))"
      ],
      "execution_count": 69,
      "outputs": [
        {
          "output_type": "stream",
          "text": [
            "AUC score for MinMax scaled trainset: 0.9430438076416339\n"
          ],
          "name": "stdout"
        }
      ]
    },
    {
      "cell_type": "markdown",
      "metadata": {
        "id": "al7TrRhoiQFb",
        "colab_type": "text"
      },
      "source": [
        "These 3 scores suggest that *non-scaled* data would work best for fitting this model on the trainset. This is different compared to the *Standard scaled data* to be used in the SVM model."
      ]
    },
    {
      "cell_type": "markdown",
      "metadata": {
        "id": "sBZCpkmditIN",
        "colab_type": "text"
      },
      "source": [
        "To make the workflow of this notebook easy, I import the datasets once more, to be sure that the data is not scaled."
      ]
    },
    {
      "cell_type": "code",
      "metadata": {
        "id": "rZdX-EMYiBRv",
        "colab_type": "code",
        "colab": {}
      },
      "source": [
        "#Loading data\n",
        "trainset = pd.read_csv(\"https://raw.githubusercontent.com/sdgroeve/Machine_Learning_course_UGent_D012554_kaggle/master/eeg_train.csv\")\n",
        "testset = pd.read_csv(\"https://raw.githubusercontent.com/sdgroeve/Machine_Learning_course_UGent_D012554_kaggle/master/eeg_test.csv\")\n",
        "\n",
        "#Get features dataframe\n",
        "features = trainset.copy()\n",
        "features.pop('label')\n",
        "feature_names = list(features.columns)\n",
        "\n",
        "#Get test features without the index column\n",
        "test_features = testset.copy()\n",
        "test_features.pop('index')\n",
        "test_feature_names = list(test_features.columns)"
      ],
      "execution_count": 0,
      "outputs": []
    },
    {
      "cell_type": "markdown",
      "metadata": {
        "id": "IVzTsVUfjbae",
        "colab_type": "text"
      },
      "source": [
        "###**Hyperparameter tuning**\n",
        "\n",
        "Again like SVM, a *KNN* model has some hyperparameters that can be set by myself in order to gain performance. I find new values with *GridSearchCV*."
      ]
    },
    {
      "cell_type": "code",
      "metadata": {
        "id": "cvzstZsii98I",
        "colab_type": "code",
        "outputId": "a6072a07-fa18-449a-8aa7-f4bf87dce836",
        "colab": {
          "base_uri": "https://localhost:8080/",
          "height": 72
        }
      },
      "source": [
        "#Which parameters?\n",
        "model.get_params"
      ],
      "execution_count": 71,
      "outputs": [
        {
          "output_type": "execute_result",
          "data": {
            "text/plain": [
              "<bound method BaseEstimator.get_params of KNeighborsClassifier(algorithm='auto', leaf_size=30, metric='minkowski',\n",
              "                     metric_params=None, n_jobs=None, n_neighbors=5, p=2,\n",
              "                     weights='uniform')>"
            ]
          },
          "metadata": {
            "tags": []
          },
          "execution_count": 71
        }
      ]
    },
    {
      "cell_type": "code",
      "metadata": {
        "id": "juXmo-Urj567",
        "colab_type": "code",
        "outputId": "aea68ab5-0207-4fbb-99fb-d487beb8067c",
        "colab": {
          "base_uri": "https://localhost:8080/",
          "height": 54
        }
      },
      "source": [
        "from sklearn.model_selection import GridSearchCV\n",
        "\n",
        "neighbors = [2,3,4,5,6,7]\n",
        "weigh = ['uniform', 'distance']\n",
        "ps = [1,1.5,2,2.5,3]\n",
        "leafs = [20,25,30,35,40]\n",
        "\n",
        "params = dict(n_neighbors=neighbors, weights=weigh,p=ps, leaf_size=leafs)\n",
        "grid_search = GridSearchCV(model, param_grid=params, scoring='roc_auc', cv=20)\n",
        "grid_search.fit(features, trainset.label)\n",
        "\n",
        "print(grid_search.best_params_)\n",
        "print(grid_search.best_score_)"
      ],
      "execution_count": 72,
      "outputs": [
        {
          "output_type": "stream",
          "text": [
            "{'leaf_size': 20, 'n_neighbors': 4, 'p': 2.5, 'weights': 'distance'}\n",
            "0.9612608329673547\n"
          ],
          "name": "stdout"
        }
      ]
    },
    {
      "cell_type": "markdown",
      "metadata": {
        "id": "x4JRDIhPlINt",
        "colab_type": "text"
      },
      "source": [
        "I can try to refine the *leaf_size* more, because this was at the lower border now of my search space for this parameter. Maybe the score improves when I choose a lower value."
      ]
    },
    {
      "cell_type": "code",
      "metadata": {
        "id": "evDf8h22k4ez",
        "colab_type": "code",
        "outputId": "0812d69d-1505-4f79-fd90-a2da9f0ad4e4",
        "colab": {
          "base_uri": "https://localhost:8080/",
          "height": 109
        }
      },
      "source": [
        "from sklearn.model_selection import GridSearchCV\n",
        "\n",
        "model = KNeighborsClassifier(n_neighbors=4, p=2.5, weights='distance')\n",
        "\n",
        "leafs = [1,3,5,10,20]\n",
        "\n",
        "params = dict(leaf_size=leafs)\n",
        "grid_search = GridSearchCV(model, param_grid=params, scoring='roc_auc', cv=20)\n",
        "grid_search.fit(features, trainset.label)\n",
        "\n",
        "print(grid_search.best_params_)\n",
        "print(grid_search.best_score_)\n",
        "print(grid_search.best_estimator_)"
      ],
      "execution_count": 73,
      "outputs": [
        {
          "output_type": "stream",
          "text": [
            "{'leaf_size': 1}\n",
            "0.9612608329673547\n",
            "KNeighborsClassifier(algorithm='auto', leaf_size=1, metric='minkowski',\n",
            "                     metric_params=None, n_jobs=None, n_neighbors=4, p=2.5,\n",
            "                     weights='distance')\n"
          ],
          "name": "stdout"
        }
      ]
    },
    {
      "cell_type": "markdown",
      "metadata": {
        "id": "c9s60dqtmFzX",
        "colab_type": "text"
      },
      "source": [
        "I can have a closer look at the results of this GridSearchCV:"
      ]
    },
    {
      "cell_type": "code",
      "metadata": {
        "id": "7yoJhYUYmCay",
        "colab_type": "code",
        "outputId": "b2d89afa-6955-4219-e780-c40953a1538c",
        "colab": {
          "base_uri": "https://localhost:8080/",
          "height": 109
        }
      },
      "source": [
        "means = grid_search.cv_results_['mean_test_score']\n",
        "stds = grid_search.cv_results_['std_test_score']\n",
        "\n",
        "for mean_score, std, params in zip(means, stds, grid_search.cv_results_['params']):\n",
        "    print(\"{:.4f} (+/-{:.4f}) for {}\".format(mean_score, std * 2, params))"
      ],
      "execution_count": 74,
      "outputs": [
        {
          "output_type": "stream",
          "text": [
            "0.9613 (+/-0.0312) for {'leaf_size': 1}\n",
            "0.9613 (+/-0.0312) for {'leaf_size': 3}\n",
            "0.9613 (+/-0.0312) for {'leaf_size': 5}\n",
            "0.9613 (+/-0.0312) for {'leaf_size': 10}\n",
            "0.9613 (+/-0.0312) for {'leaf_size': 20}\n"
          ],
          "name": "stdout"
        }
      ]
    },
    {
      "cell_type": "markdown",
      "metadata": {
        "id": "SN2V85YHmYWJ",
        "colab_type": "text"
      },
      "source": [
        "These results suggest that the *leaf_size* doesn't realy matter that much for a better CV performance, once you choose a value smaller than 20. I choose to go further with leaf_size = 1."
      ]
    },
    {
      "cell_type": "markdown",
      "metadata": {
        "id": "z_lVBV3Bn2LS",
        "colab_type": "text"
      },
      "source": [
        "###**Model validation**\n",
        "\n",
        "According to these GridsearchCV results, I can conclude that the best optimized *KNN* model can be defined as follows, accompagnied with following AUC score:"
      ]
    },
    {
      "cell_type": "code",
      "metadata": {
        "id": "xoQjce-rmWPc",
        "colab_type": "code",
        "outputId": "9b74d41e-63f0-49bd-a443-8fdeb8b43d65",
        "colab": {
          "base_uri": "https://localhost:8080/",
          "height": 90
        }
      },
      "source": [
        "print(grid_search.best_estimator_)\n",
        "print('AUC score for trainset: ' + str(grid_search.best_score_))"
      ],
      "execution_count": 75,
      "outputs": [
        {
          "output_type": "stream",
          "text": [
            "KNeighborsClassifier(algorithm='auto', leaf_size=1, metric='minkowski',\n",
            "                     metric_params=None, n_jobs=None, n_neighbors=4, p=2.5,\n",
            "                     weights='distance')\n",
            "AUC score for trainset: 0.9612608329673547\n"
          ],
          "name": "stdout"
        }
      ]
    },
    {
      "cell_type": "markdown",
      "metadata": {
        "id": "2dMZU6ZloFWK",
        "colab_type": "text"
      },
      "source": [
        "###**Predictions**\n",
        "\n",
        "This last step is exactly the same as described above for the SVM model."
      ]
    },
    {
      "cell_type": "code",
      "metadata": {
        "id": "Q5xZ9CnFnI0v",
        "colab_type": "code",
        "outputId": "109feaac-fa8d-465c-c32a-5d7f2318170a",
        "colab": {
          "base_uri": "https://localhost:8080/",
          "height": 206
        }
      },
      "source": [
        "#Define model\n",
        "model = grid_search.best_estimator_\n",
        "\n",
        "#Fit model\n",
        "model.fit(features,trainset.label)\n",
        "\n",
        "#Make predictions\n",
        "predictions = model.predict_proba(test_features)[:,1]\n",
        "\n",
        "results_KNN = pd.DataFrame({'index': testset['index'], 'label': predictions})\n",
        "results_KNN.head()"
      ],
      "execution_count": 76,
      "outputs": [
        {
          "output_type": "execute_result",
          "data": {
            "text/html": [
              "<div>\n",
              "<style scoped>\n",
              "    .dataframe tbody tr th:only-of-type {\n",
              "        vertical-align: middle;\n",
              "    }\n",
              "\n",
              "    .dataframe tbody tr th {\n",
              "        vertical-align: top;\n",
              "    }\n",
              "\n",
              "    .dataframe thead th {\n",
              "        text-align: right;\n",
              "    }\n",
              "</style>\n",
              "<table border=\"1\" class=\"dataframe\">\n",
              "  <thead>\n",
              "    <tr style=\"text-align: right;\">\n",
              "      <th></th>\n",
              "      <th>index</th>\n",
              "      <th>label</th>\n",
              "    </tr>\n",
              "  </thead>\n",
              "  <tbody>\n",
              "    <tr>\n",
              "      <th>0</th>\n",
              "      <td>0</td>\n",
              "      <td>0.000000</td>\n",
              "    </tr>\n",
              "    <tr>\n",
              "      <th>1</th>\n",
              "      <td>1</td>\n",
              "      <td>0.746633</td>\n",
              "    </tr>\n",
              "    <tr>\n",
              "      <th>2</th>\n",
              "      <td>2</td>\n",
              "      <td>0.000000</td>\n",
              "    </tr>\n",
              "    <tr>\n",
              "      <th>3</th>\n",
              "      <td>3</td>\n",
              "      <td>1.000000</td>\n",
              "    </tr>\n",
              "    <tr>\n",
              "      <th>4</th>\n",
              "      <td>4</td>\n",
              "      <td>1.000000</td>\n",
              "    </tr>\n",
              "  </tbody>\n",
              "</table>\n",
              "</div>"
            ],
            "text/plain": [
              "   index     label\n",
              "0      0  0.000000\n",
              "1      1  0.746633\n",
              "2      2  0.000000\n",
              "3      3  1.000000\n",
              "4      4  1.000000"
            ]
          },
          "metadata": {
            "tags": []
          },
          "execution_count": 76
        }
      ]
    },
    {
      "cell_type": "code",
      "metadata": {
        "id": "cPky7cQooWT8",
        "colab_type": "code",
        "colab": {}
      },
      "source": [
        "filename = \"my_prediction_results_KNN.csv\"\n",
        "results_KNN.to_csv(filename,index=False)"
      ],
      "execution_count": 0,
      "outputs": []
    },
    {
      "cell_type": "markdown",
      "metadata": {
        "id": "S5HGKFGgrbvW",
        "colab_type": "text"
      },
      "source": [
        "##Extra: Voting Classifier"
      ]
    },
    {
      "cell_type": "markdown",
      "metadata": {
        "id": "YQSsZ8INwkWJ",
        "colab_type": "text"
      },
      "source": [
        "I've tried different models and tuned all their parameters. This was the time I had to go to a higher level.\n",
        "With the *Voting classifier* I obtained my highest score in this Kaggle Competition. I will go through this process, providing less info compared to the *SVM* and *KNN* models, because this is extra. Nevertheless, I've included this in my report, because I've spent most of my time tuning this model and it is a realy interesting concept. \n",
        "\n",
        "Source: [sklearn](https://scikit-learn.org/stable/modules/ensemble.html#voting-classifier)"
      ]
    },
    {
      "cell_type": "markdown",
      "metadata": {
        "id": "19M3cNvKzn4w",
        "colab_type": "text"
      },
      "source": [
        "###**Loading data**"
      ]
    },
    {
      "cell_type": "code",
      "metadata": {
        "id": "UoWKcI5qod3W",
        "colab_type": "code",
        "colab": {}
      },
      "source": [
        "#Loading data\n",
        "trainset = pd.read_csv(\"https://raw.githubusercontent.com/sdgroeve/Machine_Learning_course_UGent_D012554_kaggle/master/eeg_train.csv\")\n",
        "testset = pd.read_csv(\"https://raw.githubusercontent.com/sdgroeve/Machine_Learning_course_UGent_D012554_kaggle/master/eeg_test.csv\")\n",
        "\n",
        "#Get features dataframe\n",
        "features = trainset.copy()\n",
        "features.pop('label')\n",
        "feature_names = list(features.columns)\n",
        "\n",
        "#Get test features without the index column\n",
        "test_features = testset.copy()\n",
        "test_features.pop('index')\n",
        "test_feature_names = list(test_features.columns)"
      ],
      "execution_count": 0,
      "outputs": []
    },
    {
      "cell_type": "markdown",
      "metadata": {
        "id": "_Bxzo--hz6Mj",
        "colab_type": "text"
      },
      "source": [
        "###**Pre-processing**\n",
        "\n",
        "In this case, the *Voting Classifier* needs other models (or estimators) to compile into an ensemble. The training happens on this ensemble of numerous models and it makes predictions based on their highest probability of chosen class as the output. This means that preprocessing more includes defining the various models to use in the ensemble."
      ]
    },
    {
      "cell_type": "code",
      "metadata": {
        "id": "2YcuohuYzusv",
        "colab_type": "code",
        "colab": {}
      },
      "source": [
        "from sklearn.pipeline import make_pipeline\n",
        "from sklearn.ensemble import RandomForestClassifier\n",
        "from xgboost import XGBClassifier\n",
        "from sklearn.ensemble import VotingClassifier\n",
        "\n",
        "#4 classifiers\n",
        "clf1 = make_pipeline(StandardScaler(), SVC(C=8, gamma=1, \n",
        "                                           probability=True))\n",
        "clf2 = RandomForestClassifier(criterion='entropy', n_estimators=310, \n",
        "                              max_depth=27, random_state=0, \n",
        "                              bootstrap=False)\n",
        "clf3 = XGBClassifier(n_estimators=900, gamma=0, max_depth=8, \n",
        "                     min_child_weight=0, learning_rate=0.1, \n",
        "                     colsample_bytree=0.9, subsample=0.6,\n",
        "                     reg_alpha=1e-5)\n",
        "clf4 = KNeighborsClassifier(algorithm='auto', leaf_size=1,\n",
        "                            n_neighbors=4, p=2.5, weights='distance')"
      ],
      "execution_count": 0,
      "outputs": []
    },
    {
      "cell_type": "markdown",
      "metadata": {
        "id": "c6Qc_lW23MWC",
        "colab_type": "text"
      },
      "source": [
        "As you can see in the code cell above, I used 4 different models. clf1 and clf4 represent my two best models I described above. Together with these two, I also include optimized *Random Forest* and *XGBoost* models."
      ]
    },
    {
      "cell_type": "markdown",
      "metadata": {
        "id": "qbOJb_Bt308x",
        "colab_type": "text"
      },
      "source": [
        "###**Defining the model**\n",
        "\n",
        "The *Voting Classifier* from sklearn is an ensemble method that aggregates the findings of each classifier passed into *Voting Classifier* and predicts the output class based on the highest majority of voting."
      ]
    },
    {
      "cell_type": "code",
      "metadata": {
        "id": "r1ngD-vP3Kz9",
        "colab_type": "code",
        "colab": {}
      },
      "source": [
        "ensemble = VotingClassifier(estimators=[('svc', clf1), ('rf', clf2), \n",
        "                                    ('xgb', clf3), ('kkn', clf4)]\n",
        "                          , voting='soft')"
      ],
      "execution_count": 0,
      "outputs": []
    },
    {
      "cell_type": "markdown",
      "metadata": {
        "id": "ndBmKK5M6UpG",
        "colab_type": "text"
      },
      "source": [
        "###**Model validation**"
      ]
    },
    {
      "cell_type": "code",
      "metadata": {
        "id": "iUsc89nk4m7q",
        "colab_type": "code",
        "outputId": "5df65b0b-46b4-4b2f-dc4a-f15f15e6bf37",
        "colab": {
          "base_uri": "https://localhost:8080/",
          "height": 35
        }
      },
      "source": [
        "score = cross_val_score(ensemble, features, trainset.label,scoring='roc_auc', cv= 20).mean()\n",
        "print('AUC score for trainset: '+ str(score))"
      ],
      "execution_count": 81,
      "outputs": [
        {
          "output_type": "stream",
          "text": [
            "AUC score for trainset: 0.9703093251354122\n"
          ],
          "name": "stdout"
        }
      ]
    },
    {
      "cell_type": "markdown",
      "metadata": {
        "id": "PsIFyJ2j5r7_",
        "colab_type": "text"
      },
      "source": [
        "I can see that this score is already highter compared to the scores I obtained with the optimized *SVM* and *KKN* models.\n",
        "\n",
        "For a better overview of the CV AUC scores ofall estimators and the ensemble model:"
      ]
    },
    {
      "cell_type": "code",
      "metadata": {
        "id": "ALi55uWq4u4I",
        "colab_type": "code",
        "outputId": "82c002fb-e73e-4007-9e9c-de2bfefb0784",
        "colab": {
          "base_uri": "https://localhost:8080/",
          "height": 109
        }
      },
      "source": [
        "for clf, name in zip([clf1, clf2, clf3, clf4, ensemble], \n",
        "                      ['SVC', 'Random Forest', 'XGBoost', 'KNeighbors', \n",
        "                       'Ensemble']):\n",
        "  scores = cross_val_score(clf, features, trainset.label, \n",
        "                           scoring='roc_auc', cv=20)\n",
        "  print(\"AUC score: %0.5f (+/- %0.5f) [%s]\" % (scores.mean(), scores.std(), name))"
      ],
      "execution_count": 82,
      "outputs": [
        {
          "output_type": "stream",
          "text": [
            "AUC score: 0.96336 (+/- 0.01755) [SVC]\n",
            "AUC score: 0.93702 (+/- 0.02890) [Random Forest]\n",
            "AUC score: 0.94625 (+/- 0.02750) [XGBoost]\n",
            "AUC score: 0.96126 (+/- 0.01561) [KNeighbors]\n",
            "AUC score: 0.97033 (+/- 0.01741) [Ensemble]\n"
          ],
          "name": "stdout"
        }
      ]
    },
    {
      "cell_type": "markdown",
      "metadata": {
        "id": "nDE_WgnF6e6I",
        "colab_type": "text"
      },
      "source": [
        "I can try to refine this ensemble model by adding weights. I choose the best weights again with *GridSearchCV*. I can repeat this process a few times and afterwards evaluate what weights are best to implement in this ensemble."
      ]
    },
    {
      "cell_type": "code",
      "metadata": {
        "id": "K9B_rMi05qlh",
        "colab_type": "code",
        "outputId": "4b7d9f5b-73e7-4cb1-fe2e-390ac9f998f6",
        "colab": {
          "base_uri": "https://localhost:8080/",
          "height": 54
        }
      },
      "source": [
        "params = {'weights':[[2,1,1,2],[3,1,2,3],[3,1,2,2]]}\n",
        "grid_Search = GridSearchCV(param_grid = params, estimator=ensemble, \n",
        "                           scoring='roc_auc', cv=20)\n",
        "grid_Search.fit(features, trainset.label)\n",
        "\n",
        "print(grid_Search.best_params_)\n",
        "print(grid_Search.best_score_)"
      ],
      "execution_count": 83,
      "outputs": [
        {
          "output_type": "stream",
          "text": [
            "{'weights': [2, 1, 1, 2]}\n",
            "0.972471087688479\n"
          ],
          "name": "stdout"
        }
      ]
    },
    {
      "cell_type": "code",
      "metadata": {
        "id": "yq0eKn4c7OGX",
        "colab_type": "code",
        "outputId": "66e4088c-dcd9-4e09-c4bb-14ab176b85b4",
        "colab": {
          "base_uri": "https://localhost:8080/",
          "height": 54
        }
      },
      "source": [
        "params = {'weights':[[3,1,2,3],[3,1,1,3],[4,1,2,3],[4,1,1,4]]}\n",
        "grid_Search = GridSearchCV(param_grid = params, estimator=ensemble, \n",
        "                           scoring='roc_auc', cv=20)\n",
        "grid_Search.fit(features, trainset.label)\n",
        "\n",
        "print(grid_Search.best_params_)\n",
        "print(grid_Search.best_score_)"
      ],
      "execution_count": 84,
      "outputs": [
        {
          "output_type": "stream",
          "text": [
            "{'weights': [4, 1, 2, 3]}\n",
            "0.9727133655394523\n"
          ],
          "name": "stdout"
        }
      ]
    },
    {
      "cell_type": "code",
      "metadata": {
        "id": "XJqEJEJ77drj",
        "colab_type": "code",
        "outputId": "e3e12f8a-4916-4c3c-8602-ea1d928a1288",
        "colab": {
          "base_uri": "https://localhost:8080/",
          "height": 54
        }
      },
      "source": [
        "params = {'weights':[[4,1,2,3],[5,1,2,3],[5,1,2,4]]}\n",
        "grid_Search = GridSearchCV(param_grid = params, estimator=ensemble, \n",
        "                           scoring='roc_auc', cv=20)\n",
        "grid_Search.fit(features, trainset.label)\n",
        "\n",
        "print(grid_Search.best_params_)\n",
        "print(grid_Search.best_score_)"
      ],
      "execution_count": 85,
      "outputs": [
        {
          "output_type": "stream",
          "text": [
            "{'weights': [4, 1, 2, 3]}\n",
            "0.9727537695798565\n"
          ],
          "name": "stdout"
        }
      ]
    },
    {
      "cell_type": "code",
      "metadata": {
        "id": "TREHcxRY78Dc",
        "colab_type": "code",
        "outputId": "c004986c-cda2-4aa3-de55-c5c5ae37aca6",
        "colab": {
          "base_uri": "https://localhost:8080/",
          "height": 54
        }
      },
      "source": [
        "params = {'weights':[[4,1,2,3],[4,1,1,3],[5,1,1,4],[5,1,1,3]]}\n",
        "grid_Search = GridSearchCV(param_grid = params, estimator=ensemble, \n",
        "                           scoring='roc_auc', cv=20)\n",
        "grid_Search.fit(features, trainset.label)\n",
        "print(grid_Search.best_params_)\n",
        "print(grid_Search.best_score_)"
      ],
      "execution_count": 86,
      "outputs": [
        {
          "output_type": "stream",
          "text": [
            "{'weights': [4, 1, 1, 3]}\n",
            "0.9728550724637681\n"
          ],
          "name": "stdout"
        }
      ]
    },
    {
      "cell_type": "markdown",
      "metadata": {
        "id": "3KU1S9cE-FnP",
        "colab_type": "text"
      },
      "source": [
        "I deside to go further with the weights that give me the best AUC score: [4, 1, 1, 3]"
      ]
    },
    {
      "cell_type": "markdown",
      "metadata": {
        "id": "mAQ06f2u_r98",
        "colab_type": "text"
      },
      "source": [
        "###**Predictions**\n",
        "\n",
        "This score is actually the best score I could obtain in this competition. This means I'm going to make predictions and upload them on the Kaggle website. This step is the same as with the other two models."
      ]
    },
    {
      "cell_type": "code",
      "metadata": {
        "id": "DhOl9iZ2_iVT",
        "colab_type": "code",
        "outputId": "d055ca60-3edd-4e2c-ef12-f51e47ab44fb",
        "colab": {
          "base_uri": "https://localhost:8080/",
          "height": 206
        }
      },
      "source": [
        "#Define model\n",
        "model = grid_search.best_estimator_\n",
        "\n",
        "#Fit model\n",
        "model.fit(features,trainset.label)\n",
        "\n",
        "#Make predictions\n",
        "predictions = model.predict_proba(test_features)[:,1]\n",
        "\n",
        "results_VC = pd.DataFrame({'index': testset['index'], 'label': predictions})\n",
        "results_VC.head()"
      ],
      "execution_count": 87,
      "outputs": [
        {
          "output_type": "execute_result",
          "data": {
            "text/html": [
              "<div>\n",
              "<style scoped>\n",
              "    .dataframe tbody tr th:only-of-type {\n",
              "        vertical-align: middle;\n",
              "    }\n",
              "\n",
              "    .dataframe tbody tr th {\n",
              "        vertical-align: top;\n",
              "    }\n",
              "\n",
              "    .dataframe thead th {\n",
              "        text-align: right;\n",
              "    }\n",
              "</style>\n",
              "<table border=\"1\" class=\"dataframe\">\n",
              "  <thead>\n",
              "    <tr style=\"text-align: right;\">\n",
              "      <th></th>\n",
              "      <th>index</th>\n",
              "      <th>label</th>\n",
              "    </tr>\n",
              "  </thead>\n",
              "  <tbody>\n",
              "    <tr>\n",
              "      <th>0</th>\n",
              "      <td>0</td>\n",
              "      <td>0.000000</td>\n",
              "    </tr>\n",
              "    <tr>\n",
              "      <th>1</th>\n",
              "      <td>1</td>\n",
              "      <td>0.746633</td>\n",
              "    </tr>\n",
              "    <tr>\n",
              "      <th>2</th>\n",
              "      <td>2</td>\n",
              "      <td>0.000000</td>\n",
              "    </tr>\n",
              "    <tr>\n",
              "      <th>3</th>\n",
              "      <td>3</td>\n",
              "      <td>1.000000</td>\n",
              "    </tr>\n",
              "    <tr>\n",
              "      <th>4</th>\n",
              "      <td>4</td>\n",
              "      <td>1.000000</td>\n",
              "    </tr>\n",
              "  </tbody>\n",
              "</table>\n",
              "</div>"
            ],
            "text/plain": [
              "   index     label\n",
              "0      0  0.000000\n",
              "1      1  0.746633\n",
              "2      2  0.000000\n",
              "3      3  1.000000\n",
              "4      4  1.000000"
            ]
          },
          "metadata": {
            "tags": []
          },
          "execution_count": 87
        }
      ]
    },
    {
      "cell_type": "code",
      "metadata": {
        "id": "MmCjPmyc_-g0",
        "colab_type": "code",
        "colab": {}
      },
      "source": [
        "filename = \"my_prediction_results_VC.csv\"\n",
        "results_VC.to_csv(filename,index=False)"
      ],
      "execution_count": 0,
      "outputs": []
    },
    {
      "cell_type": "markdown",
      "metadata": {
        "id": "1qfYoo__B4J6",
        "colab_type": "text"
      },
      "source": [
        "##Comparing the predictions\n",
        "\n",
        "In this section I will provide a comparison between the results obtained by the *SVM*, *KNN* and *Voting Classifier*."
      ]
    },
    {
      "cell_type": "code",
      "metadata": {
        "id": "4qcJeGDmCQSj",
        "colab_type": "code",
        "colab": {
          "base_uri": "https://localhost:8080/",
          "height": 325
        },
        "outputId": "332ce7fd-aa7e-43db-dfc3-8418ec0f0bd6"
      },
      "source": [
        "total_results = pd.DataFrame({'SVM' : results_SVM, 'KNN' : results_KNN})"
      ],
      "execution_count": 91,
      "outputs": [
        {
          "output_type": "error",
          "ename": "ValueError",
          "evalue": "ignored",
          "traceback": [
            "\u001b[0;31m---------------------------------------------------------------------------\u001b[0m",
            "\u001b[0;31mValueError\u001b[0m                                Traceback (most recent call last)",
            "\u001b[0;32m<ipython-input-91-e96ad82d4efd>\u001b[0m in \u001b[0;36m<module>\u001b[0;34m()\u001b[0m\n\u001b[0;32m----> 1\u001b[0;31m \u001b[0mtotal_results\u001b[0m \u001b[0;34m=\u001b[0m \u001b[0mpd\u001b[0m\u001b[0;34m.\u001b[0m\u001b[0mDataFrame\u001b[0m\u001b[0;34m(\u001b[0m\u001b[0;34m{\u001b[0m\u001b[0;34m'SVM'\u001b[0m \u001b[0;34m:\u001b[0m \u001b[0mresults_SVM\u001b[0m\u001b[0;34m,\u001b[0m \u001b[0;34m'KNN'\u001b[0m \u001b[0;34m:\u001b[0m \u001b[0mresults_KNN\u001b[0m\u001b[0;34m}\u001b[0m\u001b[0;34m)\u001b[0m\u001b[0;34m\u001b[0m\u001b[0;34m\u001b[0m\u001b[0m\n\u001b[0m",
            "\u001b[0;32m/usr/local/lib/python3.6/dist-packages/pandas/core/frame.py\u001b[0m in \u001b[0;36m__init__\u001b[0;34m(self, data, index, columns, dtype, copy)\u001b[0m\n\u001b[1;32m    433\u001b[0m             )\n\u001b[1;32m    434\u001b[0m         \u001b[0;32melif\u001b[0m \u001b[0misinstance\u001b[0m\u001b[0;34m(\u001b[0m\u001b[0mdata\u001b[0m\u001b[0;34m,\u001b[0m \u001b[0mdict\u001b[0m\u001b[0;34m)\u001b[0m\u001b[0;34m:\u001b[0m\u001b[0;34m\u001b[0m\u001b[0;34m\u001b[0m\u001b[0m\n\u001b[0;32m--> 435\u001b[0;31m             \u001b[0mmgr\u001b[0m \u001b[0;34m=\u001b[0m \u001b[0minit_dict\u001b[0m\u001b[0;34m(\u001b[0m\u001b[0mdata\u001b[0m\u001b[0;34m,\u001b[0m \u001b[0mindex\u001b[0m\u001b[0;34m,\u001b[0m \u001b[0mcolumns\u001b[0m\u001b[0;34m,\u001b[0m \u001b[0mdtype\u001b[0m\u001b[0;34m=\u001b[0m\u001b[0mdtype\u001b[0m\u001b[0;34m)\u001b[0m\u001b[0;34m\u001b[0m\u001b[0;34m\u001b[0m\u001b[0m\n\u001b[0m\u001b[1;32m    436\u001b[0m         \u001b[0;32melif\u001b[0m \u001b[0misinstance\u001b[0m\u001b[0;34m(\u001b[0m\u001b[0mdata\u001b[0m\u001b[0;34m,\u001b[0m \u001b[0mma\u001b[0m\u001b[0;34m.\u001b[0m\u001b[0mMaskedArray\u001b[0m\u001b[0;34m)\u001b[0m\u001b[0;34m:\u001b[0m\u001b[0;34m\u001b[0m\u001b[0;34m\u001b[0m\u001b[0m\n\u001b[1;32m    437\u001b[0m             \u001b[0;32mimport\u001b[0m \u001b[0mnumpy\u001b[0m\u001b[0;34m.\u001b[0m\u001b[0mma\u001b[0m\u001b[0;34m.\u001b[0m\u001b[0mmrecords\u001b[0m \u001b[0;32mas\u001b[0m \u001b[0mmrecords\u001b[0m\u001b[0;34m\u001b[0m\u001b[0;34m\u001b[0m\u001b[0m\n",
            "\u001b[0;32m/usr/local/lib/python3.6/dist-packages/pandas/core/internals/construction.py\u001b[0m in \u001b[0;36minit_dict\u001b[0;34m(data, index, columns, dtype)\u001b[0m\n\u001b[1;32m    252\u001b[0m             \u001b[0marr\u001b[0m \u001b[0;32mif\u001b[0m \u001b[0;32mnot\u001b[0m \u001b[0mis_datetime64tz_dtype\u001b[0m\u001b[0;34m(\u001b[0m\u001b[0marr\u001b[0m\u001b[0;34m)\u001b[0m \u001b[0;32melse\u001b[0m \u001b[0marr\u001b[0m\u001b[0;34m.\u001b[0m\u001b[0mcopy\u001b[0m\u001b[0;34m(\u001b[0m\u001b[0;34m)\u001b[0m \u001b[0;32mfor\u001b[0m \u001b[0marr\u001b[0m \u001b[0;32min\u001b[0m \u001b[0marrays\u001b[0m\u001b[0;34m\u001b[0m\u001b[0;34m\u001b[0m\u001b[0m\n\u001b[1;32m    253\u001b[0m         ]\n\u001b[0;32m--> 254\u001b[0;31m     \u001b[0;32mreturn\u001b[0m \u001b[0marrays_to_mgr\u001b[0m\u001b[0;34m(\u001b[0m\u001b[0marrays\u001b[0m\u001b[0;34m,\u001b[0m \u001b[0mdata_names\u001b[0m\u001b[0;34m,\u001b[0m \u001b[0mindex\u001b[0m\u001b[0;34m,\u001b[0m \u001b[0mcolumns\u001b[0m\u001b[0;34m,\u001b[0m \u001b[0mdtype\u001b[0m\u001b[0;34m=\u001b[0m\u001b[0mdtype\u001b[0m\u001b[0;34m)\u001b[0m\u001b[0;34m\u001b[0m\u001b[0;34m\u001b[0m\u001b[0m\n\u001b[0m\u001b[1;32m    255\u001b[0m \u001b[0;34m\u001b[0m\u001b[0m\n\u001b[1;32m    256\u001b[0m \u001b[0;34m\u001b[0m\u001b[0m\n",
            "\u001b[0;32m/usr/local/lib/python3.6/dist-packages/pandas/core/internals/construction.py\u001b[0m in \u001b[0;36marrays_to_mgr\u001b[0;34m(arrays, arr_names, index, columns, dtype)\u001b[0m\n\u001b[1;32m     62\u001b[0m     \u001b[0;31m# figure out the index, if necessary\u001b[0m\u001b[0;34m\u001b[0m\u001b[0;34m\u001b[0m\u001b[0;34m\u001b[0m\u001b[0m\n\u001b[1;32m     63\u001b[0m     \u001b[0;32mif\u001b[0m \u001b[0mindex\u001b[0m \u001b[0;32mis\u001b[0m \u001b[0;32mNone\u001b[0m\u001b[0;34m:\u001b[0m\u001b[0;34m\u001b[0m\u001b[0;34m\u001b[0m\u001b[0m\n\u001b[0;32m---> 64\u001b[0;31m         \u001b[0mindex\u001b[0m \u001b[0;34m=\u001b[0m \u001b[0mextract_index\u001b[0m\u001b[0;34m(\u001b[0m\u001b[0marrays\u001b[0m\u001b[0;34m)\u001b[0m\u001b[0;34m\u001b[0m\u001b[0;34m\u001b[0m\u001b[0m\n\u001b[0m\u001b[1;32m     65\u001b[0m     \u001b[0;32melse\u001b[0m\u001b[0;34m:\u001b[0m\u001b[0;34m\u001b[0m\u001b[0;34m\u001b[0m\u001b[0m\n\u001b[1;32m     66\u001b[0m         \u001b[0mindex\u001b[0m \u001b[0;34m=\u001b[0m \u001b[0mensure_index\u001b[0m\u001b[0;34m(\u001b[0m\u001b[0mindex\u001b[0m\u001b[0;34m)\u001b[0m\u001b[0;34m\u001b[0m\u001b[0;34m\u001b[0m\u001b[0m\n",
            "\u001b[0;32m/usr/local/lib/python3.6/dist-packages/pandas/core/internals/construction.py\u001b[0m in \u001b[0;36mextract_index\u001b[0;34m(data)\u001b[0m\n\u001b[1;32m    353\u001b[0m \u001b[0;34m\u001b[0m\u001b[0m\n\u001b[1;32m    354\u001b[0m         \u001b[0;32mif\u001b[0m \u001b[0;32mnot\u001b[0m \u001b[0mindexes\u001b[0m \u001b[0;32mand\u001b[0m \u001b[0;32mnot\u001b[0m \u001b[0mraw_lengths\u001b[0m\u001b[0;34m:\u001b[0m\u001b[0;34m\u001b[0m\u001b[0;34m\u001b[0m\u001b[0m\n\u001b[0;32m--> 355\u001b[0;31m             \u001b[0;32mraise\u001b[0m \u001b[0mValueError\u001b[0m\u001b[0;34m(\u001b[0m\u001b[0;34m\"If using all scalar values, you must pass an index\"\u001b[0m\u001b[0;34m)\u001b[0m\u001b[0;34m\u001b[0m\u001b[0;34m\u001b[0m\u001b[0m\n\u001b[0m\u001b[1;32m    356\u001b[0m \u001b[0;34m\u001b[0m\u001b[0m\n\u001b[1;32m    357\u001b[0m         \u001b[0;32mif\u001b[0m \u001b[0mhave_series\u001b[0m\u001b[0;34m:\u001b[0m\u001b[0;34m\u001b[0m\u001b[0;34m\u001b[0m\u001b[0m\n",
            "\u001b[0;31mValueError\u001b[0m: If using all scalar values, you must pass an index"
          ]
        }
      ]
    },
    {
      "cell_type": "code",
      "metadata": {
        "id": "H61FQDZj-0ia",
        "colab_type": "code",
        "colab": {
          "base_uri": "https://localhost:8080/",
          "height": 246
        },
        "outputId": "610b2a1a-7251-40d8-decc-558591811335"
      },
      "source": [
        "import matplotlib as plt\n",
        "import seaborn as sns\n",
        "\n",
        "SVM = sns.scatterplot(data=total_results['SVM'])\n",
        "KNN = sns.scatterplot(data=total_results['KNN'])\n",
        "\n",
        "plt.show()"
      ],
      "execution_count": 90,
      "outputs": [
        {
          "output_type": "error",
          "ename": "NameError",
          "evalue": "ignored",
          "traceback": [
            "\u001b[0;31m---------------------------------------------------------------------------\u001b[0m",
            "\u001b[0;31mNameError\u001b[0m                                 Traceback (most recent call last)",
            "\u001b[0;32m<ipython-input-90-e8e14db46dc2>\u001b[0m in \u001b[0;36m<module>\u001b[0;34m()\u001b[0m\n\u001b[1;32m      2\u001b[0m \u001b[0;32mimport\u001b[0m \u001b[0mseaborn\u001b[0m \u001b[0;32mas\u001b[0m \u001b[0msns\u001b[0m\u001b[0;34m\u001b[0m\u001b[0;34m\u001b[0m\u001b[0m\n\u001b[1;32m      3\u001b[0m \u001b[0;34m\u001b[0m\u001b[0m\n\u001b[0;32m----> 4\u001b[0;31m \u001b[0mSVM\u001b[0m \u001b[0;34m=\u001b[0m \u001b[0msns\u001b[0m\u001b[0;34m.\u001b[0m\u001b[0mscatterplot\u001b[0m\u001b[0;34m(\u001b[0m\u001b[0mdata\u001b[0m\u001b[0;34m=\u001b[0m\u001b[0mtotal_results\u001b[0m\u001b[0;34m[\u001b[0m\u001b[0;34m'SVM'\u001b[0m\u001b[0;34m]\u001b[0m\u001b[0;34m)\u001b[0m\u001b[0;34m\u001b[0m\u001b[0;34m\u001b[0m\u001b[0m\n\u001b[0m\u001b[1;32m      5\u001b[0m \u001b[0mKNN\u001b[0m \u001b[0;34m=\u001b[0m \u001b[0msns\u001b[0m\u001b[0;34m.\u001b[0m\u001b[0mscatterplot\u001b[0m\u001b[0;34m(\u001b[0m\u001b[0mdata\u001b[0m\u001b[0;34m=\u001b[0m\u001b[0mtotal_results\u001b[0m\u001b[0;34m[\u001b[0m\u001b[0;34m'KNN'\u001b[0m\u001b[0;34m]\u001b[0m\u001b[0;34m)\u001b[0m\u001b[0;34m\u001b[0m\u001b[0;34m\u001b[0m\u001b[0m\n\u001b[1;32m      6\u001b[0m \u001b[0;34m\u001b[0m\u001b[0m\n",
            "\u001b[0;31mNameError\u001b[0m: name 'total_results' is not defined"
          ]
        }
      ]
    },
    {
      "cell_type": "code",
      "metadata": {
        "id": "YsnbyNnCRznn",
        "colab_type": "code",
        "colab": {}
      },
      "source": [
        ""
      ],
      "execution_count": 0,
      "outputs": []
    }
  ]
}