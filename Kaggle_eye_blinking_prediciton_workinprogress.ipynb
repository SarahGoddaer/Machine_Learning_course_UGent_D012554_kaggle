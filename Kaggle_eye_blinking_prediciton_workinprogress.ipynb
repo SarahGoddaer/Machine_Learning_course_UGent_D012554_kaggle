{
  "nbformat": 4,
  "nbformat_minor": 0,
  "metadata": {
    "colab": {
      "name": "Kaggle_eye_blinking_prediciton.ipynb",
      "provenance": [],
      "authorship_tag": "ABX9TyN7P+uiFZaJO3yrp2FXhItu",
      "include_colab_link": true
    },
    "kernelspec": {
      "name": "python3",
      "display_name": "Python 3"
    }
  },
  "cells": [
    {
      "cell_type": "markdown",
      "metadata": {
        "id": "view-in-github",
        "colab_type": "text"
      },
      "source": [
        "<a href=\"https://colab.research.google.com/github/SarahGoddaer/Machine_Learning_course_UGent_D012554_kaggle/blob/master/Kaggle_eye_blinking_prediciton_workinprogress.ipynb\" target=\"_parent\"><img src=\"https://colab.research.google.com/assets/colab-badge.svg\" alt=\"Open In Colab\"/></a>"
      ]
    },
    {
      "cell_type": "markdown",
      "metadata": {
        "id": "-d4Vhg_6lNdr",
        "colab_type": "text"
      },
      "source": [
        "# **<font color='red'>WORK IN PROGRESS:</font> Final report: Kaggle eye blinking prediciton.**"
      ]
    },
    {
      "cell_type": "markdown",
      "metadata": {
        "id": "McfeidmPlvBH",
        "colab_type": "text"
      },
      "source": [
        "In this report, I will point out the models and techniques I used to fit the traindata and with which I made accurate predictions during these six days.\n",
        "\n",
        "I will mainly explain 2 models, *Support Vector Machine* and the *KNeighbors Classifier* in detail. Afterwards, I mention a stacking method and a technique using the Voting Classifier from sklearn."
      ]
    },
    {
      "cell_type": "markdown",
      "metadata": {
        "id": "iYjJtjXcn7bZ",
        "colab_type": "text"
      },
      "source": [
        "## Support Vector Machine (SVM)"
      ]
    },
    {
      "cell_type": "markdown",
      "metadata": {
        "id": "pUMiPsPnoVeo",
        "colab_type": "text"
      },
      "source": [
        "### **Loading data**\n",
        "\n",
        "This is the first step. I load the trainset and the testset at the same time. Additionally, I save the data into understandable variables and I visualize it to have a first look. This first impression gives me the opportunity to get used to this data.   "
      ]
    },
    {
      "cell_type": "code",
      "metadata": {
        "id": "-D9k_tZ4lrDp",
        "colab_type": "code",
        "colab": {}
      },
      "source": [
        "%matplotlib inline\n",
        "import pandas as pd\n",
        "import matplotlib.pyplot as plt\n",
        "import seaborn as sns\n",
        "from sklearn.model_selection import cross_val_score\n",
        "import numpy as np\n",
        "from sklearn import metrics\n",
        "\n",
        "#Loading data\n",
        "trainset = pd.read_csv(\"https://raw.githubusercontent.com/sdgroeve/Machine_Learning_course_UGent_D012554_kaggle/master/eeg_train.csv\")\n",
        "testset = pd.read_csv(\"https://raw.githubusercontent.com/sdgroeve/Machine_Learning_course_UGent_D012554_kaggle/master/eeg_test.csv\")\n",
        "\n",
        "#Get features dataframe\n",
        "features = trainset.copy()\n",
        "features.pop('label')\n",
        "feature_names = list(features.columns)\n",
        "\n",
        "#Get test features without the index column\n",
        "test_features = testset.copy()\n",
        "test_features.pop('index')\n",
        "test_feature_names = list(test_features.columns)"
      ],
      "execution_count": 0,
      "outputs": []
    },
    {
      "cell_type": "code",
      "metadata": {
        "id": "7aGhz-HmosDk",
        "colab_type": "code",
        "colab": {
          "base_uri": "https://localhost:8080/",
          "height": 243
        },
        "outputId": "41085347-ca25-4b5a-a075-7cad72dfd3c7"
      },
      "source": [
        "print(\"Trainset: \" + str(features.shape))\n",
        "print(\"Testset: \" + str(test_features.shape))\n",
        "features.head()"
      ],
      "execution_count": 17,
      "outputs": [
        {
          "output_type": "stream",
          "text": [
            "Trainset: (2000, 14)\n",
            "Testset: (12892, 14)\n"
          ],
          "name": "stdout"
        },
        {
          "output_type": "execute_result",
          "data": {
            "text/html": [
              "<div>\n",
              "<style scoped>\n",
              "    .dataframe tbody tr th:only-of-type {\n",
              "        vertical-align: middle;\n",
              "    }\n",
              "\n",
              "    .dataframe tbody tr th {\n",
              "        vertical-align: top;\n",
              "    }\n",
              "\n",
              "    .dataframe thead th {\n",
              "        text-align: right;\n",
              "    }\n",
              "</style>\n",
              "<table border=\"1\" class=\"dataframe\">\n",
              "  <thead>\n",
              "    <tr style=\"text-align: right;\">\n",
              "      <th></th>\n",
              "      <th>AF3</th>\n",
              "      <th>F7</th>\n",
              "      <th>F3</th>\n",
              "      <th>FC5</th>\n",
              "      <th>T7</th>\n",
              "      <th>P7</th>\n",
              "      <th>O1</th>\n",
              "      <th>02</th>\n",
              "      <th>P8</th>\n",
              "      <th>T8</th>\n",
              "      <th>FC6</th>\n",
              "      <th>F4</th>\n",
              "      <th>F8</th>\n",
              "      <th>AF4</th>\n",
              "    </tr>\n",
              "  </thead>\n",
              "  <tbody>\n",
              "    <tr>\n",
              "      <th>0</th>\n",
              "      <td>4299.49</td>\n",
              "      <td>3997.44</td>\n",
              "      <td>4277.95</td>\n",
              "      <td>4116.92</td>\n",
              "      <td>4353.85</td>\n",
              "      <td>4623.08</td>\n",
              "      <td>4100.00</td>\n",
              "      <td>4623.59</td>\n",
              "      <td>4202.56</td>\n",
              "      <td>4229.23</td>\n",
              "      <td>4211.79</td>\n",
              "      <td>4278.97</td>\n",
              "      <td>4600.00</td>\n",
              "      <td>4369.23</td>\n",
              "    </tr>\n",
              "    <tr>\n",
              "      <th>1</th>\n",
              "      <td>4302.05</td>\n",
              "      <td>3985.64</td>\n",
              "      <td>4261.03</td>\n",
              "      <td>4129.74</td>\n",
              "      <td>4334.36</td>\n",
              "      <td>4615.38</td>\n",
              "      <td>4072.31</td>\n",
              "      <td>4585.64</td>\n",
              "      <td>4192.31</td>\n",
              "      <td>4225.13</td>\n",
              "      <td>4195.90</td>\n",
              "      <td>4283.08</td>\n",
              "      <td>4607.18</td>\n",
              "      <td>4358.46</td>\n",
              "    </tr>\n",
              "    <tr>\n",
              "      <th>2</th>\n",
              "      <td>4321.03</td>\n",
              "      <td>4015.90</td>\n",
              "      <td>4265.13</td>\n",
              "      <td>4122.56</td>\n",
              "      <td>4333.33</td>\n",
              "      <td>4613.33</td>\n",
              "      <td>4072.82</td>\n",
              "      <td>4602.05</td>\n",
              "      <td>4192.31</td>\n",
              "      <td>4223.08</td>\n",
              "      <td>4155.38</td>\n",
              "      <td>4286.15</td>\n",
              "      <td>4608.21</td>\n",
              "      <td>4371.79</td>\n",
              "    </tr>\n",
              "    <tr>\n",
              "      <th>3</th>\n",
              "      <td>4408.21</td>\n",
              "      <td>4104.10</td>\n",
              "      <td>4380.00</td>\n",
              "      <td>4232.31</td>\n",
              "      <td>4449.74</td>\n",
              "      <td>4750.26</td>\n",
              "      <td>4169.23</td>\n",
              "      <td>4731.28</td>\n",
              "      <td>4311.28</td>\n",
              "      <td>4352.31</td>\n",
              "      <td>4319.49</td>\n",
              "      <td>4388.21</td>\n",
              "      <td>4715.90</td>\n",
              "      <td>4464.10</td>\n",
              "    </tr>\n",
              "    <tr>\n",
              "      <th>4</th>\n",
              "      <td>4347.18</td>\n",
              "      <td>3975.38</td>\n",
              "      <td>4266.67</td>\n",
              "      <td>4102.56</td>\n",
              "      <td>4333.33</td>\n",
              "      <td>4617.95</td>\n",
              "      <td>4097.44</td>\n",
              "      <td>4612.82</td>\n",
              "      <td>4210.77</td>\n",
              "      <td>4240.51</td>\n",
              "      <td>4248.21</td>\n",
              "      <td>4313.33</td>\n",
              "      <td>4664.10</td>\n",
              "      <td>4411.79</td>\n",
              "    </tr>\n",
              "  </tbody>\n",
              "</table>\n",
              "</div>"
            ],
            "text/plain": [
              "       AF3       F7       F3      FC5  ...      FC6       F4       F8      AF4\n",
              "0  4299.49  3997.44  4277.95  4116.92  ...  4211.79  4278.97  4600.00  4369.23\n",
              "1  4302.05  3985.64  4261.03  4129.74  ...  4195.90  4283.08  4607.18  4358.46\n",
              "2  4321.03  4015.90  4265.13  4122.56  ...  4155.38  4286.15  4608.21  4371.79\n",
              "3  4408.21  4104.10  4380.00  4232.31  ...  4319.49  4388.21  4715.90  4464.10\n",
              "4  4347.18  3975.38  4266.67  4102.56  ...  4248.21  4313.33  4664.10  4411.79\n",
              "\n",
              "[5 rows x 14 columns]"
            ]
          },
          "metadata": {
            "tags": []
          },
          "execution_count": 17
        }
      ]
    },
    {
      "cell_type": "code",
      "metadata": {
        "id": "6bZH1lfar8GY",
        "colab_type": "code",
        "colab": {
          "base_uri": "https://localhost:8080/",
          "height": 283
        },
        "outputId": "4d3a8d7b-bfde-4024-fc7a-132cafcefe36"
      },
      "source": [
        "features.boxplot()"
      ],
      "execution_count": 7,
      "outputs": [
        {
          "output_type": "execute_result",
          "data": {
            "text/plain": [
              "<matplotlib.axes._subplots.AxesSubplot at 0x7f125c4e4b70>"
            ]
          },
          "metadata": {
            "tags": []
          },
          "execution_count": 7
        },
        {
          "output_type": "display_data",
          "data": {
            "image/png": "[encoded data removed]",
            "text/plain": [
              "<Figure size 432x288 with 1 Axes>"
            ]
          },
          "metadata": {
            "tags": [],
            "needs_background": "light"
          }
        }
      ]
    },
    {
      "cell_type": "code",
      "metadata": {
        "id": "Tm2W5-Gxr_f6",
        "colab_type": "code",
        "colab": {
          "base_uri": "https://localhost:8080/",
          "height": 348
        },
        "outputId": "076c75c0-2cd0-4876-ecd7-d70524bb19e8"
      },
      "source": [
        "#How many measurements are there of the two classes?\n",
        "print(trainset.label.value_counts())\n",
        "#Are there missing values in some features?\n",
        "print(features.isnull().sum()) "
      ],
      "execution_count": 13,
      "outputs": [
        {
          "output_type": "stream",
          "text": [
            "0    1099\n",
            "1     901\n",
            "Name: label, dtype: int64\n",
            "AF3    0\n",
            "F7     0\n",
            "F3     0\n",
            "FC5    0\n",
            "T7     0\n",
            "P7     0\n",
            "O1     0\n",
            "02     0\n",
            "P8     0\n",
            "T8     0\n",
            "FC6    0\n",
            "F4     0\n",
            "F8     0\n",
            "AF4    0\n",
            "dtype: int64\n"
          ],
          "name": "stdout"
        }
      ]
    },
    {
      "cell_type": "markdown",
      "metadata": {
        "id": "rg9xT31wtnb1",
        "colab_type": "text"
      },
      "source": [
        "I can see from this that the ranges of the different features are not the same, so scaling will be appropriate to use if I want to perform predictions with SVM. Also, I now know that the trainset and testset indeed have 14 features and that the trainset is much smaller than the testset. 1099 instances of this trainset belong to class 0 (open eyes) and 901 instances belong to class 1 (eyes closed).  "
      ]
    },
    {
      "cell_type": "markdown",
      "metadata": {
        "id": "TZhM_-zm1HD8",
        "colab_type": "text"
      },
      "source": [
        "### **Pre-processing**\n",
        "\n",
        "Here, pre-processing the data is done through scaling the data. I don't change the features in an other way than scaling. However, I tried different scaling methods. Here, I focussed on *Standerd scaling*."
      ]
    },
    {
      "cell_type": "markdown",
      "metadata": {
        "id": "I7n1iKn_2JUj",
        "colab_type": "text"
      },
      "source": [
        "I found information that scaling data around the mean should give the best performance for a SVM model, so I apply the *Standard scaler*. I will already transform the testset too, because this is easy readable this way and I don't have to think about it anymore. This step of transforming the testset doesn't necessarily need to be done here, because this is only needed just before performing predictions."
      ]
    },
    {
      "cell_type": "code",
      "metadata": {
        "id": "RiDtdX3KsmTF",
        "colab_type": "code",
        "colab": {
          "base_uri": "https://localhost:8080/",
          "height": 286
        },
        "outputId": "0c6d9ac5-78f0-40de-d18d-289525e66e53"
      },
      "source": [
        "from sklearn import preprocessing\n",
        "from sklearn.preprocessing import StandardScaler\n",
        "\n",
        "scaler = preprocessing.StandardScaler()\n",
        "features = scaler.fit_transform(features)\n",
        "test_features = scaler.transform(test_features)\n",
        "\n",
        "features = pd.DataFrame(features, columns=feature_names)\n",
        "test_features = pd.DataFrame(test_features, columns=test_feature_names)\n",
        "\n",
        "#Visualizing the scaled trainset features\n",
        "features.boxplot()"
      ],
      "execution_count": 19,
      "outputs": [
        {
          "output_type": "execute_result",
          "data": {
            "text/plain": [
              "<matplotlib.axes._subplots.AxesSubplot at 0x7f125be69978>"
            ]
          },
          "metadata": {
            "tags": []
          },
          "execution_count": 19
        },
        {
          "output_type": "display_data",
          "data": {
            "image/png": "[encoded data removed]",
            "text/plain": [
              "<Figure size 432x288 with 1 Axes>"
            ]
          },
          "metadata": {
            "tags": [],
            "needs_background": "light"
          }
        }
      ]
    },
    {
      "cell_type": "markdown",
      "metadata": {
        "id": "7wkjaUCK29EQ",
        "colab_type": "text"
      },
      "source": [
        "From these boxplots, you can see that all features are now centered around the mean. I will work with these scaled features to find a useful SVM model."
      ]
    },
    {
      "cell_type": "markdown",
      "metadata": {
        "id": "m4yiy2SK45Vf",
        "colab_type": "text"
      },
      "source": [
        "###**Defining the model**\n",
        "\n",
        "I have a choice between many models that are supported by Sklearn. One of these models is the *Support Vector Machine* model. This model is designed to solve two-class classification problems, which is exactly what we have in this project. With the specific *kernel functions* this model can compute not only linear decision boundaries, but also more complicated non-linear decision boundaries without explicitaly having to map the features to new polynomial features. "
      ]
    },
    {
      "cell_type": "code",
      "metadata": {
        "id": "Mkarz1gC44WI",
        "colab_type": "code",
        "colab": {}
      },
      "source": [
        "from sklearn.svm import SVC\n",
        "model = SVC()"
      ],
      "execution_count": 0,
      "outputs": []
    },
    {
      "cell_type": "markdown",
      "metadata": {
        "id": "g_W-H0go7UO_",
        "colab_type": "text"
      },
      "source": [
        "Now that I chose this model, I want to know how good the model performes on the trainset "
      ]
    },
    {
      "cell_type": "code",
      "metadata": {
        "id": "0imYM3L82vXQ",
        "colab_type": "code",
        "colab": {}
      },
      "source": [
        ""
      ],
      "execution_count": 0,
      "outputs": []
    }
  ]
}