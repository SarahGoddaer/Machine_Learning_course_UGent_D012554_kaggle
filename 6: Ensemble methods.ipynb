{
  "nbformat": 4,
  "nbformat_minor": 0,
  "metadata": {
    "colab": {
      "name": "Copy of Ensemble methods.ipynb",
      "provenance": [],
      "authorship_tag": "ABX9TyMdZIwOuVVeQz9A8nRgDW+f",
      "include_colab_link": true
    },
    "kernelspec": {
      "name": "python3",
      "display_name": "Python 3"
    }
  },
  "cells": [
    {
      "cell_type": "markdown",
      "metadata": {
        "id": "view-in-github",
        "colab_type": "text"
      },
      "source": [
        "<a href=\"https://colab.research.google.com/github/SarahGoddaer/Machine_Learning_course_UGent_D012554_kaggle/blob/master/6%3A%20Ensemble%20methods.ipynb\" target=\"_parent\"><img src=\"https://colab.research.google.com/assets/colab-badge.svg\" alt=\"Open In Colab\"/></a>"
      ]
    },
    {
      "cell_type": "markdown",
      "metadata": {
        "id": "YE_dsc7HPiXK",
        "colab_type": "text"
      },
      "source": [
        "##Boosting"
      ]
    },
    {
      "cell_type": "code",
      "metadata": {
        "id": "NWQhpVFDPlHm",
        "colab_type": "code",
        "outputId": "83790ff6-6f06-4f54-d374-d9689d6fec8f",
        "colab": {
          "base_uri": "https://localhost:8080/",
          "height": 54
        }
      },
      "source": [
        "%matplotlib inline\n",
        "import pandas as pd\n",
        "import matplotlib.pyplot as plt\n",
        "import seaborn as sns\n",
        "from sklearn.model_selection import cross_val_score\n",
        "import numpy as np\n",
        "from sklearn import metrics\n",
        "from sklearn.model_selection import GridSearchCV"
      ],
      "execution_count": 1,
      "outputs": [
        {
          "output_type": "stream",
          "text": [
            "/usr/local/lib/python3.6/dist-packages/statsmodels/tools/_testing.py:19: FutureWarning: pandas.util.testing is deprecated. Use the functions in the public API at pandas.testing instead.\n",
            "  import pandas.util.testing as tm\n"
          ],
          "name": "stderr"
        }
      ]
    },
    {
      "cell_type": "markdown",
      "metadata": {
        "id": "btFxfCoWPCI6",
        "colab_type": "text"
      },
      "source": [
        "I will here look at some ensemble methods, beginning with **XGBoost**."
      ]
    },
    {
      "cell_type": "code",
      "metadata": {
        "id": "wr5aTibhPyDC",
        "colab_type": "code",
        "outputId": "4ff41952-97c0-4193-c3c1-398ccb82a31d",
        "colab": {
          "base_uri": "https://localhost:8080/",
          "height": 300
        }
      },
      "source": [
        "trainset = pd.read_csv(\"https://raw.githubusercontent.com/sdgroeve/Machine_Learning_course_UGent_D012554_kaggle/master/eeg_train.csv\")\n",
        "testset = pd.read_csv(\"https://raw.githubusercontent.com/sdgroeve/Machine_Learning_course_UGent_D012554_kaggle/master/eeg_test.csv\")\n",
        "\n",
        "features = trainset.copy()\n",
        "features.pop('label')\n",
        "feature_names = list(features.columns)\n",
        "\n",
        "test_features = testset.copy()\n",
        "test_features.pop('index')\n",
        "test_feature_names = list(test_features.columns)\n",
        "features.describe()"
      ],
      "execution_count": 2,
      "outputs": [
        {
          "output_type": "execute_result",
          "data": {
            "text/html": [
              "<div>\n",
              "<style scoped>\n",
              "    .dataframe tbody tr th:only-of-type {\n",
              "        vertical-align: middle;\n",
              "    }\n",
              "\n",
              "    .dataframe tbody tr th {\n",
              "        vertical-align: top;\n",
              "    }\n",
              "\n",
              "    .dataframe thead th {\n",
              "        text-align: right;\n",
              "    }\n",
              "</style>\n",
              "<table border=\"1\" class=\"dataframe\">\n",
              "  <thead>\n",
              "    <tr style=\"text-align: right;\">\n",
              "      <th></th>\n",
              "      <th>AF3</th>\n",
              "      <th>F7</th>\n",
              "      <th>F3</th>\n",
              "      <th>FC5</th>\n",
              "      <th>T7</th>\n",
              "      <th>P7</th>\n",
              "      <th>O1</th>\n",
              "      <th>02</th>\n",
              "      <th>P8</th>\n",
              "      <th>T8</th>\n",
              "      <th>FC6</th>\n",
              "      <th>F4</th>\n",
              "      <th>F8</th>\n",
              "      <th>AF4</th>\n",
              "    </tr>\n",
              "  </thead>\n",
              "  <tbody>\n",
              "    <tr>\n",
              "      <th>count</th>\n",
              "      <td>2000.000000</td>\n",
              "      <td>2000.000000</td>\n",
              "      <td>2000.000000</td>\n",
              "      <td>2000.000000</td>\n",
              "      <td>2000.000000</td>\n",
              "      <td>2000.000000</td>\n",
              "      <td>2000.000000</td>\n",
              "      <td>2000.000000</td>\n",
              "      <td>2000.000000</td>\n",
              "      <td>2000.000000</td>\n",
              "      <td>2000.000000</td>\n",
              "      <td>2000.000000</td>\n",
              "      <td>2000.000000</td>\n",
              "      <td>2000.000000</td>\n",
              "    </tr>\n",
              "    <tr>\n",
              "      <th>mean</th>\n",
              "      <td>4300.157125</td>\n",
              "      <td>4009.273150</td>\n",
              "      <td>4263.860860</td>\n",
              "      <td>4122.616195</td>\n",
              "      <td>4341.606870</td>\n",
              "      <td>4620.061720</td>\n",
              "      <td>4072.151250</td>\n",
              "      <td>4615.229300</td>\n",
              "      <td>4200.893915</td>\n",
              "      <td>4230.573235</td>\n",
              "      <td>4201.583060</td>\n",
              "      <td>4278.445325</td>\n",
              "      <td>4605.169335</td>\n",
              "      <td>4359.852780</td>\n",
              "    </tr>\n",
              "    <tr>\n",
              "      <th>std</th>\n",
              "      <td>36.361719</td>\n",
              "      <td>29.853264</td>\n",
              "      <td>20.788323</td>\n",
              "      <td>20.565528</td>\n",
              "      <td>16.691038</td>\n",
              "      <td>18.034865</td>\n",
              "      <td>20.933632</td>\n",
              "      <td>18.391027</td>\n",
              "      <td>17.810272</td>\n",
              "      <td>19.661149</td>\n",
              "      <td>24.397269</td>\n",
              "      <td>19.645651</td>\n",
              "      <td>33.067591</td>\n",
              "      <td>37.074555</td>\n",
              "    </tr>\n",
              "    <tr>\n",
              "      <th>min</th>\n",
              "      <td>4197.950000</td>\n",
              "      <td>3905.640000</td>\n",
              "      <td>4202.560000</td>\n",
              "      <td>4058.460000</td>\n",
              "      <td>4310.260000</td>\n",
              "      <td>4569.740000</td>\n",
              "      <td>4032.820000</td>\n",
              "      <td>4571.280000</td>\n",
              "      <td>4147.690000</td>\n",
              "      <td>4158.970000</td>\n",
              "      <td>4107.180000</td>\n",
              "      <td>4216.410000</td>\n",
              "      <td>4454.360000</td>\n",
              "      <td>4225.640000</td>\n",
              "    </tr>\n",
              "    <tr>\n",
              "      <th>25%</th>\n",
              "      <td>4280.510000</td>\n",
              "      <td>3990.770000</td>\n",
              "      <td>4250.260000</td>\n",
              "      <td>4108.720000</td>\n",
              "      <td>4331.790000</td>\n",
              "      <td>4611.790000</td>\n",
              "      <td>4057.440000</td>\n",
              "      <td>4604.100000</td>\n",
              "      <td>4190.260000</td>\n",
              "      <td>4219.490000</td>\n",
              "      <td>4189.740000</td>\n",
              "      <td>4267.180000</td>\n",
              "      <td>4590.642500</td>\n",
              "      <td>4342.050000</td>\n",
              "    </tr>\n",
              "    <tr>\n",
              "      <th>50%</th>\n",
              "      <td>4293.330000</td>\n",
              "      <td>4006.150000</td>\n",
              "      <td>4262.560000</td>\n",
              "      <td>4121.030000</td>\n",
              "      <td>4338.460000</td>\n",
              "      <td>4617.950000</td>\n",
              "      <td>4069.740000</td>\n",
              "      <td>4612.820000</td>\n",
              "      <td>4199.490000</td>\n",
              "      <td>4228.720000</td>\n",
              "      <td>4200.000000</td>\n",
              "      <td>4276.410000</td>\n",
              "      <td>4603.080000</td>\n",
              "      <td>4354.360000</td>\n",
              "    </tr>\n",
              "    <tr>\n",
              "      <th>75%</th>\n",
              "      <td>4309.740000</td>\n",
              "      <td>4023.590000</td>\n",
              "      <td>4270.260000</td>\n",
              "      <td>4133.460000</td>\n",
              "      <td>4347.180000</td>\n",
              "      <td>4626.150000</td>\n",
              "      <td>4083.590000</td>\n",
              "      <td>4623.080000</td>\n",
              "      <td>4209.230000</td>\n",
              "      <td>4238.970000</td>\n",
              "      <td>4211.280000</td>\n",
              "      <td>4286.150000</td>\n",
              "      <td>4617.950000</td>\n",
              "      <td>4371.790000</td>\n",
              "    </tr>\n",
              "    <tr>\n",
              "      <th>max</th>\n",
              "      <td>4497.440000</td>\n",
              "      <td>4152.820000</td>\n",
              "      <td>4385.640000</td>\n",
              "      <td>4234.360000</td>\n",
              "      <td>4452.820000</td>\n",
              "      <td>4754.870000</td>\n",
              "      <td>4174.870000</td>\n",
              "      <td>4731.280000</td>\n",
              "      <td>4315.380000</td>\n",
              "      <td>4352.310000</td>\n",
              "      <td>4325.640000</td>\n",
              "      <td>4397.950000</td>\n",
              "      <td>4796.920000</td>\n",
              "      <td>4538.970000</td>\n",
              "    </tr>\n",
              "  </tbody>\n",
              "</table>\n",
              "</div>"
            ],
            "text/plain": [
              "               AF3           F7  ...           F8          AF4\n",
              "count  2000.000000  2000.000000  ...  2000.000000  2000.000000\n",
              "mean   4300.157125  4009.273150  ...  4605.169335  4359.852780\n",
              "std      36.361719    29.853264  ...    33.067591    37.074555\n",
              "min    4197.950000  3905.640000  ...  4454.360000  4225.640000\n",
              "25%    4280.510000  3990.770000  ...  4590.642500  4342.050000\n",
              "50%    4293.330000  4006.150000  ...  4603.080000  4354.360000\n",
              "75%    4309.740000  4023.590000  ...  4617.950000  4371.790000\n",
              "max    4497.440000  4152.820000  ...  4796.920000  4538.970000\n",
              "\n",
              "[8 rows x 14 columns]"
            ]
          },
          "metadata": {
            "tags": []
          },
          "execution_count": 2
        }
      ]
    },
    {
      "cell_type": "code",
      "metadata": {
        "id": "6_iE2-2tS1gE",
        "colab_type": "code",
        "outputId": "b85607a8-619a-4631-d3d5-279167350163",
        "colab": {
          "base_uri": "https://localhost:8080/",
          "height": 283
        }
      },
      "source": [
        "from sklearn import preprocessing\n",
        "from sklearn.preprocessing import MinMaxScaler\n",
        "\n",
        "scaler = preprocessing.MinMaxScaler()\n",
        "features = scaler.fit_transform(features)\n",
        "test_features = scaler.transform(test_features)\n",
        "\n",
        "features = pd.DataFrame(features, columns=feature_names)\n",
        "test_features = pd.DataFrame(test_features, columns=test_feature_names)\n",
        "features.boxplot()"
      ],
      "execution_count": 0,
      "outputs": [
        {
          "output_type": "execute_result",
          "data": {
            "text/plain": [
              "<matplotlib.axes._subplots.AxesSubplot at 0x7fe4cc262390>"
            ]
          },
          "metadata": {
            "tags": []
          },
          "execution_count": 36
        },
        {
          "output_type": "display_data",
          "data": {
            "image/png": "[encoded data removed]",
            "text/plain": [
              "<Figure size 432x288 with 1 Axes>"
            ]
          },
          "metadata": {
            "tags": [],
            "needs_background": "light"
          }
        }
      ]
    },
    {
      "cell_type": "code",
      "metadata": {
        "id": "zFr_apgwPOgZ",
        "colab_type": "code",
        "outputId": "7fd18811-9957-4ae1-8e85-0ec2215e8b21",
        "colab": {
          "base_uri": "https://localhost:8080/",
          "height": 148
        }
      },
      "source": [
        "from xgboost import XGBClassifier\n",
        "model = XGBClassifier()\n",
        "model.fit(features,trainset.label)"
      ],
      "execution_count": 0,
      "outputs": [
        {
          "output_type": "execute_result",
          "data": {
            "text/plain": [
              "XGBClassifier(base_score=0.5, booster='gbtree', colsample_bylevel=1,\n",
              "              colsample_bynode=1, colsample_bytree=1, gamma=0,\n",
              "              learning_rate=0.1, max_delta_step=0, max_depth=3,\n",
              "              min_child_weight=1, missing=None, n_estimators=100, n_jobs=1,\n",
              "              nthread=None, objective='binary:logistic', random_state=0,\n",
              "              reg_alpha=0, reg_lambda=1, scale_pos_weight=1, seed=None,\n",
              "              silent=None, subsample=1, verbosity=1)"
            ]
          },
          "metadata": {
            "tags": []
          },
          "execution_count": 4
        }
      ]
    },
    {
      "cell_type": "code",
      "metadata": {
        "id": "UAjCHxjIQC8I",
        "colab_type": "code",
        "outputId": "353beaff-67aa-421f-8e62-d7b2fc7c3455",
        "colab": {
          "base_uri": "https://localhost:8080/",
          "height": 36
        }
      },
      "source": [
        "score = cross_val_score(model, features, trainset.label,scoring='roc_auc', cv= 10).mean()\n",
        "print('AUC score for trainset: '+ str(score))"
      ],
      "execution_count": 0,
      "outputs": [
        {
          "output_type": "stream",
          "text": [
            "AUC score for trainset: 0.8777071852714056\n"
          ],
          "name": "stdout"
        }
      ]
    },
    {
      "cell_type": "markdown",
      "metadata": {
        "id": "ietSFnf9QnpH",
        "colab_type": "text"
      },
      "source": [
        "On the Kaggle website they say that this should be a very promising model, so I'm going to explore this one for today.\n",
        "\n",
        "I'll begin again with looking for better parameters:"
      ]
    },
    {
      "cell_type": "code",
      "metadata": {
        "id": "y8j_C4Klcqh6",
        "colab_type": "code",
        "outputId": "e6e301ca-9cdf-4bde-f2a0-3dd34ce02b26",
        "colab": {
          "base_uri": "https://localhost:8080/",
          "height": 442
        }
      },
      "source": [
        "model.get_params()"
      ],
      "execution_count": 0,
      "outputs": [
        {
          "output_type": "execute_result",
          "data": {
            "text/plain": [
              "{'base_score': 0.5,\n",
              " 'booster': 'gbtree',\n",
              " 'colsample_bylevel': 1,\n",
              " 'colsample_bynode': 1,\n",
              " 'colsample_bytree': 1,\n",
              " 'gamma': 0,\n",
              " 'learning_rate': 0.1,\n",
              " 'max_delta_step': 0,\n",
              " 'max_depth': 3,\n",
              " 'min_child_weight': 1,\n",
              " 'missing': None,\n",
              " 'n_estimators': 100,\n",
              " 'n_jobs': 1,\n",
              " 'nthread': None,\n",
              " 'objective': 'binary:logistic',\n",
              " 'random_state': 0,\n",
              " 'reg_alpha': 0,\n",
              " 'reg_lambda': 1,\n",
              " 'scale_pos_weight': 1,\n",
              " 'seed': None,\n",
              " 'silent': None,\n",
              " 'subsample': 1,\n",
              " 'verbosity': 1}"
            ]
          },
          "metadata": {
            "tags": []
          },
          "execution_count": 39
        }
      ]
    },
    {
      "cell_type": "markdown",
      "metadata": {
        "id": "1y9akwgB8lQO",
        "colab_type": "text"
      },
      "source": [
        "The XGBoost model requires parameter tuning to improve and fully leverage its advantages over other algorithms.\n",
        "The AUC score increased with 5% if I just looked at those two parameters. If I could take this to a higher level, maybe there is a possibility that this could become a very good model.\n",
        "\n",
        "[This website](https://www.analyticsvidhya.com/blog/2016/03/complete-guide-parameter-tuning-xgboost-with-codes-python/) gives a rigorous explanation about all parameters and how to tune them."
      ]
    },
    {
      "cell_type": "markdown",
      "metadata": {
        "id": "C7-sU_IJ8tEb",
        "colab_type": "text"
      },
      "source": [
        "First, I decide *n_estimators* and the *learning-rate*."
      ]
    },
    {
      "cell_type": "code",
      "metadata": {
        "id": "j_gD5hK7QXrE",
        "colab_type": "code",
        "outputId": "e9ad7750-1d11-4449-9215-a77601bd0afd",
        "colab": {
          "base_uri": "https://localhost:8080/",
          "height": 183
        }
      },
      "source": [
        "estimators = list(range(100,1000,100))\n",
        "rate = [0.05,0.1,0.2,0.3,0.4]\n",
        "\n",
        "model = XGBClassifier(max_depth=5, subsample=0.8, colsample_bytree=0.8, gamma=0)\n",
        "params = dict(n_estimators= estimators, learning_rate=rate)\n",
        "grid_search = GridSearchCV(model, param_grid=params, scoring='roc_auc')\n",
        "grid_search.fit(features, trainset.label)\n",
        "\n",
        "print(grid_search.best_estimator_)\n",
        "print(grid_search.best_params_)\n",
        "print(grid_search.best_score_)"
      ],
      "execution_count": 0,
      "outputs": [
        {
          "output_type": "stream",
          "text": [
            "XGBClassifier(base_score=0.5, booster='gbtree', colsample_bylevel=1,\n",
            "              colsample_bynode=1, colsample_bytree=0.8, gamma=0,\n",
            "              learning_rate=0.1, max_delta_step=0, max_depth=5,\n",
            "              min_child_weight=1, missing=None, n_estimators=400, n_jobs=1,\n",
            "              nthread=None, objective='binary:logistic', random_state=0,\n",
            "              reg_alpha=0, reg_lambda=1, scale_pos_weight=1, seed=None,\n",
            "              silent=None, subsample=0.8, verbosity=1)\n",
            "{'learning_rate': 0.1, 'n_estimators': 400}\n",
            "0.9326006037824701\n"
          ],
          "name": "stdout"
        }
      ]
    },
    {
      "cell_type": "markdown",
      "metadata": {
        "id": "EuE5bArE82cZ",
        "colab_type": "text"
      },
      "source": [
        "Now we have this, I decide what *max_depth* and *min_child_weight* should be according to these results."
      ]
    },
    {
      "cell_type": "code",
      "metadata": {
        "id": "aYqPZDAF4bG_",
        "colab_type": "code",
        "outputId": "a027696c-09b3-4490-cda2-543dd7b45d49",
        "colab": {
          "base_uri": "https://localhost:8080/",
          "height": 183
        }
      },
      "source": [
        "depth = list(range(3,10,2))\n",
        "child = list(range(1,6,2))\n",
        "\n",
        "model = XGBClassifier(n_estimators=400, subsample=0.8, colsample_bytree=0.8, learning_rate=0.1)\n",
        "params = dict(max_depth=depth, min_child_weight=child)\n",
        "grid_search = GridSearchCV(model, param_grid=params, scoring='roc_auc')\n",
        "grid_search.fit(features, trainset.label)\n",
        "\n",
        "print(grid_search.best_estimator_)\n",
        "print(grid_search.best_params_)\n",
        "print(grid_search.best_score_)"
      ],
      "execution_count": 0,
      "outputs": [
        {
          "output_type": "stream",
          "text": [
            "XGBClassifier(base_score=0.5, booster='gbtree', colsample_bylevel=1,\n",
            "              colsample_bynode=1, colsample_bytree=0.8, gamma=0,\n",
            "              learning_rate=0.1, max_delta_step=0, max_depth=7,\n",
            "              min_child_weight=1, missing=None, n_estimators=400, n_jobs=1,\n",
            "              nthread=None, objective='binary:logistic', random_state=0,\n",
            "              reg_alpha=0, reg_lambda=1, scale_pos_weight=1, seed=None,\n",
            "              silent=None, subsample=0.8, verbosity=1)\n",
            "{'max_depth': 7, 'min_child_weight': 1}\n",
            "0.9328682904883238\n"
          ],
          "name": "stdout"
        }
      ]
    },
    {
      "cell_type": "markdown",
      "metadata": {
        "id": "YYPCCLc2_ZgO",
        "colab_type": "text"
      },
      "source": [
        "Now I will refine this:"
      ]
    },
    {
      "cell_type": "code",
      "metadata": {
        "id": "IyfKTeVU_c4T",
        "colab_type": "code",
        "outputId": "a1850e70-fdda-4450-f85a-b890c2f97252",
        "colab": {
          "base_uri": "https://localhost:8080/",
          "height": 183
        }
      },
      "source": [
        "depth = [5,6,7,8,9]\n",
        "child = [0,1,2,3]\n",
        "\n",
        "model = XGBClassifier(n_estimators=400, subsample=0.8, colsample_bytree=0.8, learning_rate=0.1)\n",
        "params = dict(max_depth=depth, min_child_weight=child)\n",
        "grid_search = GridSearchCV(model, param_grid=params, scoring='roc_auc')\n",
        "grid_search.fit(features, trainset.label)\n",
        "\n",
        "print(grid_search.best_estimator_)\n",
        "print(grid_search.best_params_)\n",
        "print(grid_search.best_score_)"
      ],
      "execution_count": 0,
      "outputs": [
        {
          "output_type": "stream",
          "text": [
            "XGBClassifier(base_score=0.5, booster='gbtree', colsample_bylevel=1,\n",
            "              colsample_bynode=1, colsample_bytree=0.8, gamma=0,\n",
            "              learning_rate=0.1, max_delta_step=0, max_depth=7,\n",
            "              min_child_weight=0, missing=None, n_estimators=400, n_jobs=1,\n",
            "              nthread=None, objective='binary:logistic', random_state=0,\n",
            "              reg_alpha=0, reg_lambda=1, scale_pos_weight=1, seed=None,\n",
            "              silent=None, subsample=0.8, verbosity=1)\n",
            "{'max_depth': 7, 'min_child_weight': 0}\n",
            "0.9394627494195722\n"
          ],
          "name": "stdout"
        }
      ]
    },
    {
      "cell_type": "markdown",
      "metadata": {
        "id": "Pc0gx2KAAKwn",
        "colab_type": "text"
      },
      "source": [
        "Knowing this, we can now tune *gamma*:"
      ]
    },
    {
      "cell_type": "code",
      "metadata": {
        "id": "W0tJDhIfAO9S",
        "colab_type": "code",
        "outputId": "255878b4-5f6d-4326-d730-1437e929cc5e",
        "colab": {
          "base_uri": "https://localhost:8080/",
          "height": 183
        }
      },
      "source": [
        "gammas= [i/10.0 for i in range(0,5)]\n",
        "\n",
        "model = XGBClassifier(n_estimators=400, max_depth=7, min_child_weight=0, learning_rate=0.1, subsample=0.8, colsample_bytree=0.8)\n",
        "params = dict(gamma=gammas)\n",
        "grid_search = GridSearchCV(model, param_grid=params, scoring='roc_auc')\n",
        "grid_search.fit(features, trainset.label)\n",
        "\n",
        "print(grid_search.best_estimator_)\n",
        "print(grid_search.best_params_)\n",
        "print(grid_search.best_score_)"
      ],
      "execution_count": 0,
      "outputs": [
        {
          "output_type": "stream",
          "text": [
            "XGBClassifier(base_score=0.5, booster='gbtree', colsample_bylevel=1,\n",
            "              colsample_bynode=1, colsample_bytree=0.8, gamma=0.0,\n",
            "              learning_rate=0.1, max_delta_step=0, max_depth=7,\n",
            "              min_child_weight=0, missing=None, n_estimators=400, n_jobs=1,\n",
            "              nthread=None, objective='binary:logistic', random_state=0,\n",
            "              reg_alpha=0, reg_lambda=1, scale_pos_weight=1, seed=None,\n",
            "              silent=None, subsample=0.8, verbosity=1)\n",
            "{'gamma': 0.0}\n",
            "0.9394627494195722\n"
          ],
          "name": "stdout"
        }
      ]
    },
    {
      "cell_type": "markdown",
      "metadata": {
        "id": "oXrw9WnOA25d",
        "colab_type": "text"
      },
      "source": [
        "So the default set gamma seems to be the optimal one."
      ]
    },
    {
      "cell_type": "markdown",
      "metadata": {
        "id": "vLXYmWpbCCmE",
        "colab_type": "text"
      },
      "source": [
        "Just checking n_estimators once again now:"
      ]
    },
    {
      "cell_type": "code",
      "metadata": {
        "id": "cvepKPxeCHJg",
        "colab_type": "code",
        "outputId": "e0ea8895-0451-41a0-f43d-ad79dd18d94b",
        "colab": {
          "base_uri": "https://localhost:8080/",
          "height": 183
        }
      },
      "source": [
        "estimators = list(range(100,1000,100))\n",
        "\n",
        "model = XGBClassifier(gamma=0 ,max_depth=7, min_child_weight=0, learning_rate=0.1, subsample=0.8, colsample_bytree=0.8)\n",
        "params = dict(n_estimators= estimators)\n",
        "grid_search = GridSearchCV(model, param_grid=params, scoring='roc_auc')\n",
        "grid_search.fit(features, trainset.label)\n",
        "\n",
        "print(grid_search.best_estimator_)\n",
        "print(grid_search.best_params_)\n",
        "print(grid_search.best_score_)"
      ],
      "execution_count": 0,
      "outputs": [
        {
          "output_type": "stream",
          "text": [
            "XGBClassifier(base_score=0.5, booster='gbtree', colsample_bylevel=1,\n",
            "              colsample_bynode=1, colsample_bytree=0.8, gamma=0,\n",
            "              learning_rate=0.1, max_delta_step=0, max_depth=7,\n",
            "              min_child_weight=0, missing=None, n_estimators=900, n_jobs=1,\n",
            "              nthread=None, objective='binary:logistic', random_state=0,\n",
            "              reg_alpha=0, reg_lambda=1, scale_pos_weight=1, seed=None,\n",
            "              silent=None, subsample=0.8, verbosity=1)\n",
            "{'n_estimators': 900}\n",
            "0.9404372534089858\n"
          ],
          "name": "stdout"
        }
      ]
    },
    {
      "cell_type": "markdown",
      "metadata": {
        "id": "H6jU491THjkF",
        "colab_type": "text"
      },
      "source": [
        "I can refine this number by looking in a smaller range:"
      ]
    },
    {
      "cell_type": "code",
      "metadata": {
        "id": "McULdnufHpZ-",
        "colab_type": "code",
        "outputId": "ae4a7bd6-e3c2-47f7-cc51-7ec0607c234a",
        "colab": {
          "base_uri": "https://localhost:8080/",
          "height": 183
        }
      },
      "source": [
        "estimators = list(range(850,950,10))\n",
        "\n",
        "model = XGBClassifier(gamma=0 ,max_depth=7, min_child_weight=0, learning_rate=0.1, subsample=0.8, colsample_bytree=0.8)\n",
        "params = dict(n_estimators= estimators)\n",
        "grid_search = GridSearchCV(model, param_grid=params, scoring='roc_auc')\n",
        "grid_search.fit(features, trainset.label)\n",
        "\n",
        "print(grid_search.best_estimator_)\n",
        "print(grid_search.best_params_)\n",
        "print(grid_search.best_score_)"
      ],
      "execution_count": 0,
      "outputs": [
        {
          "output_type": "stream",
          "text": [
            "XGBClassifier(base_score=0.5, booster='gbtree', colsample_bylevel=1,\n",
            "              colsample_bynode=1, colsample_bytree=0.8, gamma=0,\n",
            "              learning_rate=0.1, max_delta_step=0, max_depth=7,\n",
            "              min_child_weight=0, missing=None, n_estimators=900, n_jobs=1,\n",
            "              nthread=None, objective='binary:logistic', random_state=0,\n",
            "              reg_alpha=0, reg_lambda=1, scale_pos_weight=1, seed=None,\n",
            "              silent=None, subsample=0.8, verbosity=1)\n",
            "{'n_estimators': 900}\n",
            "0.9404372534089858\n"
          ],
          "name": "stdout"
        }
      ]
    },
    {
      "cell_type": "code",
      "metadata": {
        "id": "aWT7V6m2NHsk",
        "colab_type": "code",
        "outputId": "e5bf011b-fee5-405a-a70d-4d2a4eb4cc70",
        "colab": {
          "base_uri": "https://localhost:8080/",
          "height": 202
        }
      },
      "source": [
        "means = grid_search.cv_results_['mean_test_score']\n",
        "stds = grid_search.cv_results_['std_test_score']\n",
        "\n",
        "for mean_score, std, params in zip(means, stds, grid_search.cv_results_['params']):\n",
        "    print(\"{:.3f} (+/-{:.3f}) for {}\".format(mean_score, std * 2, params))"
      ],
      "execution_count": 0,
      "outputs": [
        {
          "output_type": "stream",
          "text": [
            "0.940 (+/-0.031) for {'n_estimators': 850}\n",
            "0.940 (+/-0.031) for {'n_estimators': 860}\n",
            "0.940 (+/-0.031) for {'n_estimators': 870}\n",
            "0.940 (+/-0.031) for {'n_estimators': 880}\n",
            "0.940 (+/-0.031) for {'n_estimators': 890}\n",
            "0.940 (+/-0.031) for {'n_estimators': 900}\n",
            "0.940 (+/-0.031) for {'n_estimators': 910}\n",
            "0.940 (+/-0.031) for {'n_estimators': 920}\n",
            "0.940 (+/-0.031) for {'n_estimators': 930}\n",
            "0.940 (+/-0.031) for {'n_estimators': 940}\n"
          ],
          "name": "stdout"
        }
      ]
    },
    {
      "cell_type": "markdown",
      "metadata": {
        "id": "TXk9ijVUCy27",
        "colab_type": "text"
      },
      "source": [
        "Checking *subsample* and *colsample_bytree*:"
      ]
    },
    {
      "cell_type": "code",
      "metadata": {
        "id": "2tdi-C-UC3CM",
        "colab_type": "code",
        "outputId": "07659bbb-76ea-4c45-928c-2f072a138d26",
        "colab": {
          "base_uri": "https://localhost:8080/",
          "height": 54
        }
      },
      "source": [
        "subsamples = [i/10.0 for i in range(6,10)]\n",
        "colsamples = [i/10.0 for i in range(6,10)]\n",
        "\n",
        "model = XGBClassifier(n_estimators=900 ,gamma=0 ,max_depth=7, min_child_weight=0, learning_rate=0.1)\n",
        "params = dict(subsample= subsamples, colsample_bytree=colsamples)\n",
        "grid_search = GridSearchCV(model, param_grid=params, scoring='roc_auc')\n",
        "grid_search.fit(features, trainset.label)\n",
        "\n",
        "print(grid_search.best_params_)\n",
        "print(grid_search.best_score_)"
      ],
      "execution_count": 0,
      "outputs": [
        {
          "output_type": "stream",
          "text": [
            "{'colsample_bytree': 0.9, 'subsample': 0.8}\n",
            "0.9410687653038368\n"
          ],
          "name": "stdout"
        }
      ]
    },
    {
      "cell_type": "markdown",
      "metadata": {
        "id": "fEsJ59OdOabr",
        "colab_type": "text"
      },
      "source": [
        "This gives a lower score so I will try to refine this:"
      ]
    },
    {
      "cell_type": "code",
      "metadata": {
        "id": "JiwJ5oKuOkES",
        "colab_type": "code",
        "outputId": "29951e9b-1209-4216-e5d8-608cf532e3fd",
        "colab": {
          "base_uri": "https://localhost:8080/",
          "height": 54
        }
      },
      "source": [
        "subsamples = [i/100.0 for i in range(75,90,5)]\n",
        "colsamples = [i/100.0 for i in range(80,95,5)]\n",
        "\n",
        "model = XGBClassifier(n_estimators=900 ,gamma=0 ,max_depth=7, min_child_weight=0, learning_rate=0.1)\n",
        "params = dict(subsample= subsamples, colsample_bytree=colsamples)\n",
        "grid_search = GridSearchCV(model, param_grid=params, scoring='roc_auc')\n",
        "grid_search.fit(features, trainset.label)\n",
        "\n",
        "print(grid_search.best_params_)\n",
        "print(grid_search.best_score_)"
      ],
      "execution_count": 0,
      "outputs": [
        {
          "output_type": "stream",
          "text": [
            "{'colsample_bytree': 0.9, 'subsample': 0.85}\n",
            "0.9415581077558297\n"
          ],
          "name": "stdout"
        }
      ]
    },
    {
      "cell_type": "markdown",
      "metadata": {
        "id": "8uAOL2J0O-39",
        "colab_type": "text"
      },
      "source": [
        "*reg_alpha* and *reg_lambda* are used to prevent overfitting. I will look for best values for these parameters."
      ]
    },
    {
      "cell_type": "code",
      "metadata": {
        "id": "N6ZSbVbVQUUi",
        "colab_type": "code",
        "outputId": "970ed84c-f2e2-4e0a-db44-0df404b242f5",
        "colab": {
          "base_uri": "https://localhost:8080/",
          "height": 54
        }
      },
      "source": [
        "alphas = [1e-5, 1e-2, 0.1, 1, 100]\n",
        "\n",
        "model = XGBClassifier(n_estimators=900 ,gamma=0 ,max_depth=7, min_child_weight=0, learning_rate=0.1, colsample_bytree=0.8, subsample=0.8)\n",
        "params = dict(reg_alpha=alphas)\n",
        "grid_search = GridSearchCV(model, param_grid=params, scoring='roc_auc')\n",
        "grid_search.fit(features, trainset.label)\n",
        "\n",
        "print(grid_search.best_params_)\n",
        "print(grid_search.best_score_)"
      ],
      "execution_count": 0,
      "outputs": [
        {
          "output_type": "stream",
          "text": [
            "{'reg_alpha': 1e-05}\n",
            "0.940331192802925\n"
          ],
          "name": "stdout"
        }
      ]
    },
    {
      "cell_type": "code",
      "metadata": {
        "id": "mSz2YZ2DRDqr",
        "colab_type": "code",
        "outputId": "59b938a2-526d-4293-d3f6-7027d52fb09c",
        "colab": {
          "base_uri": "https://localhost:8080/",
          "height": 54
        }
      },
      "source": [
        "alphas = [1e-5, 0]\n",
        "\n",
        "model = XGBClassifier(n_estimators=900 ,gamma=0 ,max_depth=7, min_child_weight=0, learning_rate=0.1, colsample_bytree=0.8, subsample=0.8)\n",
        "params = dict(reg_alpha=alphas)\n",
        "grid_search = GridSearchCV(model, param_grid=params, scoring='roc_auc')\n",
        "grid_search.fit(features, trainset.label)\n",
        "\n",
        "print(grid_search.best_params_)\n",
        "print(grid_search.best_score_)"
      ],
      "execution_count": 0,
      "outputs": [
        {
          "output_type": "stream",
          "text": [
            "{'reg_alpha': 0}\n",
            "0.9404322675020851\n"
          ],
          "name": "stdout"
        }
      ]
    },
    {
      "cell_type": "code",
      "metadata": {
        "id": "N_yMFdCxei1w",
        "colab_type": "code",
        "outputId": "f8e282c4-6d1c-4418-dd38-9168380a45fe",
        "colab": {
          "base_uri": "https://localhost:8080/",
          "height": 36
        }
      },
      "source": [
        "model = XGBClassifier(n_estimators= 900, gamma=0 ,max_depth=7, min_child_weight=0, learning_rate=0.1, subsample=0.85, colsample_bytree=0.9)\n",
        "score = cross_val_score(model, features, trainset.label,scoring='roc_auc', cv= 10).mean()\n",
        "print('AUC score for trainset: '+ str(score))"
      ],
      "execution_count": 0,
      "outputs": [
        {
          "output_type": "stream",
          "text": [
            "AUC score for trainset: 0.9460247876486407\n"
          ],
          "name": "stdout"
        }
      ]
    },
    {
      "cell_type": "markdown",
      "metadata": {
        "id": "AIT0MehuWxBc",
        "colab_type": "text"
      },
      "source": [
        "Maybe if I would change pre-processing methods to something else, this score could be elevated.\n",
        "\n",
        "I'll try some:"
      ]
    },
    {
      "cell_type": "code",
      "metadata": {
        "id": "jZVEKuf1L7XZ",
        "colab_type": "code",
        "outputId": "860ecd14-9d9b-48b8-9b28-17181d4d266c",
        "colab": {
          "base_uri": "https://localhost:8080/",
          "height": 300
        }
      },
      "source": [
        "trainset = pd.read_csv(\"https://raw.githubusercontent.com/sdgroeve/Machine_Learning_course_UGent_D012554_kaggle/master/eeg_train.csv\")\n",
        "testset = pd.read_csv(\"https://raw.githubusercontent.com/sdgroeve/Machine_Learning_course_UGent_D012554_kaggle/master/eeg_test.csv\")\n",
        "\n",
        "features = trainset.copy()\n",
        "features.pop('label')\n",
        "feature_names = list(features.columns)\n",
        "\n",
        "test_features = testset.copy()\n",
        "test_features.pop('index')\n",
        "test_feature_names = list(test_features.columns)\n",
        "features.describe()"
      ],
      "execution_count": 0,
      "outputs": [
        {
          "output_type": "execute_result",
          "data": {
            "text/html": [
              "<div>\n",
              "<style scoped>\n",
              "    .dataframe tbody tr th:only-of-type {\n",
              "        vertical-align: middle;\n",
              "    }\n",
              "\n",
              "    .dataframe tbody tr th {\n",
              "        vertical-align: top;\n",
              "    }\n",
              "\n",
              "    .dataframe thead th {\n",
              "        text-align: right;\n",
              "    }\n",
              "</style>\n",
              "<table border=\"1\" class=\"dataframe\">\n",
              "  <thead>\n",
              "    <tr style=\"text-align: right;\">\n",
              "      <th></th>\n",
              "      <th>AF3</th>\n",
              "      <th>F7</th>\n",
              "      <th>F3</th>\n",
              "      <th>FC5</th>\n",
              "      <th>T7</th>\n",
              "      <th>P7</th>\n",
              "      <th>O1</th>\n",
              "      <th>02</th>\n",
              "      <th>P8</th>\n",
              "      <th>T8</th>\n",
              "      <th>FC6</th>\n",
              "      <th>F4</th>\n",
              "      <th>F8</th>\n",
              "      <th>AF4</th>\n",
              "    </tr>\n",
              "  </thead>\n",
              "  <tbody>\n",
              "    <tr>\n",
              "      <th>count</th>\n",
              "      <td>2000.000000</td>\n",
              "      <td>2000.000000</td>\n",
              "      <td>2000.000000</td>\n",
              "      <td>2000.000000</td>\n",
              "      <td>2000.000000</td>\n",
              "      <td>2000.000000</td>\n",
              "      <td>2000.000000</td>\n",
              "      <td>2000.000000</td>\n",
              "      <td>2000.000000</td>\n",
              "      <td>2000.000000</td>\n",
              "      <td>2000.000000</td>\n",
              "      <td>2000.000000</td>\n",
              "      <td>2000.000000</td>\n",
              "      <td>2000.000000</td>\n",
              "    </tr>\n",
              "    <tr>\n",
              "      <th>mean</th>\n",
              "      <td>4300.157125</td>\n",
              "      <td>4009.273150</td>\n",
              "      <td>4263.860860</td>\n",
              "      <td>4122.616195</td>\n",
              "      <td>4341.606870</td>\n",
              "      <td>4620.061720</td>\n",
              "      <td>4072.151250</td>\n",
              "      <td>4615.229300</td>\n",
              "      <td>4200.893915</td>\n",
              "      <td>4230.573235</td>\n",
              "      <td>4201.583060</td>\n",
              "      <td>4278.445325</td>\n",
              "      <td>4605.169335</td>\n",
              "      <td>4359.852780</td>\n",
              "    </tr>\n",
              "    <tr>\n",
              "      <th>std</th>\n",
              "      <td>36.361719</td>\n",
              "      <td>29.853264</td>\n",
              "      <td>20.788323</td>\n",
              "      <td>20.565528</td>\n",
              "      <td>16.691038</td>\n",
              "      <td>18.034865</td>\n",
              "      <td>20.933632</td>\n",
              "      <td>18.391027</td>\n",
              "      <td>17.810272</td>\n",
              "      <td>19.661149</td>\n",
              "      <td>24.397269</td>\n",
              "      <td>19.645651</td>\n",
              "      <td>33.067591</td>\n",
              "      <td>37.074555</td>\n",
              "    </tr>\n",
              "    <tr>\n",
              "      <th>min</th>\n",
              "      <td>4197.950000</td>\n",
              "      <td>3905.640000</td>\n",
              "      <td>4202.560000</td>\n",
              "      <td>4058.460000</td>\n",
              "      <td>4310.260000</td>\n",
              "      <td>4569.740000</td>\n",
              "      <td>4032.820000</td>\n",
              "      <td>4571.280000</td>\n",
              "      <td>4147.690000</td>\n",
              "      <td>4158.970000</td>\n",
              "      <td>4107.180000</td>\n",
              "      <td>4216.410000</td>\n",
              "      <td>4454.360000</td>\n",
              "      <td>4225.640000</td>\n",
              "    </tr>\n",
              "    <tr>\n",
              "      <th>25%</th>\n",
              "      <td>4280.510000</td>\n",
              "      <td>3990.770000</td>\n",
              "      <td>4250.260000</td>\n",
              "      <td>4108.720000</td>\n",
              "      <td>4331.790000</td>\n",
              "      <td>4611.790000</td>\n",
              "      <td>4057.440000</td>\n",
              "      <td>4604.100000</td>\n",
              "      <td>4190.260000</td>\n",
              "      <td>4219.490000</td>\n",
              "      <td>4189.740000</td>\n",
              "      <td>4267.180000</td>\n",
              "      <td>4590.642500</td>\n",
              "      <td>4342.050000</td>\n",
              "    </tr>\n",
              "    <tr>\n",
              "      <th>50%</th>\n",
              "      <td>4293.330000</td>\n",
              "      <td>4006.150000</td>\n",
              "      <td>4262.560000</td>\n",
              "      <td>4121.030000</td>\n",
              "      <td>4338.460000</td>\n",
              "      <td>4617.950000</td>\n",
              "      <td>4069.740000</td>\n",
              "      <td>4612.820000</td>\n",
              "      <td>4199.490000</td>\n",
              "      <td>4228.720000</td>\n",
              "      <td>4200.000000</td>\n",
              "      <td>4276.410000</td>\n",
              "      <td>4603.080000</td>\n",
              "      <td>4354.360000</td>\n",
              "    </tr>\n",
              "    <tr>\n",
              "      <th>75%</th>\n",
              "      <td>4309.740000</td>\n",
              "      <td>4023.590000</td>\n",
              "      <td>4270.260000</td>\n",
              "      <td>4133.460000</td>\n",
              "      <td>4347.180000</td>\n",
              "      <td>4626.150000</td>\n",
              "      <td>4083.590000</td>\n",
              "      <td>4623.080000</td>\n",
              "      <td>4209.230000</td>\n",
              "      <td>4238.970000</td>\n",
              "      <td>4211.280000</td>\n",
              "      <td>4286.150000</td>\n",
              "      <td>4617.950000</td>\n",
              "      <td>4371.790000</td>\n",
              "    </tr>\n",
              "    <tr>\n",
              "      <th>max</th>\n",
              "      <td>4497.440000</td>\n",
              "      <td>4152.820000</td>\n",
              "      <td>4385.640000</td>\n",
              "      <td>4234.360000</td>\n",
              "      <td>4452.820000</td>\n",
              "      <td>4754.870000</td>\n",
              "      <td>4174.870000</td>\n",
              "      <td>4731.280000</td>\n",
              "      <td>4315.380000</td>\n",
              "      <td>4352.310000</td>\n",
              "      <td>4325.640000</td>\n",
              "      <td>4397.950000</td>\n",
              "      <td>4796.920000</td>\n",
              "      <td>4538.970000</td>\n",
              "    </tr>\n",
              "  </tbody>\n",
              "</table>\n",
              "</div>"
            ],
            "text/plain": [
              "               AF3           F7  ...           F8          AF4\n",
              "count  2000.000000  2000.000000  ...  2000.000000  2000.000000\n",
              "mean   4300.157125  4009.273150  ...  4605.169335  4359.852780\n",
              "std      36.361719    29.853264  ...    33.067591    37.074555\n",
              "min    4197.950000  3905.640000  ...  4454.360000  4225.640000\n",
              "25%    4280.510000  3990.770000  ...  4590.642500  4342.050000\n",
              "50%    4293.330000  4006.150000  ...  4603.080000  4354.360000\n",
              "75%    4309.740000  4023.590000  ...  4617.950000  4371.790000\n",
              "max    4497.440000  4152.820000  ...  4796.920000  4538.970000\n",
              "\n",
              "[8 rows x 14 columns]"
            ]
          },
          "metadata": {
            "tags": []
          },
          "execution_count": 14
        }
      ]
    },
    {
      "cell_type": "markdown",
      "metadata": {
        "id": "eIKGhKPpXKA2",
        "colab_type": "text"
      },
      "source": [
        "Without scaling:"
      ]
    },
    {
      "cell_type": "code",
      "metadata": {
        "id": "nQwO53iPXCzH",
        "colab_type": "code",
        "outputId": "8f9ff6f4-6671-4554-9225-351f7c0b8284",
        "colab": {
          "base_uri": "https://localhost:8080/",
          "height": 36
        }
      },
      "source": [
        "model = XGBClassifier(n_estimators= 900, gamma=0 ,max_depth=7, min_child_weight=0, learning_rate=0.1, subsample=0.85, colsample_bytree=0.9)\n",
        "score = cross_val_score(model, features, trainset.label,scoring='roc_auc', cv= 10).mean()\n",
        "print('AUC score for trainset: '+ str(score))"
      ],
      "execution_count": 0,
      "outputs": [
        {
          "output_type": "stream",
          "text": [
            "AUC score for trainset: 0.9460247876486407\n"
          ],
          "name": "stdout"
        }
      ]
    },
    {
      "cell_type": "markdown",
      "metadata": {
        "id": "IyDXcXuxXM0R",
        "colab_type": "text"
      },
      "source": [
        "With Standard scaling:"
      ]
    },
    {
      "cell_type": "code",
      "metadata": {
        "id": "1LE2pC0fXHpl",
        "colab_type": "code",
        "outputId": "ff28f3fa-b7f7-4c00-c07e-f8c7aaad7002",
        "colab": {
          "base_uri": "https://localhost:8080/",
          "height": 284
        }
      },
      "source": [
        "from sklearn import preprocessing\n",
        "from sklearn.preprocessing import MinMaxScaler\n",
        "\n",
        "scaler = preprocessing.MinMaxScaler()\n",
        "features = scaler.fit_transform(features)\n",
        "test_features = scaler.transform(test_features)\n",
        "\n",
        "features = pd.DataFrame(features, columns=feature_names)\n",
        "test_features = pd.DataFrame(test_features, columns=test_feature_names)\n",
        "features.boxplot()"
      ],
      "execution_count": 0,
      "outputs": [
        {
          "output_type": "execute_result",
          "data": {
            "text/plain": [
              "<matplotlib.axes._subplots.AxesSubplot at 0x7f26c3e39390>"
            ]
          },
          "metadata": {
            "tags": []
          },
          "execution_count": 16
        },
        {
          "output_type": "display_data",
          "data": {
            "image/png": "[encoded data removed]",
            "text/plain": [
              "<Figure size 432x288 with 1 Axes>"
            ]
          },
          "metadata": {
            "tags": [],
            "needs_background": "light"
          }
        }
      ]
    },
    {
      "cell_type": "code",
      "metadata": {
        "id": "72MFjFXbXXAm",
        "colab_type": "code",
        "outputId": "25dc3b1d-a09a-4407-a48e-41e76a15c5e1",
        "colab": {
          "base_uri": "https://localhost:8080/",
          "height": 36
        }
      },
      "source": [
        "model = XGBClassifier(n_estimators= 900, gamma=0 ,max_depth=7, min_child_weight=0, learning_rate=0.1, subsample=0.85, colsample_bytree=0.9)\n",
        "score = cross_val_score(model, features, trainset.label,scoring='roc_auc', cv= 10).mean()\n",
        "print('AUC score for trainset: '+ str(score))"
      ],
      "execution_count": 0,
      "outputs": [
        {
          "output_type": "stream",
          "text": [
            "AUC score for trainset: 0.9452571495782506\n"
          ],
          "name": "stdout"
        }
      ]
    },
    {
      "cell_type": "markdown",
      "metadata": {
        "id": "DW6jp_nT05lo",
        "colab_type": "text"
      },
      "source": [
        "Despite all this effort, I now read that this model also isn't much dependent on scaling the data, with the same reason as with decision trees and random forests."
      ]
    },
    {
      "cell_type": "markdown",
      "metadata": {
        "id": "eH_Myrd9tQy1",
        "colab_type": "text"
      },
      "source": [
        "This is the last day that I try to better my score..I will use higher cross validation in Gridsearch, in order to artificially enlarge traindata so I could have better fitted parameters to the set."
      ]
    },
    {
      "cell_type": "code",
      "metadata": {
        "id": "CX37uC9ttWLg",
        "colab_type": "code",
        "colab": {
          "base_uri": "https://localhost:8080/",
          "height": 146
        },
        "outputId": "26232065-c161-4952-cfae-5ba7537e277f"
      },
      "source": [
        "from xgboost import XGBClassifier\n",
        "model = XGBClassifier()\n",
        "model.fit(features,trainset.label)"
      ],
      "execution_count": 3,
      "outputs": [
        {
          "output_type": "execute_result",
          "data": {
            "text/plain": [
              "XGBClassifier(base_score=0.5, booster='gbtree', colsample_bylevel=1,\n",
              "              colsample_bynode=1, colsample_bytree=1, gamma=0,\n",
              "              learning_rate=0.1, max_delta_step=0, max_depth=3,\n",
              "              min_child_weight=1, missing=None, n_estimators=100, n_jobs=1,\n",
              "              nthread=None, objective='binary:logistic', random_state=0,\n",
              "              reg_alpha=0, reg_lambda=1, scale_pos_weight=1, seed=None,\n",
              "              silent=None, subsample=1, verbosity=1)"
            ]
          },
          "metadata": {
            "tags": []
          },
          "execution_count": 3
        }
      ]
    },
    {
      "cell_type": "code",
      "metadata": {
        "id": "9T1_yN42tcAQ",
        "colab_type": "code",
        "colab": {
          "base_uri": "https://localhost:8080/",
          "height": 35
        },
        "outputId": "ba4e4a8a-5fcd-41ad-866c-12846dbe71f0"
      },
      "source": [
        "score = cross_val_score(model, features, trainset.label,scoring='roc_auc', cv= 10).mean()\n",
        "print('AUC score for trainset: '+ str(score))"
      ],
      "execution_count": 4,
      "outputs": [
        {
          "output_type": "stream",
          "text": [
            "AUC score for trainset: 0.8777071852714056\n"
          ],
          "name": "stdout"
        }
      ]
    },
    {
      "cell_type": "markdown",
      "metadata": {
        "id": "SEXEHDEfuUsy",
        "colab_type": "text"
      },
      "source": [
        "First checking n_estimators and learning_rate"
      ]
    },
    {
      "cell_type": "code",
      "metadata": {
        "id": "fzKiQo4ntgLt",
        "colab_type": "code",
        "colab": {
          "base_uri": "https://localhost:8080/",
          "height": 182
        },
        "outputId": "163355fd-a3f7-426c-a005-4e98243da193"
      },
      "source": [
        "estimators = list(range(100,1000,100))\n",
        "rate = [0.05,0.1,0.2,0.3,0.4]\n",
        "\n",
        "model = XGBClassifier(max_depth=5, subsample=0.8, colsample_bytree=0.8, gamma=0)\n",
        "params = dict(n_estimators= estimators, learning_rate=rate)\n",
        "grid_search = GridSearchCV(model, param_grid=params, scoring='roc_auc', cv=20)\n",
        "grid_search.fit(features, trainset.label)\n",
        "\n",
        "print(grid_search.best_estimator_)\n",
        "print(grid_search.best_params_)\n",
        "print(grid_search.best_score_)"
      ],
      "execution_count": 5,
      "outputs": [
        {
          "output_type": "stream",
          "text": [
            "XGBClassifier(base_score=0.5, booster='gbtree', colsample_bylevel=1,\n",
            "              colsample_bynode=1, colsample_bytree=0.8, gamma=0,\n",
            "              learning_rate=0.1, max_delta_step=0, max_depth=5,\n",
            "              min_child_weight=1, missing=None, n_estimators=900, n_jobs=1,\n",
            "              nthread=None, objective='binary:logistic', random_state=0,\n",
            "              reg_alpha=0, reg_lambda=1, scale_pos_weight=1, seed=None,\n",
            "              silent=None, subsample=0.8, verbosity=1)\n",
            "{'learning_rate': 0.1, 'n_estimators': 900}\n",
            "0.9386736202605768\n"
          ],
          "name": "stdout"
        }
      ]
    },
    {
      "cell_type": "markdown",
      "metadata": {
        "id": "caZ0h5JBuOkv",
        "colab_type": "text"
      },
      "source": [
        "Checking max_depth and min_child_weight"
      ]
    },
    {
      "cell_type": "code",
      "metadata": {
        "id": "rAKyR7oetre8",
        "colab_type": "code",
        "colab": {
          "base_uri": "https://localhost:8080/",
          "height": 182
        },
        "outputId": "13f648ce-9be0-4c8f-d011-01e41986cbf8"
      },
      "source": [
        "depth = list(range(3,10,2))\n",
        "child = list(range(1,6,2))\n",
        "\n",
        "model = XGBClassifier(n_estimators=900, learning_rate=0.1, \n",
        "                      subsample=0.8, colsample_bytree=0.8)\n",
        "params = dict(max_depth=depth, min_child_weight=child)\n",
        "grid_search = GridSearchCV(model, param_grid=params, scoring='roc_auc', cv=20)\n",
        "grid_search.fit(features, trainset.label)\n",
        "\n",
        "print(grid_search.best_estimator_)\n",
        "print(grid_search.best_params_)\n",
        "print(grid_search.best_score_)"
      ],
      "execution_count": 6,
      "outputs": [
        {
          "output_type": "stream",
          "text": [
            "XGBClassifier(base_score=0.5, booster='gbtree', colsample_bylevel=1,\n",
            "              colsample_bynode=1, colsample_bytree=0.8, gamma=0,\n",
            "              learning_rate=0.1, max_delta_step=0, max_depth=7,\n",
            "              min_child_weight=1, missing=None, n_estimators=900, n_jobs=1,\n",
            "              nthread=None, objective='binary:logistic', random_state=0,\n",
            "              reg_alpha=0, reg_lambda=1, scale_pos_weight=1, seed=None,\n",
            "              silent=None, subsample=0.8, verbosity=1)\n",
            "{'max_depth': 7, 'min_child_weight': 1}\n",
            "0.9389380764163372\n"
          ],
          "name": "stdout"
        }
      ]
    },
    {
      "cell_type": "markdown",
      "metadata": {
        "id": "VpUbwpx7uIWs",
        "colab_type": "text"
      },
      "source": [
        "Refining this a bit more"
      ]
    },
    {
      "cell_type": "code",
      "metadata": {
        "id": "6elyPoNut8c9",
        "colab_type": "code",
        "colab": {
          "base_uri": "https://localhost:8080/",
          "height": 182
        },
        "outputId": "22a92227-4918-477a-e725-dc18505a998c"
      },
      "source": [
        "depth = [5,6,7,8,9]\n",
        "child = [0,1,2,3]\n",
        "\n",
        "model = XGBClassifier(n_estimators=900, learning_rate=0.1, \n",
        "                      subsample=0.8, colsample_bytree=0.8)\n",
        "params = dict(max_depth=depth, min_child_weight=child)\n",
        "grid_search = GridSearchCV(model, param_grid=params, scoring='roc_auc', cv=20)\n",
        "grid_search.fit(features, trainset.label)\n",
        "\n",
        "print(grid_search.best_estimator_)\n",
        "print(grid_search.best_params_)\n",
        "print(grid_search.best_score_)"
      ],
      "execution_count": 7,
      "outputs": [
        {
          "output_type": "stream",
          "text": [
            "XGBClassifier(base_score=0.5, booster='gbtree', colsample_bylevel=1,\n",
            "              colsample_bynode=1, colsample_bytree=0.8, gamma=0,\n",
            "              learning_rate=0.1, max_delta_step=0, max_depth=8,\n",
            "              min_child_weight=0, missing=None, n_estimators=900, n_jobs=1,\n",
            "              nthread=None, objective='binary:logistic', random_state=0,\n",
            "              reg_alpha=0, reg_lambda=1, scale_pos_weight=1, seed=None,\n",
            "              silent=None, subsample=0.8, verbosity=1)\n",
            "{'max_depth': 8, 'min_child_weight': 0}\n",
            "0.9456239203630507\n"
          ],
          "name": "stdout"
        }
      ]
    },
    {
      "cell_type": "markdown",
      "metadata": {
        "id": "cgSNlbikuaNf",
        "colab_type": "text"
      },
      "source": [
        "Now checking gammas"
      ]
    },
    {
      "cell_type": "code",
      "metadata": {
        "id": "hmBnPbHcuHXM",
        "colab_type": "code",
        "colab": {
          "base_uri": "https://localhost:8080/",
          "height": 182
        },
        "outputId": "49ba6eab-936f-43de-d0aa-934a0439a015"
      },
      "source": [
        "gammas= [i/10.0 for i in range(0,5)]\n",
        "\n",
        "model = XGBClassifier(n_estimators=900, max_depth=8, min_child_weight=0, \n",
        "                      learning_rate=0.1, subsample=0.8, colsample_bytree=0.8)\n",
        "params = dict(gamma=gammas)\n",
        "grid_search = GridSearchCV(model, param_grid=params, scoring='roc_auc', cv=20)\n",
        "grid_search.fit(features, trainset.label)\n",
        "\n",
        "print(grid_search.best_estimator_)\n",
        "print(grid_search.best_params_)\n",
        "print(grid_search.best_score_)"
      ],
      "execution_count": 8,
      "outputs": [
        {
          "output_type": "stream",
          "text": [
            "XGBClassifier(base_score=0.5, booster='gbtree', colsample_bylevel=1,\n",
            "              colsample_bynode=1, colsample_bytree=0.8, gamma=0.0,\n",
            "              learning_rate=0.1, max_delta_step=0, max_depth=8,\n",
            "              min_child_weight=0, missing=None, n_estimators=900, n_jobs=1,\n",
            "              nthread=None, objective='binary:logistic', random_state=0,\n",
            "              reg_alpha=0, reg_lambda=1, scale_pos_weight=1, seed=None,\n",
            "              silent=None, subsample=0.8, verbosity=1)\n",
            "{'gamma': 0.0}\n",
            "0.9456239203630507\n"
          ],
          "name": "stdout"
        }
      ]
    },
    {
      "cell_type": "markdown",
      "metadata": {
        "id": "AZxo80Liur6S",
        "colab_type": "text"
      },
      "source": [
        "Checking n_estimators again.."
      ]
    },
    {
      "cell_type": "code",
      "metadata": {
        "id": "EtJRWKPHuxcn",
        "colab_type": "code",
        "colab": {
          "base_uri": "https://localhost:8080/",
          "height": 182
        },
        "outputId": "e1584ef4-3ada-493f-bc35-fb7aeb722fae"
      },
      "source": [
        "estimators = list(range(100,1000,100))\n",
        "\n",
        "model = XGBClassifier(gamma=0 ,max_depth=8, min_child_weight=0, \n",
        "                      learning_rate=0.1, subsample=0.8, colsample_bytree=0.8)\n",
        "params = dict(n_estimators= estimators)\n",
        "grid_search = GridSearchCV(model, param_grid=params, scoring='roc_auc', cv=20)\n",
        "grid_search.fit(features, trainset.label)\n",
        "\n",
        "print(grid_search.best_estimator_)\n",
        "print(grid_search.best_params_)\n",
        "print(grid_search.best_score_)"
      ],
      "execution_count": 9,
      "outputs": [
        {
          "output_type": "stream",
          "text": [
            "XGBClassifier(base_score=0.5, booster='gbtree', colsample_bylevel=1,\n",
            "              colsample_bynode=1, colsample_bytree=0.8, gamma=0,\n",
            "              learning_rate=0.1, max_delta_step=0, max_depth=8,\n",
            "              min_child_weight=0, missing=None, n_estimators=900, n_jobs=1,\n",
            "              nthread=None, objective='binary:logistic', random_state=0,\n",
            "              reg_alpha=0, reg_lambda=1, scale_pos_weight=1, seed=None,\n",
            "              silent=None, subsample=0.8, verbosity=1)\n",
            "{'n_estimators': 900}\n",
            "0.9456239203630507\n"
          ],
          "name": "stdout"
        }
      ]
    },
    {
      "cell_type": "markdown",
      "metadata": {
        "id": "ftBOHxtrvkzd",
        "colab_type": "text"
      },
      "source": [
        "Refine by looking at a smaller range:"
      ]
    },
    {
      "cell_type": "code",
      "metadata": {
        "id": "G_qtTA2JvniK",
        "colab_type": "code",
        "colab": {
          "base_uri": "https://localhost:8080/",
          "height": 182
        },
        "outputId": "18f674de-98c9-4748-bb1d-33a06046955f"
      },
      "source": [
        "estimators = list(range(850,950,10))\n",
        "\n",
        "model = XGBClassifier(gamma=0 ,max_depth=8, min_child_weight=0, \n",
        "                      learning_rate=0.1, subsample=0.8, colsample_bytree=0.8)\n",
        "params = dict(n_estimators= estimators)\n",
        "grid_search = GridSearchCV(model, param_grid=params, scoring='roc_auc', cv=20)\n",
        "grid_search.fit(features, trainset.label)\n",
        "\n",
        "print(grid_search.best_estimator_)\n",
        "print(grid_search.best_params_)\n",
        "print(grid_search.best_score_)"
      ],
      "execution_count": 10,
      "outputs": [
        {
          "output_type": "stream",
          "text": [
            "XGBClassifier(base_score=0.5, booster='gbtree', colsample_bylevel=1,\n",
            "              colsample_bynode=1, colsample_bytree=0.8, gamma=0,\n",
            "              learning_rate=0.1, max_delta_step=0, max_depth=8,\n",
            "              min_child_weight=0, missing=None, n_estimators=900, n_jobs=1,\n",
            "              nthread=None, objective='binary:logistic', random_state=0,\n",
            "              reg_alpha=0, reg_lambda=1, scale_pos_weight=1, seed=None,\n",
            "              silent=None, subsample=0.8, verbosity=1)\n",
            "{'n_estimators': 900}\n",
            "0.9456239203630507\n"
          ],
          "name": "stdout"
        }
      ]
    },
    {
      "cell_type": "markdown",
      "metadata": {
        "id": "fMrFjFIpvwr9",
        "colab_type": "text"
      },
      "source": [
        "Now we're almost done, only subsample and colsample_bytree tuning:"
      ]
    },
    {
      "cell_type": "code",
      "metadata": {
        "id": "1oCljgtAv1yK",
        "colab_type": "code",
        "colab": {
          "base_uri": "https://localhost:8080/",
          "height": 182
        },
        "outputId": "d59e4396-9d34-461d-a057-3c6c19d89a20"
      },
      "source": [
        "subsamples = [i/10.0 for i in range(6,10)]\n",
        "colsamples = [i/10.0 for i in range(6,10)]\n",
        "\n",
        "model = XGBClassifier(n_estimators=900, gamma=0 ,max_depth=8, \n",
        "                      min_child_weight=0, learning_rate=0.1)\n",
        "params = dict(subsample=subsamples, colsample_bytree=colsamples)\n",
        "grid_search = GridSearchCV(model, param_grid=params, scoring='roc_auc', cv=20)\n",
        "grid_search.fit(features, trainset.label)\n",
        "\n",
        "print(grid_search.best_estimator_)\n",
        "print(grid_search.best_params_)\n",
        "print(grid_search.best_score_)"
      ],
      "execution_count": 12,
      "outputs": [
        {
          "output_type": "stream",
          "text": [
            "XGBClassifier(base_score=0.5, booster='gbtree', colsample_bylevel=1,\n",
            "              colsample_bynode=1, colsample_bytree=0.9, gamma=0,\n",
            "              learning_rate=0.1, max_delta_step=0, max_depth=8,\n",
            "              min_child_weight=0, missing=None, n_estimators=900, n_jobs=1,\n",
            "              nthread=None, objective='binary:logistic', random_state=0,\n",
            "              reg_alpha=0, reg_lambda=1, scale_pos_weight=1, seed=None,\n",
            "              silent=None, subsample=0.6, verbosity=1)\n",
            "{'colsample_bytree': 0.9, 'subsample': 0.6}\n",
            "0.9462516469038208\n"
          ],
          "name": "stdout"
        }
      ]
    },
    {
      "cell_type": "markdown",
      "metadata": {
        "id": "eQaksRMjv5ay",
        "colab_type": "text"
      },
      "source": [
        "Refining the range of these possible parametervalues:"
      ]
    },
    {
      "cell_type": "code",
      "metadata": {
        "id": "wSTMrmEmv9bs",
        "colab_type": "code",
        "colab": {
          "base_uri": "https://localhost:8080/",
          "height": 54
        },
        "outputId": "07861785-f87c-42ca-9f08-868d6e4f563a"
      },
      "source": [
        "subsamples = [i/100.0 for i in range(60,70,5)]\n",
        "colsamples = [i/100.0 for i in range(80,95,5)]\n",
        "\n",
        "model = XGBClassifier(n_estimators=900 ,gamma=0 ,max_depth=8, \n",
        "                      min_child_weight=0, learning_rate=0.1)\n",
        "params = dict(subsample= subsamples, colsample_bytree=colsamples)\n",
        "grid_search = GridSearchCV(model, param_grid=params, scoring='roc_auc')\n",
        "grid_search.fit(features, trainset.label)\n",
        "\n",
        "print(grid_search.best_params_)\n",
        "print(grid_search.best_score_)"
      ],
      "execution_count": 13,
      "outputs": [
        {
          "output_type": "stream",
          "text": [
            "{'colsample_bytree': 0.9, 'subsample': 0.65}\n",
            "0.9410885598587863\n"
          ],
          "name": "stdout"
        }
      ]
    },
    {
      "cell_type": "markdown",
      "metadata": {
        "id": "_7fvbNfswBx3",
        "colab_type": "text"
      },
      "source": [
        "I keep subsample= 0.6 because that gave me a better score..\n",
        "I can try to refine reg_alpha, who knows.."
      ]
    },
    {
      "cell_type": "code",
      "metadata": {
        "id": "tfIWGNNgwFcP",
        "colab_type": "code",
        "colab": {
          "base_uri": "https://localhost:8080/",
          "height": 182
        },
        "outputId": "31e8b06d-9a67-4251-fa50-b25bf4ae966f"
      },
      "source": [
        "alphas = [1e-5, 1e-2, 0.1, 1, 100]\n",
        "\n",
        "model = XGBClassifier(n_estimators=900 ,gamma=0 ,max_depth=8, \n",
        "                      min_child_weight=0, learning_rate=0.1, \n",
        "                      colsample_bytree=0.9, subsample=0.6)\n",
        "params = dict(reg_alpha=alphas)\n",
        "grid_search = GridSearchCV(model, param_grid=params, scoring='roc_auc', cv=20)\n",
        "grid_search.fit(features, trainset.label)\n",
        "\n",
        "print(grid_search.best_estimator_)\n",
        "print(grid_search.best_params_)\n",
        "print(grid_search.best_score_)"
      ],
      "execution_count": 14,
      "outputs": [
        {
          "output_type": "stream",
          "text": [
            "XGBClassifier(base_score=0.5, booster='gbtree', colsample_bylevel=1,\n",
            "              colsample_bynode=1, colsample_bytree=0.9, gamma=0,\n",
            "              learning_rate=0.1, max_delta_step=0, max_depth=8,\n",
            "              min_child_weight=0, missing=None, n_estimators=900, n_jobs=1,\n",
            "              nthread=None, objective='binary:logistic', random_state=0,\n",
            "              reg_alpha=1e-05, reg_lambda=1, scale_pos_weight=1, seed=None,\n",
            "              silent=None, subsample=0.6, verbosity=1)\n",
            "{'reg_alpha': 1e-05}\n",
            "0.9462517932952714\n"
          ],
          "name": "stdout"
        }
      ]
    },
    {
      "cell_type": "markdown",
      "metadata": {
        "id": "DajWbkYpwNzI",
        "colab_type": "text"
      },
      "source": [
        "Now this seems to be my slightly better model..."
      ]
    },
    {
      "cell_type": "code",
      "metadata": {
        "id": "dp9EW33sOOs2",
        "colab_type": "code",
        "colab": {
          "base_uri": "https://localhost:8080/",
          "height": 35
        },
        "outputId": "fae4d6d0-99d6-460a-f2c8-f92012c9c4f9"
      },
      "source": [
        "model = XGBClassifier(n_estimators=900, gamma=0, max_depth=8, min_child_weight=0, \n",
        "                      learning_rate=0.1, colsample_bytree=0.9, subsample=0.6,\n",
        "                      reg_alpha=1e-5)\n",
        "score = cross_val_score(model, features, trainset.label,scoring='roc_auc', cv= 10).mean()\n",
        "print('AUC score for trainset: '+ str(score))"
      ],
      "execution_count": 16,
      "outputs": [
        {
          "output_type": "stream",
          "text": [
            "AUC score for trainset: 0.9468535541930038\n"
          ],
          "name": "stdout"
        }
      ]
    },
    {
      "cell_type": "code",
      "metadata": {
        "id": "VakFa0UFORji",
        "colab_type": "code",
        "colab": {}
      },
      "source": [
        ""
      ],
      "execution_count": 0,
      "outputs": []
    }
  ]
}