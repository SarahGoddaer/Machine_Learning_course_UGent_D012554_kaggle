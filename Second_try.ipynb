{
  "nbformat": 4,
  "nbformat_minor": 0,
  "metadata": {
    "colab": {
      "name": "Second try.ipynb",
      "provenance": [],
      "authorship_tag": "ABX9TyOfIRteC3bQRqbhBVHTeScx",
      "include_colab_link": true
    },
    "kernelspec": {
      "name": "python3",
      "display_name": "Python 3"
    }
  },
  "cells": [
    {
      "cell_type": "markdown",
      "metadata": {
        "id": "view-in-github",
        "colab_type": "text"
      },
      "source": [
        "<a href=\"https://colab.research.google.com/github/SarahGoddaer/Machine_Learning_course_UGent_D012554_kaggle/blob/master/Second_try.ipynb\" target=\"_parent\"><img src=\"https://colab.research.google.com/assets/colab-badge.svg\" alt=\"Open In Colab\"/></a>"
      ]
    },
    {
      "cell_type": "markdown",
      "metadata": {
        "id": "CeM7Oanbfzfa",
        "colab_type": "text"
      },
      "source": [
        "### Second try\n"
      ]
    },
    {
      "cell_type": "code",
      "metadata": {
        "id": "mbnHLFVCf6jn",
        "colab_type": "code",
        "outputId": "df13bcaa-a8bc-495d-ef9b-ee2ea67a4c58",
        "colab": {
          "base_uri": "https://localhost:8080/",
          "height": 54
        }
      },
      "source": [
        "%matplotlib inline\n",
        "import pandas as pd\n",
        "import matplotlib.pyplot as plt\n",
        "import seaborn as sns\n",
        "from sklearn.linear_model import LogisticRegression\n",
        "from sklearn.model_selection import cross_val_score\n",
        "from sklearn.model_selection import cross_val_predict\n",
        "import numpy as np\n",
        "from sklearn import metrics"
      ],
      "execution_count": 0,
      "outputs": [
        {
          "output_type": "stream",
          "text": [
            "/usr/local/lib/python3.6/dist-packages/statsmodels/tools/_testing.py:19: FutureWarning: pandas.util.testing is deprecated. Use the functions in the public API at pandas.testing instead.\n",
            "  import pandas.util.testing as tm\n"
          ],
          "name": "stderr"
        }
      ]
    },
    {
      "cell_type": "markdown",
      "metadata": {
        "id": "iP8ZLDtYf-z2",
        "colab_type": "text"
      },
      "source": [
        "Loading data"
      ]
    },
    {
      "cell_type": "code",
      "metadata": {
        "id": "gUegGlw8gBh6",
        "colab_type": "code",
        "outputId": "e94fbc3b-f90e-4fc0-f832-8a8eb15521f3",
        "colab": {
          "base_uri": "https://localhost:8080/",
          "height": 403
        }
      },
      "source": [
        "trainset = pd.read_csv(\"https://raw.githubusercontent.com/sdgroeve/Machine_Learning_course_UGent_D012554_kaggle/master/eeg_train.csv\")\n",
        "testset = pd.read_csv(\"https://raw.githubusercontent.com/sdgroeve/Machine_Learning_course_UGent_D012554_kaggle/master/eeg_test.csv\")\n",
        "\n",
        "print(trainset.head())\n",
        "print(trainset.shape)\n",
        "print(testset.head())\n",
        "print(testset.shape)\n",
        "print(trainset.label.value_counts())"
      ],
      "execution_count": 0,
      "outputs": [
        {
          "output_type": "stream",
          "text": [
            "       AF3       F7       F3      FC5  ...       F4       F8      AF4  label\n",
            "0  4299.49  3997.44  4277.95  4116.92  ...  4278.97  4600.00  4369.23      1\n",
            "1  4302.05  3985.64  4261.03  4129.74  ...  4283.08  4607.18  4358.46      0\n",
            "2  4321.03  4015.90  4265.13  4122.56  ...  4286.15  4608.21  4371.79      0\n",
            "3  4408.21  4104.10  4380.00  4232.31  ...  4388.21  4715.90  4464.10      0\n",
            "4  4347.18  3975.38  4266.67  4102.56  ...  4313.33  4664.10  4411.79      1\n",
            "\n",
            "[5 rows x 15 columns]\n",
            "(2000, 15)\n",
            "       AF3       F7       F3      FC5  ...       F4       F8      AF4  index\n",
            "0  4296.41  4040.51  4253.33  4124.10  ...  4268.72  4598.46  4342.56      0\n",
            "1  4291.28  3994.36  4247.18  4102.56  ...  4260.51  4593.33  4337.95      1\n",
            "2  4299.49  4019.49  4269.74  4116.41  ...  4280.51  4596.92  4350.26      2\n",
            "3  4280.00  4004.62  4263.59  4120.51  ...  4271.79  4608.72  4344.10      3\n",
            "4  4317.44  3968.72  4260.51  4101.54  ...  4282.05  4592.31  4372.82      4\n",
            "\n",
            "[5 rows x 15 columns]\n",
            "(12892, 15)\n",
            "0    1099\n",
            "1     901\n",
            "Name: label, dtype: int64\n"
          ],
          "name": "stdout"
        }
      ]
    },
    {
      "cell_type": "markdown",
      "metadata": {
        "id": "tKKFxPR0gHvj",
        "colab_type": "text"
      },
      "source": [
        "**Pre-processing: scaling data**: If a feature has a variance that is orders of magnitude larger than others, it might dominate the objective function and make the estimator unable to learn from other features correctly as expected."
      ]
    },
    {
      "cell_type": "code",
      "metadata": {
        "id": "fazHw2aFgPvC",
        "colab_type": "code",
        "outputId": "5a4f8153-3a67-4f85-f334-3d5a6d883514",
        "colab": {
          "base_uri": "https://localhost:8080/",
          "height": 283
        }
      },
      "source": [
        "#defining features of train and testset\n",
        "features = trainset.copy()\n",
        "features.pop('label')\n",
        "feature_names = list(features.columns)\n",
        "\n",
        "test_features = testset.copy()\n",
        "test_features.pop('index')\n",
        "test_feature_names = list(test_features.columns)\n",
        "#visualizing features' ranges\n",
        "features.boxplot()"
      ],
      "execution_count": 0,
      "outputs": [
        {
          "output_type": "execute_result",
          "data": {
            "text/plain": [
              "<matplotlib.axes._subplots.AxesSubplot at 0x7f2cbed9ae80>"
            ]
          },
          "metadata": {
            "tags": []
          },
          "execution_count": 3
        },
        {
          "output_type": "display_data",
          "data": {
            "image/png": "[encoded data removed]",
            "text/plain": [
              "<Figure size 432x288 with 1 Axes>"
            ]
          },
          "metadata": {
            "tags": [],
            "needs_background": "light"
          }
        }
      ]
    },
    {
      "cell_type": "code",
      "metadata": {
        "id": "jhfT4lAAiXTh",
        "colab_type": "code",
        "outputId": "919e7cda-939d-4ecd-cebc-932cb62ee461",
        "colab": {
          "base_uri": "https://localhost:8080/",
          "height": 283
        }
      },
      "source": [
        "#Scaling trainfeatures and testfeatures\n",
        "from sklearn import preprocessing\n",
        "from sklearn.preprocessing import MinMaxScaler\n",
        "\n",
        "scaler = preprocessing.MinMaxScaler()\n",
        "features = scaler.fit_transform(features)\n",
        "test_features = scaler.transform(test_features)\n",
        "\n",
        "#visualizing the trainfeatures' ranges\n",
        "features = pd.DataFrame(features, columns=feature_names)\n",
        "test_features = pd.DataFrame(test_features, columns=test_feature_names)\n",
        "features.boxplot()"
      ],
      "execution_count": 0,
      "outputs": [
        {
          "output_type": "execute_result",
          "data": {
            "text/plain": [
              "<matplotlib.axes._subplots.AxesSubplot at 0x7f2cbec13b38>"
            ]
          },
          "metadata": {
            "tags": []
          },
          "execution_count": 4
        },
        {
          "output_type": "display_data",
          "data": {
            "image/png": "[encoded data removed]",
            "text/plain": [
              "<Figure size 432x288 with 1 Axes>"
            ]
          },
          "metadata": {
            "tags": [],
            "needs_background": "light"
          }
        }
      ]
    },
    {
      "cell_type": "markdown",
      "metadata": {
        "id": "5gJ70g1KnEsP",
        "colab_type": "text"
      },
      "source": [
        "Okay, so I managed this. Now I have to choose a good model to fit the traindata and eventually to perform good on the test set too. I'll try once again with a **Logistic regression model** to have some actual predictions that don't only assign the testdata points to class 1."
      ]
    },
    {
      "cell_type": "code",
      "metadata": {
        "id": "kFuXCGxS21BL",
        "colab_type": "code",
        "outputId": "f87c91a1-0d3b-47f5-e457-c9282237f3c0",
        "colab": {
          "base_uri": "https://localhost:8080/",
          "height": 35
        }
      },
      "source": [
        "model = LogisticRegression(C=1)\n",
        "score_train = cross_val_score(model, features, trainset.label,scoring='roc_auc', cv= 10).mean()\n",
        "print('AUC score for trainset: '+ str(score_train))"
      ],
      "execution_count": 0,
      "outputs": [
        {
          "output_type": "stream",
          "text": [
            "AUC score for trainset: 0.635987937648488\n"
          ],
          "name": "stdout"
        }
      ]
    },
    {
      "cell_type": "markdown",
      "metadata": {
        "id": "BD-VjvMo6Mrz",
        "colab_type": "text"
      },
      "source": [
        "This AUC score 0.636 is not a very good score.\n",
        "\n",
        "I will now try to find a **better hyperparameter C** for this model via GridsearchCV."
      ]
    },
    {
      "cell_type": "code",
      "metadata": {
        "id": "hEQJNn-W75lV",
        "colab_type": "code",
        "outputId": "90f7c942-b5da-4ff3-c50a-e58cc5e8aa22",
        "colab": {
          "base_uri": "https://localhost:8080/",
          "height": 127
        }
      },
      "source": [
        "from sklearn.model_selection import GridSearchCV\n",
        "\n",
        "search_space = [0.001,0.01,0.1,1,10,100,1000]\n",
        "\n",
        "model = LogisticRegression(max_iter=200)\n",
        "params = dict(C=search_space)\n",
        "grid_search = GridSearchCV(model, param_grid=params)\n",
        "grid_search.fit(features, trainset.label)\n",
        "\n",
        "print(grid_search.best_estimator_)\n",
        "print(grid_search.best_params_)"
      ],
      "execution_count": 0,
      "outputs": [
        {
          "output_type": "stream",
          "text": [
            "LogisticRegression(C=100, class_weight=None, dual=False, fit_intercept=True,\n",
            "                   intercept_scaling=1, l1_ratio=None, max_iter=200,\n",
            "                   multi_class='auto', n_jobs=None, penalty='l2',\n",
            "                   random_state=None, solver='lbfgs', tol=0.0001, verbose=0,\n",
            "                   warm_start=False)\n",
            "{'C': 100}\n"
          ],
          "name": "stdout"
        }
      ]
    },
    {
      "cell_type": "markdown",
      "metadata": {
        "id": "jgAvf2wy8Wj3",
        "colab_type": "text"
      },
      "source": [
        "These results suggest a model with **C=100**, we can now evaluate it's CV performance again like we did before. "
      ]
    },
    {
      "cell_type": "code",
      "metadata": {
        "id": "RjnEXjjR_qfL",
        "colab_type": "code",
        "outputId": "c5f02f6c-affc-4aba-8cd1-9fe7e384982d",
        "colab": {
          "base_uri": "https://localhost:8080/",
          "height": 35
        }
      },
      "source": [
        "model = LogisticRegression(C=100)\n",
        "score_train = cross_val_score(model, features, trainset.label,scoring='roc_auc', cv= 10).mean()\n",
        "print('AUC score for trainset: '+ str(score_train))"
      ],
      "execution_count": 0,
      "outputs": [
        {
          "output_type": "stream",
          "text": [
            "AUC score for trainset: 0.6593887855264002\n"
          ],
          "name": "stdout"
        }
      ]
    },
    {
      "cell_type": "markdown",
      "metadata": {
        "id": "ZZlYfe8u_z8E",
        "colab_type": "text"
      },
      "source": [
        "I will now fit this better model to the trainset and look at the 14 different modelparameters. From this I can also calculate which feature seems to be more important to this model to deside which class a data point belongs to."
      ]
    },
    {
      "cell_type": "code",
      "metadata": {
        "id": "Nep7_ufLAtBG",
        "colab_type": "code",
        "outputId": "1ae637e4-eea9-4d4e-a755-09b4bffe2f8f",
        "colab": {
          "base_uri": "https://localhost:8080/",
          "height": 72
        }
      },
      "source": [
        "model.fit(features, trainset.label)\n",
        "print(model.coef_[0])"
      ],
      "execution_count": 0,
      "outputs": [
        {
          "output_type": "stream",
          "text": [
            "[ 1.01586635 -2.74600401  0.90652846 -1.29590215  1.25377027 -3.22127796\n",
            "  0.31376558  0.04047931  0.26033324  0.45670613 -0.58042109  1.14616503\n",
            "  0.60648588  1.54660533]\n"
          ],
          "name": "stdout"
        }
      ]
    },
    {
      "cell_type": "code",
      "metadata": {
        "id": "eZvdRkZsBX-0",
        "colab_type": "code",
        "outputId": "8700bf07-0039-4754-f9a5-a6d6c0898fca",
        "colab": {
          "base_uri": "https://localhost:8080/",
          "height": 206
        }
      },
      "source": [
        "importances_coef = []\n",
        "for feature_name, modelparameter in zip(features.columns,model.coef_[0]):\n",
        "    importances_coef.append([feature_name,modelparameter])\n",
        "importances_coef = pd.DataFrame(importances_coef,columns=[\"feature_name\",\"importance\"])\n",
        "importances_coef.sort_values(by='importance',ignore_index=True).head()  "
      ],
      "execution_count": 0,
      "outputs": [
        {
          "output_type": "execute_result",
          "data": {
            "text/html": [
              "<div>\n",
              "<style scoped>\n",
              "    .dataframe tbody tr th:only-of-type {\n",
              "        vertical-align: middle;\n",
              "    }\n",
              "\n",
              "    .dataframe tbody tr th {\n",
              "        vertical-align: top;\n",
              "    }\n",
              "\n",
              "    .dataframe thead th {\n",
              "        text-align: right;\n",
              "    }\n",
              "</style>\n",
              "<table border=\"1\" class=\"dataframe\">\n",
              "  <thead>\n",
              "    <tr style=\"text-align: right;\">\n",
              "      <th></th>\n",
              "      <th>feature_name</th>\n",
              "      <th>importance</th>\n",
              "    </tr>\n",
              "  </thead>\n",
              "  <tbody>\n",
              "    <tr>\n",
              "      <th>0</th>\n",
              "      <td>P7</td>\n",
              "      <td>-3.221278</td>\n",
              "    </tr>\n",
              "    <tr>\n",
              "      <th>1</th>\n",
              "      <td>F7</td>\n",
              "      <td>-2.746004</td>\n",
              "    </tr>\n",
              "    <tr>\n",
              "      <th>2</th>\n",
              "      <td>FC5</td>\n",
              "      <td>-1.295902</td>\n",
              "    </tr>\n",
              "    <tr>\n",
              "      <th>3</th>\n",
              "      <td>FC6</td>\n",
              "      <td>-0.580421</td>\n",
              "    </tr>\n",
              "    <tr>\n",
              "      <th>4</th>\n",
              "      <td>02</td>\n",
              "      <td>0.040479</td>\n",
              "    </tr>\n",
              "  </tbody>\n",
              "</table>\n",
              "</div>"
            ],
            "text/plain": [
              "  feature_name  importance\n",
              "0           P7   -3.221278\n",
              "1           F7   -2.746004\n",
              "2          FC5   -1.295902\n",
              "3          FC6   -0.580421\n",
              "4           02    0.040479"
            ]
          },
          "metadata": {
            "tags": []
          },
          "execution_count": 14
        }
      ]
    },
    {
      "cell_type": "markdown",
      "metadata": {
        "id": "SWi7edGmCMpw",
        "colab_type": "text"
      },
      "source": [
        "I can visualize these importances with a **barplot**:"
      ]
    },
    {
      "cell_type": "code",
      "metadata": {
        "id": "feJ-2uEsFaWv",
        "colab_type": "code",
        "outputId": "0d3c0eee-fe49-4f17-831c-b68c20a8b068",
        "colab": {
          "base_uri": "https://localhost:8080/",
          "height": 507
        }
      },
      "source": [
        "%matplotlib inline\n",
        "import matplotlib.pyplot as plt\n",
        "import seaborn as sns\n",
        "\n",
        "plt.figure(figsize=(18,8))\n",
        "\n",
        "importances = sns.barplot(x=importances_coef.feature_name, y=importances_coef.importance)\n",
        "\n",
        "importances.set_xticklabels(importances.get_xticklabels(), rotation=90, horizontalalignment='right')\n",
        "plt.show()"
      ],
      "execution_count": 0,
      "outputs": [
        {
          "output_type": "display_data",
          "data": {
            "image/png": "[encoded data removed]",
            "text/plain": [
              "<Figure size 1296x576 with 1 Axes>"
            ]
          },
          "metadata": {
            "tags": [],
            "needs_background": "light"
          }
        }
      ]
    },
    {
      "cell_type": "markdown",
      "metadata": {
        "id": "Dhs-nc9WFr7w",
        "colab_type": "text"
      },
      "source": [
        "From this dataframe and barplot you can see that there are several features that are more important then others,\n",
        "e.g. P7 seems to be an important feature for the class 0 (eyes open) and\n",
        "T7 seems to be an important feature indicating a datapoint belongs to class 1 (closed eyes)."
      ]
    },
    {
      "cell_type": "markdown",
      "metadata": {
        "id": "ZI8jGn78Ic5P",
        "colab_type": "text"
      },
      "source": [
        "Now back to the actual modelling, I can perform predictions on the testset with the **Logistic regression model with C=100** "
      ]
    },
    {
      "cell_type": "code",
      "metadata": {
        "id": "GOjZjQEIIeDO",
        "colab_type": "code",
        "colab": {}
      },
      "source": [
        "predictions = model.predict_proba(test_features)[:,1]\n"
      ],
      "execution_count": 0,
      "outputs": []
    },
    {
      "cell_type": "code",
      "metadata": {
        "id": "dRPeCak5Ijl1",
        "colab_type": "code",
        "outputId": "3c38248b-ec1b-4f63-b39d-567c1e327402",
        "colab": {
          "base_uri": "https://localhost:8080/",
          "height": 206
        }
      },
      "source": [
        "sample_submission = pd.DataFrame({'index': testset['index'], 'label': predictions})\n",
        "sample_submission.head()"
      ],
      "execution_count": 0,
      "outputs": [
        {
          "output_type": "execute_result",
          "data": {
            "text/html": [
              "<div>\n",
              "<style scoped>\n",
              "    .dataframe tbody tr th:only-of-type {\n",
              "        vertical-align: middle;\n",
              "    }\n",
              "\n",
              "    .dataframe tbody tr th {\n",
              "        vertical-align: top;\n",
              "    }\n",
              "\n",
              "    .dataframe thead th {\n",
              "        text-align: right;\n",
              "    }\n",
              "</style>\n",
              "<table border=\"1\" class=\"dataframe\">\n",
              "  <thead>\n",
              "    <tr style=\"text-align: right;\">\n",
              "      <th></th>\n",
              "      <th>index</th>\n",
              "      <th>label</th>\n",
              "    </tr>\n",
              "  </thead>\n",
              "  <tbody>\n",
              "    <tr>\n",
              "      <th>0</th>\n",
              "      <td>0</td>\n",
              "      <td>0.302241</td>\n",
              "    </tr>\n",
              "    <tr>\n",
              "      <th>1</th>\n",
              "      <td>1</td>\n",
              "      <td>0.421651</td>\n",
              "    </tr>\n",
              "    <tr>\n",
              "      <th>2</th>\n",
              "      <td>2</td>\n",
              "      <td>0.370512</td>\n",
              "    </tr>\n",
              "    <tr>\n",
              "      <th>3</th>\n",
              "      <td>3</td>\n",
              "      <td>0.420159</td>\n",
              "    </tr>\n",
              "    <tr>\n",
              "      <th>4</th>\n",
              "      <td>4</td>\n",
              "      <td>0.696835</td>\n",
              "    </tr>\n",
              "  </tbody>\n",
              "</table>\n",
              "</div>"
            ],
            "text/plain": [
              "   index     label\n",
              "0      0  0.302241\n",
              "1      1  0.421651\n",
              "2      2  0.370512\n",
              "3      3  0.420159\n",
              "4      4  0.696835"
            ]
          },
          "metadata": {
            "tags": []
          },
          "execution_count": 20
        }
      ]
    },
    {
      "cell_type": "code",
      "metadata": {
        "id": "bnrIxpw_JDPW",
        "colab_type": "code",
        "colab": {}
      },
      "source": [
        "filename = \"my_prediction_results2.csv\"\n",
        "sample_submission.to_csv(filename,index=False)"
      ],
      "execution_count": 0,
      "outputs": []
    },
    {
      "cell_type": "markdown",
      "metadata": {
        "id": "GK3lHd9TJMh0",
        "colab_type": "text"
      },
      "source": [
        "Next I can also look if different pre-processing methods are more suitable for this dataset:"
      ]
    },
    {
      "cell_type": "code",
      "metadata": {
        "id": "GDTmKvOTJXuq",
        "colab_type": "code",
        "outputId": "2ac2db87-bcf1-484a-a10d-db03f5857127",
        "colab": {
          "base_uri": "https://localhost:8080/",
          "height": 283
        }
      },
      "source": [
        "trainset = pd.read_csv(\"https://raw.githubusercontent.com/sdgroeve/Machine_Learning_course_UGent_D012554_kaggle/master/eeg_train.csv\")\n",
        "testset = pd.read_csv(\"https://raw.githubusercontent.com/sdgroeve/Machine_Learning_course_UGent_D012554_kaggle/master/eeg_test.csv\")\n",
        "\n",
        "features = trainset.copy()\n",
        "features.pop('label')\n",
        "feature_names = list(features.columns)\n",
        "\n",
        "test_features = testset.copy()\n",
        "test_features.pop('index')\n",
        "test_feature_names = list(test_features.columns)\n",
        "#visualizing features' ranges\n",
        "features.boxplot()"
      ],
      "execution_count": 0,
      "outputs": [
        {
          "output_type": "execute_result",
          "data": {
            "text/plain": [
              "<matplotlib.axes._subplots.AxesSubplot at 0x7f2cbb6d66d8>"
            ]
          },
          "metadata": {
            "tags": []
          },
          "execution_count": 22
        },
        {
          "output_type": "display_data",
          "data": {
            "image/png": "[encoded data removed]",
            "text/plain": [
              "<Figure size 432x288 with 1 Axes>"
            ]
          },
          "metadata": {
            "tags": [],
            "needs_background": "light"
          }
        }
      ]
    },
    {
      "cell_type": "code",
      "metadata": {
        "id": "jv7ttqCAJhYr",
        "colab_type": "code",
        "outputId": "8608f879-0dcf-4488-e58c-7006f03dd246",
        "colab": {
          "base_uri": "https://localhost:8080/",
          "height": 286
        }
      },
      "source": [
        "from sklearn import preprocessing\n",
        "from sklearn.preprocessing import StandardScaler\n",
        "\n",
        "scaler = preprocessing.StandardScaler()\n",
        "features = scaler.fit_transform(features)\n",
        "test_features = scaler.transform(test_features)\n",
        "\n",
        "#visualizing the trainfeatures' ranges\n",
        "features = pd.DataFrame(features, columns=feature_names)\n",
        "test_features = pd.DataFrame(test_features, columns=test_feature_names)\n",
        "features.boxplot()"
      ],
      "execution_count": 0,
      "outputs": [
        {
          "output_type": "execute_result",
          "data": {
            "text/plain": [
              "<matplotlib.axes._subplots.AxesSubplot at 0x7f2cbb5a09b0>"
            ]
          },
          "metadata": {
            "tags": []
          },
          "execution_count": 23
        },
        {
          "output_type": "display_data",
          "data": {
            "image/png": "[encoded data removed]",
            "text/plain": [
              "<Figure size 432x288 with 1 Axes>"
            ]
          },
          "metadata": {
            "tags": [],
            "needs_background": "light"
          }
        }
      ]
    },
    {
      "cell_type": "code",
      "metadata": {
        "id": "nMg5tlK-Jp9K",
        "colab_type": "code",
        "outputId": "f7fec2c4-4bad-429e-f6e5-b0631d1e1f54",
        "colab": {
          "base_uri": "https://localhost:8080/",
          "height": 109
        }
      },
      "source": [
        "model = LogisticRegression(C=100)\n",
        "model.fit(features, trainset.label)"
      ],
      "execution_count": 0,
      "outputs": [
        {
          "output_type": "execute_result",
          "data": {
            "text/plain": [
              "LogisticRegression(C=100, class_weight=None, dual=False, fit_intercept=True,\n",
              "                   intercept_scaling=1, l1_ratio=None, max_iter=100,\n",
              "                   multi_class='auto', n_jobs=None, penalty='l2',\n",
              "                   random_state=None, solver='lbfgs', tol=0.0001, verbose=0,\n",
              "                   warm_start=False)"
            ]
          },
          "metadata": {
            "tags": []
          },
          "execution_count": 24
        }
      ]
    },
    {
      "cell_type": "code",
      "metadata": {
        "id": "y7B9SZZVKNsD",
        "colab_type": "code",
        "outputId": "895701e5-1641-489e-b103-fc35cdf7e29c",
        "colab": {
          "base_uri": "https://localhost:8080/",
          "height": 35
        }
      },
      "source": [
        "score_train = cross_val_score(model, features, trainset.label,scoring='roc_auc', cv= 10).mean()\n",
        "print('AUC score for trainset: '+ str(score_train))"
      ],
      "execution_count": 0,
      "outputs": [
        {
          "output_type": "stream",
          "text": [
            "AUC score for trainset: 0.6596007906466621\n"
          ],
          "name": "stdout"
        }
      ]
    },
    {
      "cell_type": "markdown",
      "metadata": {
        "id": "Uir9o66bKaoI",
        "colab_type": "text"
      },
      "source": [
        "This score is just a little bit better, but not much. Maybe this was a better choice to doe predictions with and upload."
      ]
    }
  ]
}