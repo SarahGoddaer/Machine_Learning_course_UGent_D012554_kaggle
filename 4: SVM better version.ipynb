{
  "nbformat": 4,
  "nbformat_minor": 0,
  "metadata": {
    "colab": {
      "name": "Third try.ipynb",
      "provenance": [],
      "authorship_tag": "ABX9TyPv6zgsoG4yCt50PD+xL8h1",
      "include_colab_link": true
    },
    "kernelspec": {
      "name": "python3",
      "display_name": "Python 3"
    }
  },
  "cells": [
    {
      "cell_type": "markdown",
      "metadata": {
        "id": "view-in-github",
        "colab_type": "text"
      },
      "source": [
        "<a href=\"https://colab.research.google.com/github/SarahGoddaer/Machine_Learning_course_UGent_D012554_kaggle/blob/master/4%3A%20SVM%20better%20version.ipynb\" target=\"_parent\"><img src=\"https://colab.research.google.com/assets/colab-badge.svg\" alt=\"Open In Colab\"/></a>"
      ]
    },
    {
      "cell_type": "markdown",
      "metadata": {
        "id": "VO42b698Li6l",
        "colab_type": "text"
      },
      "source": [
        "#Fourth try: Support vector machines 2.0\n",
        "\n",
        "The fourth time I sent my predictions in, it was actually the same model as in de third try, but just with other hyperparameters, so that is what you will find here."
      ]
    },
    {
      "cell_type": "code",
      "metadata": {
        "id": "1mubZ8cOMPmy",
        "colab_type": "code",
        "colab": {}
      },
      "source": [
        "%matplotlib inline\n",
        "import pandas as pd\n",
        "import matplotlib.pyplot as plt\n",
        "import seaborn as sns\n",
        "from sklearn.model_selection import cross_val_score\n",
        "import numpy as np\n",
        "from sklearn import metrics"
      ],
      "execution_count": 0,
      "outputs": []
    },
    {
      "cell_type": "markdown",
      "metadata": {
        "id": "YRNem3gWMR9Q",
        "colab_type": "text"
      },
      "source": [
        "**Loading data**"
      ]
    },
    {
      "cell_type": "code",
      "metadata": {
        "id": "NUTdOXDgL98R",
        "colab_type": "code",
        "outputId": "13b5a754-1644-4f2d-c710-b45b8a9dd4c4",
        "colab": {
          "base_uri": "https://localhost:8080/",
          "height": 300
        }
      },
      "source": [
        "trainset = pd.read_csv(\"https://raw.githubusercontent.com/sdgroeve/Machine_Learning_course_UGent_D012554_kaggle/master/eeg_train.csv\")\n",
        "testset = pd.read_csv(\"https://raw.githubusercontent.com/sdgroeve/Machine_Learning_course_UGent_D012554_kaggle/master/eeg_test.csv\")\n",
        "\n",
        "features = trainset.copy()\n",
        "features.pop('label')\n",
        "feature_names = list(features.columns)\n",
        "\n",
        "test_features = testset.copy()\n",
        "test_features.pop('index')\n",
        "test_feature_names = list(test_features.columns)\n",
        "features.describe()"
      ],
      "execution_count": 37,
      "outputs": [
        {
          "output_type": "execute_result",
          "data": {
            "text/html": [
              "<div>\n",
              "<style scoped>\n",
              "    .dataframe tbody tr th:only-of-type {\n",
              "        vertical-align: middle;\n",
              "    }\n",
              "\n",
              "    .dataframe tbody tr th {\n",
              "        vertical-align: top;\n",
              "    }\n",
              "\n",
              "    .dataframe thead th {\n",
              "        text-align: right;\n",
              "    }\n",
              "</style>\n",
              "<table border=\"1\" class=\"dataframe\">\n",
              "  <thead>\n",
              "    <tr style=\"text-align: right;\">\n",
              "      <th></th>\n",
              "      <th>AF3</th>\n",
              "      <th>F7</th>\n",
              "      <th>F3</th>\n",
              "      <th>FC5</th>\n",
              "      <th>T7</th>\n",
              "      <th>P7</th>\n",
              "      <th>O1</th>\n",
              "      <th>02</th>\n",
              "      <th>P8</th>\n",
              "      <th>T8</th>\n",
              "      <th>FC6</th>\n",
              "      <th>F4</th>\n",
              "      <th>F8</th>\n",
              "      <th>AF4</th>\n",
              "    </tr>\n",
              "  </thead>\n",
              "  <tbody>\n",
              "    <tr>\n",
              "      <th>count</th>\n",
              "      <td>2000.000000</td>\n",
              "      <td>2000.000000</td>\n",
              "      <td>2000.000000</td>\n",
              "      <td>2000.000000</td>\n",
              "      <td>2000.000000</td>\n",
              "      <td>2000.000000</td>\n",
              "      <td>2000.000000</td>\n",
              "      <td>2000.000000</td>\n",
              "      <td>2000.000000</td>\n",
              "      <td>2000.000000</td>\n",
              "      <td>2000.000000</td>\n",
              "      <td>2000.000000</td>\n",
              "      <td>2000.000000</td>\n",
              "      <td>2000.000000</td>\n",
              "    </tr>\n",
              "    <tr>\n",
              "      <th>mean</th>\n",
              "      <td>4300.157125</td>\n",
              "      <td>4009.273150</td>\n",
              "      <td>4263.860860</td>\n",
              "      <td>4122.616195</td>\n",
              "      <td>4341.606870</td>\n",
              "      <td>4620.061720</td>\n",
              "      <td>4072.151250</td>\n",
              "      <td>4615.229300</td>\n",
              "      <td>4200.893915</td>\n",
              "      <td>4230.573235</td>\n",
              "      <td>4201.583060</td>\n",
              "      <td>4278.445325</td>\n",
              "      <td>4605.169335</td>\n",
              "      <td>4359.852780</td>\n",
              "    </tr>\n",
              "    <tr>\n",
              "      <th>std</th>\n",
              "      <td>36.361719</td>\n",
              "      <td>29.853264</td>\n",
              "      <td>20.788323</td>\n",
              "      <td>20.565528</td>\n",
              "      <td>16.691038</td>\n",
              "      <td>18.034865</td>\n",
              "      <td>20.933632</td>\n",
              "      <td>18.391027</td>\n",
              "      <td>17.810272</td>\n",
              "      <td>19.661149</td>\n",
              "      <td>24.397269</td>\n",
              "      <td>19.645651</td>\n",
              "      <td>33.067591</td>\n",
              "      <td>37.074555</td>\n",
              "    </tr>\n",
              "    <tr>\n",
              "      <th>min</th>\n",
              "      <td>4197.950000</td>\n",
              "      <td>3905.640000</td>\n",
              "      <td>4202.560000</td>\n",
              "      <td>4058.460000</td>\n",
              "      <td>4310.260000</td>\n",
              "      <td>4569.740000</td>\n",
              "      <td>4032.820000</td>\n",
              "      <td>4571.280000</td>\n",
              "      <td>4147.690000</td>\n",
              "      <td>4158.970000</td>\n",
              "      <td>4107.180000</td>\n",
              "      <td>4216.410000</td>\n",
              "      <td>4454.360000</td>\n",
              "      <td>4225.640000</td>\n",
              "    </tr>\n",
              "    <tr>\n",
              "      <th>25%</th>\n",
              "      <td>4280.510000</td>\n",
              "      <td>3990.770000</td>\n",
              "      <td>4250.260000</td>\n",
              "      <td>4108.720000</td>\n",
              "      <td>4331.790000</td>\n",
              "      <td>4611.790000</td>\n",
              "      <td>4057.440000</td>\n",
              "      <td>4604.100000</td>\n",
              "      <td>4190.260000</td>\n",
              "      <td>4219.490000</td>\n",
              "      <td>4189.740000</td>\n",
              "      <td>4267.180000</td>\n",
              "      <td>4590.642500</td>\n",
              "      <td>4342.050000</td>\n",
              "    </tr>\n",
              "    <tr>\n",
              "      <th>50%</th>\n",
              "      <td>4293.330000</td>\n",
              "      <td>4006.150000</td>\n",
              "      <td>4262.560000</td>\n",
              "      <td>4121.030000</td>\n",
              "      <td>4338.460000</td>\n",
              "      <td>4617.950000</td>\n",
              "      <td>4069.740000</td>\n",
              "      <td>4612.820000</td>\n",
              "      <td>4199.490000</td>\n",
              "      <td>4228.720000</td>\n",
              "      <td>4200.000000</td>\n",
              "      <td>4276.410000</td>\n",
              "      <td>4603.080000</td>\n",
              "      <td>4354.360000</td>\n",
              "    </tr>\n",
              "    <tr>\n",
              "      <th>75%</th>\n",
              "      <td>4309.740000</td>\n",
              "      <td>4023.590000</td>\n",
              "      <td>4270.260000</td>\n",
              "      <td>4133.460000</td>\n",
              "      <td>4347.180000</td>\n",
              "      <td>4626.150000</td>\n",
              "      <td>4083.590000</td>\n",
              "      <td>4623.080000</td>\n",
              "      <td>4209.230000</td>\n",
              "      <td>4238.970000</td>\n",
              "      <td>4211.280000</td>\n",
              "      <td>4286.150000</td>\n",
              "      <td>4617.950000</td>\n",
              "      <td>4371.790000</td>\n",
              "    </tr>\n",
              "    <tr>\n",
              "      <th>max</th>\n",
              "      <td>4497.440000</td>\n",
              "      <td>4152.820000</td>\n",
              "      <td>4385.640000</td>\n",
              "      <td>4234.360000</td>\n",
              "      <td>4452.820000</td>\n",
              "      <td>4754.870000</td>\n",
              "      <td>4174.870000</td>\n",
              "      <td>4731.280000</td>\n",
              "      <td>4315.380000</td>\n",
              "      <td>4352.310000</td>\n",
              "      <td>4325.640000</td>\n",
              "      <td>4397.950000</td>\n",
              "      <td>4796.920000</td>\n",
              "      <td>4538.970000</td>\n",
              "    </tr>\n",
              "  </tbody>\n",
              "</table>\n",
              "</div>"
            ],
            "text/plain": [
              "               AF3           F7  ...           F8          AF4\n",
              "count  2000.000000  2000.000000  ...  2000.000000  2000.000000\n",
              "mean   4300.157125  4009.273150  ...  4605.169335  4359.852780\n",
              "std      36.361719    29.853264  ...    33.067591    37.074555\n",
              "min    4197.950000  3905.640000  ...  4454.360000  4225.640000\n",
              "25%    4280.510000  3990.770000  ...  4590.642500  4342.050000\n",
              "50%    4293.330000  4006.150000  ...  4603.080000  4354.360000\n",
              "75%    4309.740000  4023.590000  ...  4617.950000  4371.790000\n",
              "max    4497.440000  4152.820000  ...  4796.920000  4538.970000\n",
              "\n",
              "[8 rows x 14 columns]"
            ]
          },
          "metadata": {
            "tags": []
          },
          "execution_count": 37
        }
      ]
    },
    {
      "cell_type": "markdown",
      "metadata": {
        "id": "mA8S-BxXNUzI",
        "colab_type": "text"
      },
      "source": [
        "**Pre-processing: StandardScaler** Because on the web this was more adviced to use with support vector machines."
      ]
    },
    {
      "cell_type": "code",
      "metadata": {
        "id": "l02JYG30MEqn",
        "colab_type": "code",
        "outputId": "89bb7950-10e5-462d-8985-6ead571e8f70",
        "colab": {
          "base_uri": "https://localhost:8080/",
          "height": 286
        }
      },
      "source": [
        "from sklearn import preprocessing\n",
        "from sklearn.preprocessing import StandardScaler\n",
        "\n",
        "scaler = preprocessing.StandardScaler()\n",
        "features = scaler.fit_transform(features)\n",
        "test_features = scaler.transform(test_features)\n",
        "\n",
        "features = pd.DataFrame(features, columns=feature_names)\n",
        "test_features = pd.DataFrame(test_features, columns=test_feature_names)\n",
        "features.boxplot()"
      ],
      "execution_count": 38,
      "outputs": [
        {
          "output_type": "execute_result",
          "data": {
            "text/plain": [
              "<matplotlib.axes._subplots.AxesSubplot at 0x7fbbb3d2bf28>"
            ]
          },
          "metadata": {
            "tags": []
          },
          "execution_count": 38
        },
        {
          "output_type": "display_data",
          "data": {
            "image/png": "[encoded data removed]",
            "text/plain": [
              "<Figure size 432x288 with 1 Axes>"
            ]
          },
          "metadata": {
            "tags": [],
            "needs_background": "light"
          }
        }
      ]
    },
    {
      "cell_type": "markdown",
      "metadata": {
        "id": "ddRhbbS3NcKP",
        "colab_type": "text"
      },
      "source": [
        "##**Support vector machines** algorithm. This also distinguishes two classes."
      ]
    },
    {
      "cell_type": "code",
      "metadata": {
        "id": "BcLjbpzYNPlA",
        "colab_type": "code",
        "colab": {}
      },
      "source": [
        "from sklearn.svm import SVC\n",
        "model = SVC()"
      ],
      "execution_count": 0,
      "outputs": []
    },
    {
      "cell_type": "code",
      "metadata": {
        "id": "fmoS0L8PRc3C",
        "colab_type": "code",
        "outputId": "487fb5ec-f5d8-489b-e2a1-fdee66dba85b",
        "colab": {
          "base_uri": "https://localhost:8080/",
          "height": 35
        }
      },
      "source": [
        "score_train = cross_val_score(model, features, trainset.label,scoring='roc_auc', cv= 10).mean()\n",
        "print('AUC score for trainset: '+ str(score_train))"
      ],
      "execution_count": 40,
      "outputs": [
        {
          "output_type": "stream",
          "text": [
            "AUC score for trainset: 0.8942757252940738\n"
          ],
          "name": "stdout"
        }
      ]
    },
    {
      "cell_type": "markdown",
      "metadata": {
        "id": "6aIu_4VuRrL_",
        "colab_type": "text"
      },
      "source": [
        "Waaw you can already see that this score is much better then the score obtained with Logistic regression, which was around 66%.\n",
        "\n",
        "Maybe we could optimize this model a bit more, so I'm now going to search better hyperparameters inherent to this model: **Parameter tuning** Because I think this is the next logical step, right?"
      ]
    },
    {
      "cell_type": "code",
      "metadata": {
        "id": "huo8_81PR7CX",
        "colab_type": "code",
        "outputId": "6e207da8-e148-4b25-8ab9-b86622635fae",
        "colab": {
          "base_uri": "https://localhost:8080/",
          "height": 90
        }
      },
      "source": [
        "#How do the parameters look like in this model?\n",
        "model.get_params"
      ],
      "execution_count": 6,
      "outputs": [
        {
          "output_type": "execute_result",
          "data": {
            "text/plain": [
              "<bound method BaseEstimator.get_params of SVC(C=1.0, break_ties=False, cache_size=200, class_weight=None, coef0=0.0,\n",
              "    decision_function_shape='ovr', degree=3, gamma='scale', kernel='rbf',\n",
              "    max_iter=-1, probability=False, random_state=None, shrinking=True,\n",
              "    tol=0.001, verbose=False)>"
            ]
          },
          "metadata": {
            "tags": []
          },
          "execution_count": 6
        }
      ]
    },
    {
      "cell_type": "code",
      "metadata": {
        "id": "Z64O4W8xShSu",
        "colab_type": "code",
        "outputId": "4a9ddcc3-6b19-42e2-894e-b280230f6a7b",
        "colab": {
          "base_uri": "https://localhost:8080/",
          "height": 109
        }
      },
      "source": [
        "from sklearn.model_selection import GridSearchCV\n",
        "\n",
        "Cs = [1,10, 20, 50, 80, 100]\n",
        "gammas = ['scale', 'auto',1, 0.01]\n",
        "\n",
        "model = SVC()\n",
        "params = dict(C=Cs, gamma=gammas)\n",
        "grid_search = GridSearchCV(model, param_grid=params)\n",
        "grid_search.fit(features, trainset.label)\n",
        "\n",
        "print(grid_search.best_estimator_)\n",
        "print(grid_search.best_params_)"
      ],
      "execution_count": 7,
      "outputs": [
        {
          "output_type": "stream",
          "text": [
            "SVC(C=10, break_ties=False, cache_size=200, class_weight=None, coef0=0.0,\n",
            "    decision_function_shape='ovr', degree=3, gamma=1, kernel='rbf', max_iter=-1,\n",
            "    probability=False, random_state=None, shrinking=True, tol=0.001,\n",
            "    verbose=False)\n",
            "{'C': 10, 'gamma': 1}\n"
          ],
          "name": "stdout"
        }
      ]
    },
    {
      "cell_type": "markdown",
      "metadata": {
        "id": "XnPfuf4YW7BZ",
        "colab_type": "text"
      },
      "source": [
        "Well ok, these results suggest to use C=10 and gamma = 1 as hyperparameters."
      ]
    },
    {
      "cell_type": "code",
      "metadata": {
        "id": "eu3_HBbC9bAy",
        "colab_type": "code",
        "outputId": "cb3fd950-198e-4565-c059-acb1b90e4d52",
        "colab": {
          "base_uri": "https://localhost:8080/",
          "height": 35
        }
      },
      "source": [
        "model=SVC(C=10,gamma=1, probability=True)\n",
        "score = cross_val_score(model, features, trainset.label,scoring='roc_auc', cv= 10).mean()\n",
        "print('AUC score for trainset: '+ str(score))"
      ],
      "execution_count": 63,
      "outputs": [
        {
          "output_type": "stream",
          "text": [
            "AUC score for trainset: 0.9625710354884667\n"
          ],
          "name": "stdout"
        }
      ]
    },
    {
      "cell_type": "code",
      "metadata": {
        "id": "AoA1zmAQFqX-",
        "colab_type": "code",
        "outputId": "977736b7-e117-4480-b32c-c832380c3593",
        "colab": {
          "base_uri": "https://localhost:8080/",
          "height": 206
        }
      },
      "source": [
        "model.fit(features,trainset.label)\n",
        "predictions = model.predict_proba(test_features)[:,1]\n",
        "\n",
        "sample_submission = pd.DataFrame({'index': testset['index'], 'label': predictions})\n",
        "sample_submission.head()"
      ],
      "execution_count": 25,
      "outputs": [
        {
          "output_type": "execute_result",
          "data": {
            "text/html": [
              "<div>\n",
              "<style scoped>\n",
              "    .dataframe tbody tr th:only-of-type {\n",
              "        vertical-align: middle;\n",
              "    }\n",
              "\n",
              "    .dataframe tbody tr th {\n",
              "        vertical-align: top;\n",
              "    }\n",
              "\n",
              "    .dataframe thead th {\n",
              "        text-align: right;\n",
              "    }\n",
              "</style>\n",
              "<table border=\"1\" class=\"dataframe\">\n",
              "  <thead>\n",
              "    <tr style=\"text-align: right;\">\n",
              "      <th></th>\n",
              "      <th>index</th>\n",
              "      <th>label</th>\n",
              "    </tr>\n",
              "  </thead>\n",
              "  <tbody>\n",
              "    <tr>\n",
              "      <th>0</th>\n",
              "      <td>0</td>\n",
              "      <td>0.003482</td>\n",
              "    </tr>\n",
              "    <tr>\n",
              "      <th>1</th>\n",
              "      <td>1</td>\n",
              "      <td>0.361247</td>\n",
              "    </tr>\n",
              "    <tr>\n",
              "      <th>2</th>\n",
              "      <td>2</td>\n",
              "      <td>0.006905</td>\n",
              "    </tr>\n",
              "    <tr>\n",
              "      <th>3</th>\n",
              "      <td>3</td>\n",
              "      <td>0.996765</td>\n",
              "    </tr>\n",
              "    <tr>\n",
              "      <th>4</th>\n",
              "      <td>4</td>\n",
              "      <td>0.945445</td>\n",
              "    </tr>\n",
              "  </tbody>\n",
              "</table>\n",
              "</div>"
            ],
            "text/plain": [
              "   index     label\n",
              "0      0  0.003482\n",
              "1      1  0.361247\n",
              "2      2  0.006905\n",
              "3      3  0.996765\n",
              "4      4  0.945445"
            ]
          },
          "metadata": {
            "tags": []
          },
          "execution_count": 25
        }
      ]
    },
    {
      "cell_type": "code",
      "metadata": {
        "id": "TNRYUHAeF4o0",
        "colab_type": "code",
        "colab": {}
      },
      "source": [
        "filename = \"my_prediction_results4.csv\"\n",
        "sample_submission.to_csv(filename,index=False)"
      ],
      "execution_count": 0,
      "outputs": []
    },
    {
      "cell_type": "markdown",
      "metadata": {
        "id": "j0CVd7JYJmVZ",
        "colab_type": "text"
      },
      "source": [
        "If we would want to take a closer look into the results of the GridsearchCV:"
      ]
    },
    {
      "cell_type": "code",
      "metadata": {
        "id": "quoaJhVOauW3",
        "colab_type": "code",
        "outputId": "c1786f08-9fd6-433c-aab6-73896278bc19",
        "colab": {
          "base_uri": "https://localhost:8080/",
          "height": 458
        }
      },
      "source": [
        "means = grid_search.cv_results_['mean_test_score']\n",
        "stds = grid_search.cv_results_['std_test_score']\n",
        "\n",
        "for mean_score, std, params in zip(means, stds, grid_search.cv_results_['params']):\n",
        "    print(\"{:.3f} (+/-{:.3f}) for {}\".format(mean_score, std * 2, params))"
      ],
      "execution_count": 11,
      "outputs": [
        {
          "output_type": "stream",
          "text": [
            "0.812 (+/-0.035) for {'C': 1, 'gamma': 'scale'}\n",
            "0.811 (+/-0.038) for {'C': 1, 'gamma': 'auto'}\n",
            "0.901 (+/-0.032) for {'C': 1, 'gamma': 1}\n",
            "0.678 (+/-0.042) for {'C': 1, 'gamma': 0.01}\n",
            "0.870 (+/-0.042) for {'C': 10, 'gamma': 'scale'}\n",
            "0.870 (+/-0.045) for {'C': 10, 'gamma': 'auto'}\n",
            "0.908 (+/-0.026) for {'C': 10, 'gamma': 1}\n",
            "0.747 (+/-0.007) for {'C': 10, 'gamma': 0.01}\n",
            "0.886 (+/-0.037) for {'C': 20, 'gamma': 'scale'}\n",
            "0.886 (+/-0.037) for {'C': 20, 'gamma': 'auto'}\n",
            "0.908 (+/-0.026) for {'C': 20, 'gamma': 1}\n",
            "0.772 (+/-0.018) for {'C': 20, 'gamma': 0.01}\n",
            "0.890 (+/-0.031) for {'C': 50, 'gamma': 'scale'}\n",
            "0.889 (+/-0.030) for {'C': 50, 'gamma': 'auto'}\n",
            "0.908 (+/-0.026) for {'C': 50, 'gamma': 1}\n",
            "0.802 (+/-0.031) for {'C': 50, 'gamma': 0.01}\n",
            "0.889 (+/-0.035) for {'C': 80, 'gamma': 'scale'}\n",
            "0.889 (+/-0.035) for {'C': 80, 'gamma': 'auto'}\n",
            "0.908 (+/-0.026) for {'C': 80, 'gamma': 1}\n",
            "0.810 (+/-0.036) for {'C': 80, 'gamma': 0.01}\n",
            "0.890 (+/-0.031) for {'C': 100, 'gamma': 'scale'}\n",
            "0.889 (+/-0.035) for {'C': 100, 'gamma': 'auto'}\n",
            "0.908 (+/-0.026) for {'C': 100, 'gamma': 1}\n",
            "0.818 (+/-0.033) for {'C': 100, 'gamma': 0.01}\n"
          ],
          "name": "stdout"
        }
      ]
    },
    {
      "cell_type": "markdown",
      "metadata": {
        "id": "HC5XXd7jDlck",
        "colab_type": "text"
      },
      "source": [
        "Everything from here are just ideas that I still need to work out, so don't look at it.\n",
        "\n",
        "I'll try something different on this later, maybe within a few days I will look into this bagging methods, and maybe I could apply it to this model because I think the complexity is becoming rather high with these parameters. So it is a model with low bias, but high variance."
      ]
    },
    {
      "cell_type": "code",
      "metadata": {
        "id": "twYq_8ImDqHy",
        "colab_type": "code",
        "outputId": "50d822d6-e117-4612-d6cd-d76234a93c2f",
        "colab": {
          "base_uri": "https://localhost:8080/",
          "height": 35
        }
      },
      "source": [
        "#Basically just copy/paste, so this cell is not relevant now\n",
        "from sklearn.svm import SVC\n",
        "from sklearn.ensemble import BaggingClassifier\n",
        "\n",
        "clf = BaggingClassifier(base_estimator=SVC(),\n",
        "                        n_estimators=100, random_state=0).fit(features, trainset.label)\n",
        "\n",
        "score_train = cross_val_score(clf, features, trainset.label,scoring='roc_auc', cv= 10).mean()\n",
        "print('AUC score for trainset: '+ str(score_train))"
      ],
      "execution_count": 0,
      "outputs": [
        {
          "output_type": "stream",
          "text": [
            "AUC score for trainset: 0.625344491390363\n"
          ],
          "name": "stdout"
        }
      ]
    },
    {
      "cell_type": "markdown",
      "metadata": {
        "id": "2dVu_wClh05-",
        "colab_type": "text"
      },
      "source": [
        "# Further trying to improve this model: feature selection!\n",
        "\n",
        "For classification: chi2, f_classif, mutual_info_classif"
      ]
    },
    {
      "cell_type": "code",
      "metadata": {
        "id": "RPgR-QW9h7P_",
        "colab_type": "code",
        "colab": {}
      },
      "source": [
        "from sklearn.feature_selection import SelectKBest, mutual_info_classif \n",
        "from sklearn.pipeline import make_pipeline\n",
        "\n",
        "anova_filter = SelectKBest(mutual_info_classif, k=12)\n",
        "clf = SVC(C=10,gamma=1, probability=True)\n",
        "\n",
        "anova_svm = make_pipeline(anova_filter, clf)\n",
        "anova_svm.fit(features, trainset.label)\n",
        "y_pred = anova_svm.predict(test_features)\n"
      ],
      "execution_count": 0,
      "outputs": []
    },
    {
      "cell_type": "code",
      "metadata": {
        "id": "dPV9_TfYiqRh",
        "colab_type": "code",
        "colab": {
          "base_uri": "https://localhost:8080/",
          "height": 35
        },
        "outputId": "51410cad-b04d-4558-b0c2-27780cc49aca"
      },
      "source": [
        "model=anova_svm\n",
        "score = cross_val_score(model, features, trainset.label,scoring='roc_auc', cv= 10).mean()\n",
        "print('AUC score for trainset: '+ str(score))"
      ],
      "execution_count": 57,
      "outputs": [
        {
          "output_type": "stream",
          "text": [
            "AUC score for trainset: 0.919701767142134\n"
          ],
          "name": "stdout"
        }
      ]
    },
    {
      "cell_type": "markdown",
      "metadata": {
        "id": "wdoKIJKgtpqW",
        "colab_type": "text"
      },
      "source": [
        "I think that it isn't wise to leave out some features, because AUC score isn't improving at all if you leave out some features..."
      ]
    },
    {
      "cell_type": "code",
      "metadata": {
        "id": "oayoxtamrBFW",
        "colab_type": "code",
        "colab": {}
      },
      "source": [
        ""
      ],
      "execution_count": 0,
      "outputs": []
    },
    {
      "cell_type": "markdown",
      "metadata": {
        "id": "Xyu0d4_-vnoC",
        "colab_type": "text"
      },
      "source": [
        "Everything beneath this cell are just some idea's that are not examined yet.."
      ]
    },
    {
      "cell_type": "markdown",
      "metadata": {
        "id": "jrtLizyEGE6N",
        "colab_type": "text"
      },
      "source": [
        "##svc bagging\n",
        "\n",
        "I will try to use a bagging method on this model to somehow reduce variance of this complex model."
      ]
    },
    {
      "cell_type": "code",
      "metadata": {
        "id": "RVOU6a4qGWsZ",
        "colab_type": "code",
        "colab": {}
      },
      "source": [
        "from sklearn.ensemble import BaggingClassifier\n",
        "clf = BaggingClassifier(base_estimator=model, n_estimators=10, random_state=0).fit(features, trainset.label)\n"
      ],
      "execution_count": 0,
      "outputs": []
    },
    {
      "cell_type": "code",
      "metadata": {
        "id": "eYIdpYieI1-x",
        "colab_type": "code",
        "outputId": "fe652ca9-a842-444b-ec9d-7ba0a25e5dcc",
        "colab": {
          "base_uri": "https://localhost:8080/",
          "height": 172
        }
      },
      "source": [
        "clf.cross_val_score(model, features, trainset.label,scoring='roc_auc', cv= 10).mean()"
      ],
      "execution_count": 0,
      "outputs": [
        {
          "output_type": "error",
          "ename": "AttributeError",
          "evalue": "ignored",
          "traceback": [
            "\u001b[0;31m---------------------------------------------------------------------------\u001b[0m",
            "\u001b[0;31mAttributeError\u001b[0m                            Traceback (most recent call last)",
            "\u001b[0;32m<ipython-input-42-46109b0e80dc>\u001b[0m in \u001b[0;36m<module>\u001b[0;34m()\u001b[0m\n\u001b[0;32m----> 1\u001b[0;31m \u001b[0mclf\u001b[0m\u001b[0;34m.\u001b[0m\u001b[0mcross_val_score\u001b[0m\u001b[0;34m(\u001b[0m\u001b[0mmodel\u001b[0m\u001b[0;34m,\u001b[0m \u001b[0mfeatures\u001b[0m\u001b[0;34m,\u001b[0m \u001b[0mtrainset\u001b[0m\u001b[0;34m.\u001b[0m\u001b[0mlabel\u001b[0m\u001b[0;34m,\u001b[0m\u001b[0mscoring\u001b[0m\u001b[0;34m=\u001b[0m\u001b[0;34m'roc_auc'\u001b[0m\u001b[0;34m,\u001b[0m \u001b[0mcv\u001b[0m\u001b[0;34m=\u001b[0m \u001b[0;36m10\u001b[0m\u001b[0;34m)\u001b[0m\u001b[0;34m.\u001b[0m\u001b[0mmean\u001b[0m\u001b[0;34m(\u001b[0m\u001b[0;34m)\u001b[0m\u001b[0;34m\u001b[0m\u001b[0;34m\u001b[0m\u001b[0m\n\u001b[0m",
            "\u001b[0;31mAttributeError\u001b[0m: 'BaggingClassifier' object has no attribute 'cross_val_score'"
          ]
        }
      ]
    },
    {
      "cell_type": "markdown",
      "metadata": {
        "id": "ZXqxpMnZP9yX",
        "colab_type": "text"
      },
      "source": [
        "##K-nearest neighbour algorithm\n",
        "\n",
        "Maybe I can try this too? We'll see.. This don't realy needs to be in this notebook, but it's an idea that I can explore maybe one of the next days.\n",
        "\n",
        "First **loading data**"
      ]
    }
  ]
}